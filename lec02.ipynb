{
 "cells": [
  {
   "cell_type": "markdown",
   "metadata": {
    "slideshow": {
     "slide_type": "slide"
    }
   },
   "source": [
    "<h1 style=\"color:#872325\">List & Tuples</h1>"
   ]
  },
  {
   "cell_type": "markdown",
   "metadata": {
    "slideshow": {
     "slide_type": "slide"
    }
   },
   "source": [
    "## [Lists]\n",
    "Una lista es un arreglo *ordenado* de elementos. Se define por valores separados por coma y encerrados por dos corchetes (`[]`)"
   ]
  },
  {
   "cell_type": "code",
   "execution_count": null,
   "metadata": {},
   "outputs": [],
   "source": [
    "# Como inicializamos o creamos una lista\n",
    "mi_lista = []\n",
    "otra_lista = list()\n",
    "\n",
    "print(mi_lista)\n",
    "print(otra_lista)"
   ]
  },
  {
   "cell_type": "code",
   "execution_count": null,
   "metadata": {},
   "outputs": [],
   "source": [
    "materias = [\"CALCULO\", \"PROBABILIDAD\", \"ESTADISTICA\", \"PROGRAMACION\"]\n",
    "print(type(materias))"
   ]
  },
  {
   "cell_type": "markdown",
   "metadata": {
    "slideshow": {
     "slide_type": "slide"
    }
   },
   "source": [
    "### Subsetting:\n",
    "En una lista, al igual que con string (una sequencia ordenada de carácteres), accedemos a los valores de una lista usando la misma notación de corchetes."
   ]
  },
  {
   "cell_type": "code",
   "execution_count": null,
   "metadata": {},
   "outputs": [],
   "source": []
  },
  {
   "cell_type": "markdown",
   "metadata": {},
   "source": [
    "<h2 style=\"color:#d62728\">Ejercicios</h2>\n",
    "Dada la lista de materias\n",
    "\n",
    "1. Accede al primer elemento de la lista\n",
    "2. Accede al tercer elmento de la lista\n",
    "3. Accede al último elmento dentro de la lista\n",
    "4. Accede del segundo al cuarto elemento de la lista\n",
    "5. Accede al último carácter del primer elemento"
   ]
  },
  {
   "cell_type": "code",
   "execution_count": null,
   "metadata": {},
   "outputs": [],
   "source": []
  },
  {
   "cell_type": "markdown",
   "metadata": {
    "slideshow": {
     "slide_type": "fragment"
    }
   },
   "source": [
    "**Número de elementos**  \n",
    "Por medio de la función `len` podemos conocer el número de elementos dentro de una lista."
   ]
  },
  {
   "cell_type": "markdown",
   "metadata": {
    "slideshow": {
     "slide_type": "fragment"
    }
   },
   "source": [
    "**Suma de elementos**  \n",
    "Otra de las funciones incluidas en Python es `sum`, sobre la cuál podemos sumar todos los elementos de la lista"
   ]
  },
  {
   "cell_type": "code",
   "execution_count": null,
   "metadata": {},
   "outputs": [],
   "source": []
  },
  {
   "cell_type": "markdown",
   "metadata": {
    "slideshow": {
     "slide_type": "slide"
    }
   },
   "source": [
    "## Índices\n",
    "A diferencia de un `str`, un `list` nos permite obtener, asignar, reemplazar y eliminar valores dentro de una lista."
   ]
  },
  {
   "cell_type": "code",
   "execution_count": null,
   "metadata": {},
   "outputs": [],
   "source": []
  },
  {
   "cell_type": "markdown",
   "metadata": {
    "slideshow": {
     "slide_type": "slide"
    }
   },
   "source": [
    "### Estructura:\n",
    "Las listas pueden agrupar cualquier tipo de objeto"
   ]
  },
  {
   "cell_type": "code",
   "execution_count": null,
   "metadata": {},
   "outputs": [],
   "source": []
  },
  {
   "cell_type": "markdown",
   "metadata": {
    "slideshow": {
     "slide_type": "slide"
    }
   },
   "source": [
    "### Concatenar dos listas"
   ]
  },
  {
   "cell_type": "code",
   "execution_count": null,
   "metadata": {},
   "outputs": [],
   "source": []
  },
  {
   "cell_type": "markdown",
   "metadata": {
    "slideshow": {
     "slide_type": "slide"
    }
   },
   "source": [
    "### Copiar dos listas"
   ]
  },
  {
   "cell_type": "markdown",
   "metadata": {
    "slideshow": {
     "slide_type": "fragment"
    }
   },
   "source": [
    "Cada elemento en python lo identifica un único `id`."
   ]
  },
  {
   "cell_type": "code",
   "execution_count": null,
   "metadata": {},
   "outputs": [],
   "source": []
  },
  {
   "cell_type": "markdown",
   "metadata": {
    "slideshow": {
     "slide_type": "slide"
    }
   },
   "source": [
    "para copiar una lista se indexa sobre todos los elementos de la lista "
   ]
  },
  {
   "cell_type": "code",
   "execution_count": null,
   "metadata": {},
   "outputs": [],
   "source": []
  },
  {
   "cell_type": "markdown",
   "metadata": {
    "slideshow": {
     "slide_type": "slide"
    }
   },
   "source": [
    "### Métodos de un `list`\n",
    "Al igual que los strings, las listas contienen métodos (funciones definidas para una sola clase)"
   ]
  },
  {
   "cell_type": "code",
   "execution_count": null,
   "metadata": {},
   "outputs": [],
   "source": []
  },
  {
   "cell_type": "markdown",
   "metadata": {},
   "source": [
    "### `str`s y `list`s\n",
    "Los strings contienen métodos cuyos resultados o argumentos contienen listas"
   ]
  },
  {
   "cell_type": "code",
   "execution_count": null,
   "metadata": {},
   "outputs": [],
   "source": []
  },
  {
   "cell_type": "markdown",
   "metadata": {
    "slideshow": {
     "slide_type": "slide"
    }
   },
   "source": [
    "<h2 style=\"color:#B22222\"> Ejercicios </h2>\n",
    "\n",
    "1. Considera la lista `numeros0` y cálcula el valor promedio\n",
    "```python\n",
    "numeros0 = [1, 1, 2, 3, 5, 8, 13]\n",
    "```\n",
    "2. Considera la lista `numeros1` y cálcula la suma del primer, último y el número en medio de la lista (**nota:** El número de elementos en la lista es impar)\n",
    "```python\n",
    "numeros1 = [0, 7, 20, 11, 1, 17, 4, 13, 9, 0, 12, 18, 5, 10, 8, 0, 10, 6, 19, 19, 10, 9, 4, 4, 18, 18, 0]\n",
    "```\n",
    "1. Considerando `list1`, reemplaza cada elemento `\"a\"` por `\"*\"`.\n",
    "```python\n",
    "list1 = [\"a\", \"b\", \"a\", \"d\", \"a\", \"a\", \"c\"]\n",
    "```"
   ]
  },
  {
   "cell_type": "code",
   "execution_count": null,
   "metadata": {},
   "outputs": [],
   "source": []
  },
  {
   "cell_type": "markdown",
   "metadata": {
    "slideshow": {
     "slide_type": "slide"
    }
   },
   "source": [
    "# (Tuples)\n",
    "Arreglo ordenado e inmutable de elementos"
   ]
  },
  {
   "cell_type": "code",
   "execution_count": null,
   "metadata": {},
   "outputs": [],
   "source": []
  },
  {
   "cell_type": "markdown",
   "metadata": {
    "slideshow": {
     "slide_type": "slide"
    }
   },
   "source": [
    "### Propiedades de un *tuple*:"
   ]
  },
  {
   "cell_type": "code",
   "execution_count": null,
   "metadata": {},
   "outputs": [],
   "source": []
  },
  {
   "cell_type": "markdown",
   "metadata": {
    "slideshow": {
     "slide_type": "slide"
    }
   },
   "source": [
    "### ¿Por qué usar un *tuple*?"
   ]
  },
  {
   "cell_type": "markdown",
   "metadata": {
    "slideshow": {
     "slide_type": "slide"
    }
   },
   "source": [
    "### Ejemplo: Un tuple para asignar valores"
   ]
  },
  {
   "cell_type": "code",
   "execution_count": null,
   "metadata": {},
   "outputs": [],
   "source": [
    "strikes_opciones = (90, 100, 100)"
   ]
  },
  {
   "cell_type": "code",
   "execution_count": null,
   "metadata": {},
   "outputs": [],
   "source": [
    "strike_1, strike_2, strike_3 = strikes_opciones"
   ]
  },
  {
   "cell_type": "code",
   "execution_count": null,
   "metadata": {},
   "outputs": [],
   "source": [
    "print(strike_1)\n",
    "print(strike_2)\n",
    "print(strike_3)"
   ]
  },
  {
   "cell_type": "code",
   "execution_count": null,
   "metadata": {},
   "outputs": [],
   "source": [
    "strike_1, strike_2, strike_3"
   ]
  },
  {
   "cell_type": "code",
   "execution_count": null,
   "metadata": {},
   "outputs": [],
   "source": [
    "# Tambien sirve para intercambiar valores de dos variable\n",
    "x = 100\n",
    "y = 5"
   ]
  },
  {
   "cell_type": "code",
   "execution_count": null,
   "metadata": {},
   "outputs": [],
   "source": [
    "temp = x\n",
    "x = y\n",
    "y = temp\n",
    "print('x:',x)\n",
    "print('y:',y)"
   ]
  },
  {
   "cell_type": "code",
   "execution_count": null,
   "metadata": {},
   "outputs": [],
   "source": [
    "x = 100\n",
    "y = 5\n",
    "\n",
    "(x, y) = (y, x)\n",
    "\n",
    "print('x:',x)\n",
    "print('y:',y)"
   ]
  },
  {
   "cell_type": "markdown",
   "metadata": {
    "slideshow": {
     "slide_type": "slide"
    }
   },
   "source": [
    "# {Diccionaries: Values}\n",
    "Hasta el momento hemos visto colecciones de elementos ordenados por un único índice número y numerado. Ahora veremos otra clase de objetos, los **diccionarios**, los cuáles son listas asociativas indexadas por llave; no por orden.\n",
    "\n",
    "La sintáxis de un diccionario:\n",
    "```python\n",
    "{llave1: valor1,\n",
    " llave2: valor2,\n",
    " ...\n",
    " llaven: valorn}\n",
    "```"
   ]
  },
  {
   "cell_type": "markdown",
   "metadata": {
    "slideshow": {
     "slide_type": "slide"
    }
   },
   "source": [
    "### ¿Por qué usaríamos un diccionario y no una lista?:\n",
    "Un diccionario de personas"
   ]
  },
  {
   "cell_type": "code",
   "execution_count": null,
   "metadata": {},
   "outputs": [],
   "source": [
    "nombres = [\"ANA\", \"BETO\", \"JOSE\"]\n",
    "calificacion = [10, 9, 7]\n",
    "curso = [\"MATEMATICAS\", \"FINANZAS\", \"FINANZAS\"]"
   ]
  },
  {
   "cell_type": "code",
   "execution_count": null,
   "metadata": {},
   "outputs": [],
   "source": [
    "idx = 0\n",
    "print(f'El alumno: {nombres[idx]}, sacó: {calificacion[idx]}, en la materia: {curso[idx]}')\n",
    "idx = 1\n",
    "print(f'El alumno: {nombres[idx]}, sacó: {calificacion[idx]}, en la materia: {curso[idx]}')\n",
    "idx = 2\n",
    "print(f'El alumno: {nombres[idx]}, sacó: {calificacion[idx]}, en la materia: {curso[idx]}')"
   ]
  },
  {
   "cell_type": "code",
   "execution_count": null,
   "metadata": {},
   "outputs": [],
   "source": [
    "alumnos = {\"ANA\": [10, \"MATEMATICAS\"], \"BETO\": [9, \"FINANZAS\"], \"JOSE\": [7, \"FINANZAS\"]}"
   ]
  },
  {
   "cell_type": "code",
   "execution_count": null,
   "metadata": {},
   "outputs": [],
   "source": [
    "print(\"ANA:\", alumnos[\"ANA\"])\n",
    "print(\"BETO:\", alumnos[\"BETO\"])\n",
    "print(\"JOSE:\", alumnos[\"JOSE\"])"
   ]
  },
  {
   "cell_type": "code",
   "execution_count": null,
   "metadata": {},
   "outputs": [],
   "source": [
    "# Las llaves deben ser unicas e inmutables (no es recomendable utilizar flotantes)\n",
    "# Los valores SÍ pueden ser cualquier tipo de objeto\n",
    "mi_dict = {1: \"uno\", 2: [\"d\",\"o\",\"s\"], 3: \"tres\"}"
   ]
  },
  {
   "cell_type": "code",
   "execution_count": null,
   "metadata": {},
   "outputs": [],
   "source": [
    "# No podemos tener llaves duplicadas\n",
    "mi_dict = {1: \"uno\", 2: \"dos\", 3: \"tres\", 3: \"tres!\"}\n",
    "mi_dict"
   ]
  },
  {
   "cell_type": "markdown",
   "metadata": {},
   "source": [
    "### Métodos dentro de un diccionario"
   ]
  },
  {
   "cell_type": "code",
   "execution_count": null,
   "metadata": {},
   "outputs": [],
   "source": [
    "# Nos va a regresar las llaves del diccionario\n",
    "alumnos.keys()"
   ]
  },
  {
   "cell_type": "code",
   "execution_count": null,
   "metadata": {},
   "outputs": [],
   "source": [
    "# Nos va a regresar los valores del diccionario\n",
    "alumnos.values()"
   ]
  },
  {
   "cell_type": "code",
   "execution_count": null,
   "metadata": {},
   "outputs": [],
   "source": [
    "# Nos va a regresar una lista de tuplas con dos elementos. El primer elemento es la llave y el segundo el valor -> \n",
    "# (llave, valor)\n",
    "alumnos.items()"
   ]
  },
  {
   "cell_type": "markdown",
   "metadata": {},
   "source": [
    "## {Sets}\n",
    "\n",
    "Un `set` (conjunto) es una colección no ordenada de valores únicos. Para dos conjuntos `A`, `B` y valores `a` dentro de `A` y `b` dentro de `B`, se cumplen con las siguientes características\n",
    "* `A & B` (Intersección): Elementos en `A` y en `B`\n",
    "* `A | B` (Unión): Elementos en `A` o en `B`\n",
    "* `A - B` (Diferencia): Elementos en `A` no presentes en `B`\n",
    "* `A ^ B` (Diferencia Simétrica): Elementos en cualquiera de los conjuntos `A` o `B`, mas no en los dos.\n",
    "* `A <= B` (Subconjunto): Prueba si todos los elementos en `A` se encuentran dentro de `B`\n",
    "* `A >= B` (Superconjunto): Prueba si todos los elementos en `B` se encuentran dentro de `A`"
   ]
  },
  {
   "cell_type": "code",
   "execution_count": null,
   "metadata": {},
   "outputs": [],
   "source": [
    "# No tienen que ser valores unicos\n",
    "mi_lista = [\"a\", \"a\", \"a\", \"a\"]\n",
    "mi_lista"
   ]
  },
  {
   "cell_type": "code",
   "execution_count": null,
   "metadata": {},
   "outputs": [],
   "source": [
    "set(mi_lista)"
   ]
  },
  {
   "cell_type": "code",
   "execution_count": null,
   "metadata": {},
   "outputs": [],
   "source": [
    "vocales = {\"a\", \"e\", \"i\", \"o\", \"u\"}\n",
    "type(vocales)"
   ]
  },
  {
   "cell_type": "code",
   "execution_count": null,
   "metadata": {},
   "outputs": [],
   "source": [
    "print(vocales)"
   ]
  },
  {
   "cell_type": "code",
   "execution_count": null,
   "metadata": {},
   "outputs": [],
   "source": [
    "palabra = {\"c\", \"a\", \"r\", \"r\", \"o\"}"
   ]
  },
  {
   "cell_type": "code",
   "execution_count": null,
   "metadata": {},
   "outputs": [],
   "source": [
    "#Solo valores unicos\n",
    "print(palabra)"
   ]
  },
  {
   "cell_type": "code",
   "execution_count": null,
   "metadata": {},
   "outputs": [],
   "source": [
    "palabra & vocales"
   ]
  },
  {
   "cell_type": "code",
   "execution_count": null,
   "metadata": {},
   "outputs": [],
   "source": [
    "palabra | vocales"
   ]
  },
  {
   "cell_type": "code",
   "execution_count": null,
   "metadata": {},
   "outputs": [],
   "source": [
    "palabra - vocales"
   ]
  },
  {
   "cell_type": "code",
   "execution_count": null,
   "metadata": {
    "scrolled": true
   },
   "outputs": [],
   "source": [
    "vocales - palabra"
   ]
  },
  {
   "cell_type": "code",
   "execution_count": null,
   "metadata": {},
   "outputs": [],
   "source": [
    "vocales ^ palabra"
   ]
  },
  {
   "cell_type": "markdown",
   "metadata": {
    "slideshow": {
     "slide_type": "slide"
    }
   },
   "source": [
    "<h2 style=\"color:#B22222\"> Ejercicio </h2>\n",
    "\n",
    "1. Dado el diccionario `vocales`, accede al primer elemento dentro de la llave `\"minusculas\"`\n",
    "```python\n",
    "vocales = {\n",
    "    \"mayusculas\": ['A', 'E', 'I', 'O', 'U'],\n",
    "    \"minusculas\": ['a', 'e', 'i', 'o', 'u']\n",
    "}\n",
    "```\n",
    "2. Modifica el diccionario `alumnos` de tal manera que cada llave del diccionario sea el nombre del estudiante y el valor un diccionario adicional con las llaves `\"edad\"`, `\"color_favorito\"`, `\"carrera\"`, asignados a sus valores correspondientes.\n",
    "3. ¿Cuál es la longitud del set `{'q', 'u', 'e', 'u', 'e'}`? Explica.\n",
    "4. Considerando los conjuntos `investor1`, `investor2` e `investor3`\n",
    "    * Encuentra todas las acciones que `investor1`, `investor2`, `investor3` e `investor4` tienen en conjunto\n",
    "    * Encuentra las acciones que `investor1`, `investor3` e `investor4` tienen en común\n",
    "\n",
    "```python\n",
    "investor1 = {'HOTEL', 'CHDRAUI', 'ALPEK', 'VISTA', 'MFRISCO', 'AHMSA', 'LAB', 'SPORT', 'SAVIA', 'LASEG'}\n",
    "investor2 = {'CMOCTEZ', 'BEVIDES', 'OMA', 'GNP', 'AGRIEXP', 'SPORT', 'TRAXION', 'GENTERA', 'COLLADO', 'LAMOSA'}\n",
    "investor3 = {'FEMSA', 'ALSEA', 'BIMBO', 'ELEMENT', 'FINAMEX', 'GCC', 'VISTA', 'GEO', 'IENOVA', 'OMA', 'CADU', 'ANB', 'AUTLAN', 'GICSA', 'GFNORTE', 'IDEAL', 'MEXCHEM', 'ELEKTRA', 'SITES', 'CABLE'}\n",
    "investor4 = {'GENTERA', 'BOLSA', 'VISTA', 'TEAK', 'ACCELSA', 'CUERVO', 'TEKCHEM', 'QBINDUS', 'MEDICA', 'URBI', 'CIE', 'NEMAK', 'KIMBER', 'GPH', 'GMD', 'ACTINVR', 'GAP', 'JAVER', 'INGEAL', 'ARA'}\n",
    "```"
   ]
  },
  {
   "cell_type": "code",
   "execution_count": null,
   "metadata": {},
   "outputs": [],
   "source": []
  }
 ],
 "metadata": {
  "celltoolbar": "Slideshow",
  "kernelspec": {
   "display_name": "Python 3 (ipykernel)",
   "language": "python",
   "name": "python3"
  },
  "language_info": {
   "codemirror_mode": {
    "name": "ipython",
    "version": 3
   },
   "file_extension": ".py",
   "mimetype": "text/x-python",
   "name": "python",
   "nbconvert_exporter": "python",
   "pygments_lexer": "ipython3",
   "version": "3.9.12"
  }
 },
 "nbformat": 4,
 "nbformat_minor": 2
}
