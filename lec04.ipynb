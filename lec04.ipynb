{
 "cells": [
  {
   "cell_type": "markdown",
   "metadata": {
    "slideshow": {
     "slide_type": "slide"
    }
   },
   "source": [
    "<h1 style=\"color:#872325\">Cíclos</h1>"
   ]
  },
  {
   "cell_type": "markdown",
   "metadata": {},
   "source": [
    "Los cíclos o *loops* son comunmente usadas cuando tenemos un bloque de código el cuál deseamos repetir un número finito de veces.\n",
    "\n",
    "Supongamos queremos calcular el área ($A = \\pi r^2$) de un número $n$ de círculos. Dada una lista de radios `radios = [1, 3, 5, 2, 1, 10]` y considerando `pi = 3.14159265`. ¿De qué manera podríamos calcular el área de cada uno de los círculos?\n",
    "\n",
    "Una primera manera sería considerar cada elemento dentro de \"radios\" e imprimir el resultado\n",
    "```python\n",
    "radios = [1, 3, 5, 2, 1, 10]\n",
    "pi = 3.14159265\n",
    "print(pi * radios[0] ** 2)\n",
    "print(pi * radios[1] ** 2)\n",
    "print(pi * radios[2] ** 2)\n",
    "print(pi * radios[3] ** 2)\n",
    "print(pi * radios[4] ** 2)\n",
    "print(pi * radios[5] ** 2)\n",
    "```"
   ]
  },
  {
   "cell_type": "code",
   "execution_count": 1,
   "metadata": {},
   "outputs": [
    {
     "name": "stdout",
     "output_type": "stream",
     "text": [
      "3.14159265\n",
      "28.27433385\n",
      "78.53981625\n",
      "12.5663706\n",
      "3.14159265\n",
      "314.159265\n"
     ]
    }
   ],
   "source": [
    "radios = [1, 3, 5, 2, 1, 10]\n",
    "pi = 3.14159265\n",
    "print(pi * radios[0] ** 2)\n",
    "print(pi * radios[1] ** 2)\n",
    "print(pi * radios[2] ** 2)\n",
    "print(pi * radios[3] ** 2)\n",
    "print(pi * radios[4] ** 2)\n",
    "print(pi * radios[5] ** 2)"
   ]
  },
  {
   "cell_type": "markdown",
   "metadata": {},
   "source": [
    "La desventaja de hacerlo de esta manera es tener que escribir cada uno de los índices y repetir `print` para cada uno de los elementos. Consideremos ahora que tenemos una nueva lista `radios` dada.\n",
    "```python\n",
    "radios = [69, 24, 61, 27, 93, 67, 16, 66, 79, 3, 84, 4, 2, 82, 17, 88, 1, 74, 65, 4, 82, 3, 21, 12, 62, 9, 96, 68, 63, 88]\n",
    "```\n",
    "\n",
    "Si seguimos la metodología planteada anteriormente, calcular cada uno de los radios sería una tarea tediosa y propensa a errores (si copiamos y pegamos cada `print(pi * radios[i])` existe la posibilidad de no modificar correctamente algunos de los índices).\n",
    "\n",
    "**Practical Advices**  \n",
    "Cuando en nuestro código estemos repitiendo el mismo bloque de código con minuciosas diferencias, es muy probable que necesitemos un *loop*. Siempre sigue el pricipio **DRY** (Don't repeat yourself)"
   ]
  },
  {
   "cell_type": "code",
   "execution_count": 2,
   "metadata": {},
   "outputs": [],
   "source": [
    "radios = [69, 24, 61, 27, 93, 67, 16, 66, 79, 3, 84, 4, 2, 82, 17, 88, 1, 74, 65, 4, 82, 3, 21, 12, 62, 9, 96, 68, 63, 88]"
   ]
  },
  {
   "cell_type": "code",
   "execution_count": 5,
   "metadata": {},
   "outputs": [
    {
     "name": "stdout",
     "output_type": "stream",
     "text": [
      "La lista radios tiene 30 elementos\n"
     ]
    }
   ],
   "source": [
    "print(\"La lista radios tiene\", len(radios), \"elementos\")"
   ]
  },
  {
   "cell_type": "markdown",
   "metadata": {
    "slideshow": {
     "slide_type": "slide"
    }
   },
   "source": [
    "## `For` loops\n",
    "Usamos un `for` loop cuando conocemos de manera exacta el número de veces que deseamos correr el bloque de texto. El ejemplo anterior es un caso para usar un *for loop*.\n",
    "\n",
    "La sintaxis para un *for loop* en python es la siguiente\n",
    "\n",
    "```python\n",
    "for varval in iterable:\n",
    "    ...\n",
    "```\n",
    "\n",
    "* `iterable` es un iterable. A grandes rasgos, un iterable es todo aquello que contenga un índice (una una lista, un diccionario, un string)\n",
    "* `varval` es una variable que toma como valor cada elemento dentro de `iterable`\n",
    "* Todo bloque de código con sangría (4 espacios o tab) despues del `for` se repite por cada `varval` dentro de `iterable`"
   ]
  },
  {
   "cell_type": "markdown",
   "metadata": {},
   "source": [
    "Considerando el ejemplo anterior, \n",
    "```python\n",
    "radios = [1, 3, 5, 2, 1, 10]\n",
    "pi = 3.14159265\n",
    "print(pi * radios[0] ** 2)\n",
    "print(pi * radios[1] ** 2)\n",
    "print(pi * radios[3] ** 2)\n",
    "print(pi * radios[3] ** 2)\n",
    "print(pi * radios[4] ** 2)\n",
    "print(pi * radios[5] ** 2)\n",
    "```\n",
    "\n",
    "Podemos reescribir el código con un *for loop* de la siguiente manera\n",
    "```python\n",
    "radios = [1, 3, 5, 2, 1, 10]\n",
    "pi = 3.14159265\n",
    "for radio in radios:\n",
    "    print(pi * radio ** 2)\n",
    "```"
   ]
  },
  {
   "cell_type": "code",
   "execution_count": 9,
   "metadata": {},
   "outputs": [
    {
     "name": "stdout",
     "output_type": "stream",
     "text": [
      "r=1, A=3.14159265\n",
      "r=3, A=28.27433385\n",
      "r=5, A=78.53981625\n",
      "r=2, A=12.5663706\n",
      "r=1, A=3.14159265\n",
      "r=10, A=314.159265\n"
     ]
    }
   ],
   "source": [
    "radios = [1, 3, 5, 2, 1, 10]\n",
    "pi = 3.14159265\n",
    "for r in radios:\n",
    "    print(f\"r={r}, A={pi * r ** 2}\")"
   ]
  },
  {
   "cell_type": "code",
   "execution_count": 8,
   "metadata": {},
   "outputs": [
    {
     "name": "stdout",
     "output_type": "stream",
     "text": [
      "r=69, A=14957.12260665\n",
      "r=24, A=1809.5573664\n",
      "r=61, A=11689.86625065\n",
      "r=27, A=2290.2210418500003\n",
      "r=93, A=27171.63482985\n",
      "r=67, A=14102.60940585\n",
      "r=16, A=804.2477184\n",
      "r=66, A=13684.7775834\n",
      "r=79, A=19606.67972865\n",
      "r=3, A=28.27433385\n",
      "r=84, A=22167.077738400003\n",
      "r=4, A=50.2654824\n",
      "r=2, A=12.5663706\n",
      "r=82, A=21124.0689786\n",
      "r=17, A=907.92027585\n",
      "r=88, A=24328.493481600002\n",
      "r=1, A=3.14159265\n",
      "r=74, A=17203.361351400003\n",
      "r=65, A=13273.228946250001\n",
      "r=4, A=50.2654824\n",
      "r=82, A=21124.0689786\n",
      "r=3, A=28.27433385\n",
      "r=21, A=1385.4423586500002\n",
      "r=12, A=452.3893416\n",
      "r=62, A=12076.2821466\n",
      "r=9, A=254.46900465000002\n",
      "r=96, A=28952.9178624\n",
      "r=68, A=14526.7244136\n",
      "r=63, A=12468.981227850001\n",
      "r=88, A=24328.493481600002\n"
     ]
    }
   ],
   "source": [
    "radios = [69, 24, 61, 27, 93, 67, 16, 66, 79, 3, 84, 4, 2, 82, 17, 88, 1, 74, 65, 4, 82, 3, 21, 12, 62, 9, 96, 68, 63, 88]\n",
    "pi = 3.14159265\n",
    "for r in radios:\n",
    "    print(f\"r={r}, A={pi * r ** 2}\")"
   ]
  },
  {
   "cell_type": "code",
   "execution_count": 10,
   "metadata": {},
   "outputs": [
    {
     "name": "stdout",
     "output_type": "stream",
     "text": [
      "H\n",
      "o\n",
      "l\n",
      "a\n",
      " \n",
      "m\n",
      "u\n",
      "n\n",
      "d\n",
      "o\n",
      "!\n"
     ]
    }
   ],
   "source": [
    "mi_string = \"Hola mundo!\"\n",
    "\n",
    "for letra in mi_string:\n",
    "    print(letra)"
   ]
  },
  {
   "cell_type": "code",
   "execution_count": 11,
   "metadata": {},
   "outputs": [
    {
     "name": "stdout",
     "output_type": "stream",
     "text": [
      "('a', 123)\n",
      "('b', 1567)\n",
      "('c', 9472)\n"
     ]
    }
   ],
   "source": [
    "mi_dict = {\"a\": 123, \"b\": 1567, \"c\": 9472}\n",
    "\n",
    "for tup in mi_dict.items():\n",
    "    print(tup)"
   ]
  },
  {
   "cell_type": "code",
   "execution_count": 12,
   "metadata": {},
   "outputs": [
    {
     "name": "stdout",
     "output_type": "stream",
     "text": [
      "llave: a, valor: 123\n",
      "llave: b, valor: 1567\n",
      "llave: c, valor: 9472\n"
     ]
    }
   ],
   "source": [
    "mi_dict = {\"a\": 123, \"b\": 1567, \"c\": 9472}\n",
    "\n",
    "for key, value in mi_dict.items():\n",
    "    print(f\"llave: {key}, valor: {value}\")"
   ]
  },
  {
   "cell_type": "code",
   "execution_count": 14,
   "metadata": {},
   "outputs": [
    {
     "name": "stdout",
     "output_type": "stream",
     "text": [
      "123\n",
      "1567\n",
      "9472\n"
     ]
    }
   ],
   "source": [
    "mi_dict = {\"a\": 123, \"b\": 1567, \"c\": 9472}\n",
    "\n",
    "for val in mi_dict.values():\n",
    "    print(val)"
   ]
  },
  {
   "cell_type": "code",
   "execution_count": 15,
   "metadata": {},
   "outputs": [
    {
     "name": "stdout",
     "output_type": "stream",
     "text": [
      "a\n",
      "b\n",
      "c\n"
     ]
    }
   ],
   "source": [
    "mi_dict = {\"a\": 123, \"b\": 1567, \"c\": 9472}\n",
    "\n",
    "for llave in mi_dict.keys():\n",
    "    print(llave)"
   ]
  },
  {
   "cell_type": "code",
   "execution_count": 18,
   "metadata": {},
   "outputs": [
    {
     "name": "stdout",
     "output_type": "stream",
     "text": [
      "14957.12260665\n",
      "1809.5573664\n",
      "11689.86625065\n",
      "2290.2210418500003\n",
      "27171.63482985\n",
      "14102.60940585\n",
      "804.2477184\n",
      "13684.7775834\n",
      "19606.67972865\n",
      "28.27433385\n",
      "22167.077738400003\n",
      "50.2654824\n",
      "12.5663706\n",
      "21124.0689786\n",
      "907.92027585\n",
      "24328.493481600002\n",
      "3.14159265\n",
      "17203.361351400003\n",
      "13273.228946250001\n",
      "50.2654824\n",
      "21124.0689786\n",
      "28.27433385\n",
      "1385.4423586500002\n",
      "452.3893416\n",
      "12076.2821466\n",
      "254.46900465000002\n",
      "28952.9178624\n",
      "14526.7244136\n",
      "12468.981227850001\n",
      "24328.493481600002\n",
      "\n",
      "[14957.12260665, 1809.5573664, 11689.86625065, 2290.2210418500003, 27171.63482985, 14102.60940585, 804.2477184, 13684.7775834, 19606.67972865, 28.27433385, 22167.077738400003, 50.2654824, 12.5663706, 21124.0689786, 907.92027585, 24328.493481600002, 3.14159265, 17203.361351400003, 13273.228946250001, 50.2654824, 21124.0689786, 28.27433385, 1385.4423586500002, 452.3893416, 12076.2821466, 254.46900465000002, 28952.9178624, 14526.7244136, 12468.981227850001, 24328.493481600002]\n"
     ]
    }
   ],
   "source": [
    "radios = [69, 24, 61, 27, 93, 67, 16, 66, 79, 3, 84, 4, 2, 82, 17, 88, 1, 74, 65, 4, 82, 3, 21, 12, 62, 9, 96, 68, 63, 88]\n",
    "areas = []\n",
    "\n",
    "pi = 3.14159265\n",
    "for r in radios:\n",
    "    print(pi * r ** 2)\n",
    "    area = pi * r ** 2\n",
    "    areas.append(area)\n",
    "\n",
    "print()\n",
    "print(areas)"
   ]
  },
  {
   "cell_type": "markdown",
   "metadata": {},
   "source": [
    "**Rangos**  \n",
    "La manera de crear un rango de números dentro de python es mediante la función `range`, la cuál puede ser usado de tres maneras\n",
    "* `range(a)` crea un rango de valores de `0` hsta `a-1`\n",
    "* `range(a, b)` crea un rango de valores de `a` hasta `b-1`\n",
    "* `range(a, b, s)` crea un rango de valores de `a` hasta `b-1` dando saltos `s`"
   ]
  },
  {
   "cell_type": "code",
   "execution_count": 21,
   "metadata": {},
   "outputs": [
    {
     "data": {
      "text/plain": [
       "'string!!!'"
      ]
     },
     "execution_count": 21,
     "metadata": {},
     "output_type": "execute_result"
    }
   ],
   "source": [
    "\"string\" + \"!!!\""
   ]
  },
  {
   "cell_type": "code",
   "execution_count": 24,
   "metadata": {},
   "outputs": [
    {
     "name": "stdout",
     "output_type": "stream",
     "text": [
      "\n",
      "['hola!', 'mundo!', 'python!', 'finanzas!']\n"
     ]
    }
   ],
   "source": [
    "mi_lista = [\"hola\", \"mundo\", \"python\", \"finanzas\"]\n",
    "mi_lista_nueva = []\n",
    "\n",
    "for palabra in mi_lista:\n",
    "    mi_lista_nueva.append(palabra + \"!\")\n",
    "\n",
    "print()\n",
    "print(mi_lista_nueva)"
   ]
  },
  {
   "cell_type": "code",
   "execution_count": 25,
   "metadata": {},
   "outputs": [
    {
     "name": "stdout",
     "output_type": "stream",
     "text": [
      "\n",
      "['hola', 'mundo', 'python', 'finanzas']\n"
     ]
    }
   ],
   "source": [
    "# Otra opcion para modificar cada elemento elemento es acceder a cada elemento\n",
    "# por su indice\n",
    "mi_lista = [\"hola\", \"mundo\", \"python\", \"finanzas\"]\n",
    "\n",
    "for palabra in mi_lista:\n",
    "    palabra = palabra + \"!\"\n",
    "\n",
    "print()\n",
    "print(mi_lista)"
   ]
  },
  {
   "cell_type": "code",
   "execution_count": 28,
   "metadata": {},
   "outputs": [
    {
     "name": "stdout",
     "output_type": "stream",
     "text": [
      "\n",
      "['hola!', 'mundo!', 'python!', 'finanzas!']\n"
     ]
    }
   ],
   "source": [
    "mi_lista = [\"hola\", \"mundo\", \"python\", \"finanzas\"]\n",
    "\n",
    "for indice in range(len(mi_lista)):\n",
    "    mi_lista[indice] = mi_lista[indice] + \"!\"\n",
    "\n",
    "print()\n",
    "print(mi_lista)"
   ]
  },
  {
   "cell_type": "code",
   "execution_count": 29,
   "metadata": {},
   "outputs": [
    {
     "name": "stdout",
     "output_type": "stream",
     "text": [
      "10\n",
      "11\n",
      "12\n",
      "13\n",
      "14\n",
      "15\n",
      "16\n",
      "17\n",
      "18\n",
      "19\n"
     ]
    }
   ],
   "source": [
    "for i in range(10, 20):\n",
    "    print(i)"
   ]
  },
  {
   "cell_type": "code",
   "execution_count": 26,
   "metadata": {},
   "outputs": [
    {
     "name": "stdout",
     "output_type": "stream",
     "text": [
      "10\n",
      "11\n",
      "12\n",
      "13\n",
      "14\n",
      "15\n",
      "16\n",
      "17\n",
      "18\n",
      "19\n"
     ]
    }
   ],
   "source": [
    "i = 10\n",
    "while i<20:\n",
    "    print(i)\n",
    "    i += 1"
   ]
  },
  {
   "cell_type": "code",
   "execution_count": null,
   "metadata": {},
   "outputs": [],
   "source": [
    "# esto no se puede escribir con un ciclo for\n",
    "MAX_ITERACIONES = 100_000\n",
    "convergencia = 1e-6\n",
    "\n",
    "i = 0\n",
    "while (variable_paso_anterior - variable_actual) > convergencia:\n",
    "    # realizamos los calculos necesarios e iteramos\n",
    "    i += 1\n",
    "    if i == MAX_ITERACIONES:\n",
    "        break"
   ]
  },
  {
   "cell_type": "code",
   "execution_count": 30,
   "metadata": {},
   "outputs": [
    {
     "name": "stdout",
     "output_type": "stream",
     "text": [
      "100\n",
      "150\n",
      "200\n",
      "250\n",
      "300\n",
      "350\n",
      "400\n",
      "450\n",
      "500\n",
      "550\n",
      "600\n",
      "650\n",
      "700\n",
      "750\n",
      "800\n",
      "850\n",
      "900\n",
      "950\n"
     ]
    }
   ],
   "source": [
    "for i in range(100, 1000, 50):\n",
    "    print(i)"
   ]
  },
  {
   "cell_type": "markdown",
   "metadata": {
    "slideshow": {
     "slide_type": "slide"
    }
   },
   "source": [
    "## `while` loops\n",
    "A diferencia de un `for` loop, en un `while` loop no necesariamente conocemos el número de veces que se repetirá el ciclo. La sintáxis de un `while` loop es la siguiente.\n",
    "\n",
    "```python\n",
    "while condition:\n",
    "    ...\n",
    "```\n",
    "\n",
    "* `condition` es un booleano el cual es evaluado al princpio de cada ciclo. Si `condition == True`, el bloque de código en sangría es evaluado; de otra manera el ciclo se rompe.\n",
    "\n",
    "Un while loop repite el cíclo siempre y cuando `condition` sea `True`"
   ]
  },
  {
   "cell_type": "code",
   "execution_count": 31,
   "metadata": {},
   "outputs": [
    {
     "name": "stdout",
     "output_type": "stream",
     "text": [
      "0\n",
      "1\n",
      "2\n",
      "3\n",
      "4\n",
      "5\n",
      "6\n",
      "7\n",
      "8\n",
      "9\n",
      "10\n",
      "11\n",
      "12\n",
      "13\n",
      "14\n",
      "15\n",
      "16\n",
      "17\n",
      "18\n",
      "19\n"
     ]
    }
   ],
   "source": [
    "for i in range(20):\n",
    "    print(i)"
   ]
  },
  {
   "cell_type": "code",
   "execution_count": 2,
   "metadata": {
    "scrolled": false
   },
   "outputs": [
    {
     "name": "stdout",
     "output_type": "stream",
     "text": [
      "0\n",
      "1\n",
      "2\n",
      "3\n",
      "4\n",
      "5\n",
      "6\n",
      "7\n",
      "8\n",
      "9\n",
      "10\n",
      "11\n",
      "12\n",
      "13\n",
      "14\n",
      "15\n",
      "16\n",
      "17\n",
      "18\n",
      "19\n"
     ]
    }
   ],
   "source": [
    "k = 0\n",
    "while k < 20:\n",
    "    print(k)\n",
    "    k += 1 # equivalente a k = k + 1"
   ]
  },
  {
   "cell_type": "markdown",
   "metadata": {},
   "source": [
    "**El `break` keyword**  \n",
    "En ocasiones es deseable romper el cíclo antes de empezar la siguiente iteración. En estos casos podemos ocupar `break` para terminar el loop con anticipación."
   ]
  },
  {
   "cell_type": "code",
   "execution_count": 29,
   "metadata": {},
   "outputs": [
    {
     "name": "stdout",
     "output_type": "stream",
     "text": [
      "0\n",
      "1\n",
      "2\n",
      "3\n",
      "4\n",
      "5\n",
      "6\n",
      "7\n",
      "8\n",
      "9\n",
      "10\n",
      "11\n",
      "12\n",
      "13\n",
      "14\n",
      "15\n",
      "********\n"
     ]
    }
   ],
   "source": [
    "for i in range(30):\n",
    "    print(i)\n",
    "    if i == 15:\n",
    "        print(\"********\")\n",
    "        break"
   ]
  },
  {
   "cell_type": "code",
   "execution_count": 31,
   "metadata": {},
   "outputs": [
    {
     "name": "stdout",
     "output_type": "stream",
     "text": [
      "hola\n",
      "mundo\n"
     ]
    }
   ],
   "source": [
    "mi_lista = [\"hola\", \"mundo\", \"python\", \"finanzas\", \"estadistica\", \"programacion\"]\n",
    "\n",
    "for i in mi_lista:\n",
    "    print(i)\n",
    "    if i == \"mundo\":\n",
    "        break"
   ]
  },
  {
   "cell_type": "markdown",
   "metadata": {
    "slideshow": {
     "slide_type": "slide"
    }
   },
   "source": [
    "## Agrupando elementos con `zip`\n",
    "Algunas veces es necesario agrupar dos listas entrada por entrada. Para solucionar este problema en Python podemos usar la función `zip`.\n",
    "\n",
    "`zip` regresa un generador parejas de *tuples* entrada por entrada."
   ]
  },
  {
   "cell_type": "code",
   "execution_count": 34,
   "metadata": {},
   "outputs": [
    {
     "name": "stdout",
     "output_type": "stream",
     "text": [
      "A a\n",
      "B b\n",
      "C c\n",
      "D d\n",
      "E e\n",
      "F f\n",
      "G g\n"
     ]
    }
   ],
   "source": [
    "lista_minus = [\"a\", \"b\", \"c\", \"d\", \"e\", \"f\", \"g\"]\n",
    "lista_mayus = [\"A\", \"B\", \"C\", \"D\", \"E\", \"F\", \"G\"]\n",
    "\n",
    "for x in range(len(lista_minus)):\n",
    "    print(lista_mayus[x], lista_minus[x])"
   ]
  },
  {
   "cell_type": "code",
   "execution_count": 37,
   "metadata": {},
   "outputs": [
    {
     "name": "stdout",
     "output_type": "stream",
     "text": [
      "A a\n",
      "B b\n",
      "C c\n",
      "D d\n",
      "E e\n",
      "F f\n",
      "G g\n"
     ]
    }
   ],
   "source": [
    "for mayus, minus in zip(lista_mayus, lista_minus):\n",
    "    print(mayus, minus)"
   ]
  },
  {
   "cell_type": "code",
   "execution_count": 36,
   "metadata": {},
   "outputs": [
    {
     "data": {
      "text/plain": [
       "[('A', 'a'),\n",
       " ('B', 'b'),\n",
       " ('C', 'c'),\n",
       " ('D', 'd'),\n",
       " ('E', 'e'),\n",
       " ('F', 'f'),\n",
       " ('G', 'g')]"
      ]
     },
     "execution_count": 36,
     "metadata": {},
     "output_type": "execute_result"
    }
   ],
   "source": [
    "list(zip(lista_mayus, lista_minus))"
   ]
  },
  {
   "cell_type": "markdown",
   "metadata": {
    "slideshow": {
     "slide_type": "slide"
    }
   },
   "source": [
    "<h2 style=\"color:#d62728\"> Ejercicio </h2>\n",
    "\n",
    "1. ¿Qué sucede al correr el siguiente código? Explica.\n",
    "```python\n",
    "    for x in 2:\n",
    "        print(x)\n",
    "```\n",
    "1. Considerando la lista `radios` de 30 elementos definida arriba, escribe un programa que cálcule el área para cada uno de los círculos dentro de la lista e imprima, para cada área calculada, `\"El área de un circulo con radio <radio> es <area>\"`; donde `radio` es un elemento dentro de la lista `radios` y `area` es el área de un círculo con radio `radio`\n",
    "1. Escribe un programa que cree el siguiente patrón:\n",
    "```\n",
    "1 \n",
    "1 2 \n",
    "1 2 3 \n",
    "1 2 3 4 \n",
    "1 2 3 4 5 \n",
    "```\n",
    "\n",
    "1. Escribe un programa para adivinar un número:  \n",
    "Considerando un número objetivo `target_num`, el programa le deberá pedir al usuario ingresar un número `input_num`. Si `input_num` > `target_num`, el programa deberá informarle al usuario que su número está por encima del número objetivo; de otra manera, si `input_num` < `target_num`, el programa deberá informarle al usuario que su número se encuentra por debajo del número objetivo. El programa se termina una vez que el usuario adivine el número objetivo, i.e., una vez que `input_num == target_num`.\n",
    "\n",
    "1. Considerando las listas `capitales` y `estados`, escribe un programa que escriba `\"la capital de <estado> es <capital>\"`; donde `<estado>` y `<capital>` representa cada elemento de las listas mencionadas.\n",
    "\n",
    "```\n",
    "capitales = ['Aguascalientes', 'Mexicali', 'La Paz', 'Campeche', 'Saltillo', 'Colima',\n",
    "             'Tuxtla Gutiérrez', 'Chihuahua', 'Ciudad de México', 'Durango', 'Guanajuato',\n",
    "             'Chilpancingo', 'Pachuca', 'Guadalajara', 'Toluca', 'Morelia', 'Cuernavaca', \n",
    "             'Tepic', 'Monterrey', 'Oaxaca', 'Puebla', 'Querétaro', 'Chetumal', 'San Luis Potosí',\n",
    "             'Culiacán', 'Hermosillo', 'Villahermosa', 'Ciudad Victoria', 'Tlaxcala', 'Xalapa',\n",
    "             'Mérida', 'Zacatecas']\n",
    "estados = ['Aguascalientes', 'Baja California', 'Baja California Sur', 'Campeche', 'Coahuila',\n",
    "           'Colima', 'Chiapas', 'Chihuahua', 'Distrito Federal', 'Durango', 'Guanajuato',\n",
    "           'Guerrero', 'Hidalgo', 'Jalisco', 'México', 'Michoacán', 'Morelos', 'Nayarit',\n",
    "           'Nuevo León', 'Oaxaca', 'Puebla', 'Querétaro', 'Quintana Roo', 'San Luis Potosí',\n",
    "           'Sinaloa', 'Sonora', 'Tabasco', 'Tamaulipas', 'Tlaxcala', 'Veracruz', 'Yucatán', 'Zacatecas']\n",
    "```\n",
    "\n",
    "6. Escribe un programa que imprima la siguiente tabla de Multiplicación de 10x10.\n",
    "\n",
    "```\n",
    "01|02 03 04 05 06 07 08 09 10 \n",
    "-----------------------------\n",
    "02|04 06 08 10 12 14 16 18 20 \n",
    "03|06 09 12 15 18 21 24 27 30 \n",
    "04|08 12 16 20 24 28 32 36 40 \n",
    "05|10 15 20 25 30 35 40 45 50 \n",
    "06|12 18 24 30 36 42 48 54 60 \n",
    "07|14 21 28 35 42 49 56 63 70 \n",
    "08|16 24 32 40 48 56 64 72 80 \n",
    "09|18 27 36 45 54 63 72 81 90 \n",
    "10|20 30 40 50 60 70 80 90 100\n",
    "```"
   ]
  },
  {
   "cell_type": "code",
   "execution_count": 38,
   "metadata": {},
   "outputs": [
    {
     "ename": "TypeError",
     "evalue": "'int' object is not iterable",
     "output_type": "error",
     "traceback": [
      "\u001b[1;31m---------------------------------------------------------------------------\u001b[0m",
      "\u001b[1;31mTypeError\u001b[0m                                 Traceback (most recent call last)",
      "Cell \u001b[1;32mIn[38], line 1\u001b[0m\n\u001b[1;32m----> 1\u001b[0m \u001b[38;5;28;01mfor\u001b[39;00m x \u001b[38;5;129;01min\u001b[39;00m \u001b[38;5;241m2\u001b[39m:\n\u001b[0;32m      2\u001b[0m     \u001b[38;5;28mprint\u001b[39m(x)\n",
      "\u001b[1;31mTypeError\u001b[0m: 'int' object is not iterable"
     ]
    }
   ],
   "source": [
    "# Ejercicio 1\n",
    "for x in 2:\n",
    "    print(x)"
   ]
  },
  {
   "cell_type": "code",
   "execution_count": 41,
   "metadata": {},
   "outputs": [
    {
     "name": "stdout",
     "output_type": "stream",
     "text": [
      "El área de un circulo con radio 69 es 14949.5\n",
      "El área de un circulo con radio 24 es 1808.6\n",
      "El área de un circulo con radio 61 es 11683.9\n",
      "El área de un circulo con radio 27 es 2289.1\n",
      "El área de un circulo con radio 93 es 27157.9\n",
      "El área de un circulo con radio 67 es 14095.5\n",
      "El área de un circulo con radio 16 es 803.8\n",
      "El área de un circulo con radio 66 es 13677.8\n",
      "El área de un circulo con radio 79 es 19596.7\n",
      "El área de un circulo con radio 3 es 28.3\n",
      "El área de un circulo con radio 84 es 22155.8\n",
      "El área de un circulo con radio 4 es 50.2\n",
      "El área de un circulo con radio 2 es 12.6\n",
      "El área de un circulo con radio 82 es 21113.4\n",
      "El área de un circulo con radio 17 es 907.5\n",
      "El área de un circulo con radio 88 es 24316.2\n",
      "El área de un circulo con radio 1 es 3.1\n",
      "El área de un circulo con radio 74 es 17194.6\n",
      "El área de un circulo con radio 65 es 13266.5\n",
      "El área de un circulo con radio 4 es 50.2\n",
      "El área de un circulo con radio 82 es 21113.4\n",
      "El área de un circulo con radio 3 es 28.3\n",
      "El área de un circulo con radio 21 es 1384.7\n",
      "El área de un circulo con radio 12 es 452.2\n",
      "El área de un circulo con radio 62 es 12070.2\n",
      "El área de un circulo con radio 9 es 254.3\n",
      "El área de un circulo con radio 96 es 28938.2\n",
      "El área de un circulo con radio 68 es 14519.4\n",
      "El área de un circulo con radio 63 es 12462.7\n",
      "El área de un circulo con radio 88 es 24316.2\n"
     ]
    }
   ],
   "source": [
    "# Ejercicio 2\n",
    "radios = [69, 24, 61, 27, 93, 67, 16, 66, 79, 3, 84, 4, 2, 82, 17, 88, 1, 74, 65, 4, 82, 3, 21, 12, 62, 9, 96, 68, 63, 88]\n",
    "pi = 3.14\n",
    "#\"El área de un circulo con radio <radio> es <area>\"\n",
    "for radio in radios:\n",
    "    area = pi * radio **2\n",
    "    print(f\"El área de un circulo con radio {radio} es {area:.1f}\")"
   ]
  },
  {
   "cell_type": "code",
   "execution_count": 49,
   "metadata": {},
   "outputs": [
    {
     "name": "stdout",
     "output_type": "stream",
     "text": [
      "1\n",
      "1 2\n",
      "1 2 3\n",
      "1 2 3 4\n",
      "1 2 3 4 5\n"
     ]
    }
   ],
   "source": [
    "# Ejercicio 3\n",
    "limit = 5\n",
    "\n",
    "mi_lista = []\n",
    "for indice in range(1, limit+1):\n",
    "    mi_lista.append(str(indice))\n",
    "    print(\" \".join(mi_lista))"
   ]
  },
  {
   "cell_type": "code",
   "execution_count": 50,
   "metadata": {},
   "outputs": [
    {
     "name": "stdout",
     "output_type": "stream",
     "text": [
      " 1\n",
      " 1 2\n",
      " 1 2 3\n",
      " 1 2 3 4\n",
      " 1 2 3 4 5\n"
     ]
    }
   ],
   "source": [
    "for i in range(1,6):\n",
    "    a=\"\"\n",
    "    for j in range(i):\n",
    "        a=a+' '+ str(j+1)\n",
    "    print(a)"
   ]
  },
  {
   "cell_type": "code",
   "execution_count": 61,
   "metadata": {},
   "outputs": [
    {
     "name": "stdout",
     "output_type": "stream",
     "text": [
      "Escribe un número:5\n",
      "Tu número está por debajo del objetivo\n",
      "Escribe un número:7\n",
      "Tu número está por encima del objetivo\n",
      "Escribe un número:6\n",
      "Felicidades, adivinaste!\n"
     ]
    }
   ],
   "source": [
    "# Ejercicio 4\n",
    "import random\n",
    "\n",
    "target_num = random.randint(0,20)\n",
    "\n",
    "input_num = int(input(\"Escribe un número:\"))\n",
    "\n",
    "while input_num != target_num:\n",
    "    if input_num > target_num:\n",
    "        print('Tu número está por encima del objetivo')\n",
    "    elif input_num < target_num:\n",
    "        print('Tu número está por debajo del objetivo')\n",
    "    input_num = int(input(\"Escribe un número:\"))\n",
    "\n",
    "print('Felicidades, adivinaste!')"
   ]
  },
  {
   "cell_type": "code",
   "execution_count": 65,
   "metadata": {},
   "outputs": [
    {
     "name": "stdout",
     "output_type": "stream",
     "text": [
      "la capital de Aguascalientes es Aguascalientes\n",
      "la capital de Baja California es Mexicali\n",
      "la capital de Baja California Sur es La Paz\n",
      "la capital de Campeche es Campeche\n",
      "la capital de Coahuila es Saltillo\n",
      "la capital de Colima es Colima\n",
      "la capital de Chiapas es Tuxtla Gutiérrez\n",
      "la capital de Chihuahua es Chihuahua\n",
      "la capital de Distrito Federal es Ciudad de México\n",
      "la capital de Durango es Durango\n",
      "la capital de Guanajuato es Guanajuato\n",
      "la capital de Guerrero es Chilpancingo\n",
      "la capital de Hidalgo es Pachuca\n",
      "la capital de Jalisco es Guadalajara\n",
      "la capital de México es Toluca\n",
      "la capital de Michoacán es Morelia\n",
      "la capital de Morelos es Cuernavaca\n",
      "la capital de Nayarit es Tepic\n",
      "la capital de Nuevo León es Monterrey\n",
      "la capital de Oaxaca es Oaxaca\n",
      "la capital de Puebla es Puebla\n",
      "la capital de Querétaro es Querétaro\n",
      "la capital de Quintana Roo es Chetumal\n",
      "la capital de San Luis Potosí es San Luis Potosí\n",
      "la capital de Sinaloa es Culiacán\n",
      "la capital de Sonora es Hermosillo\n",
      "la capital de Tabasco es Villahermosa\n",
      "la capital de Tamaulipas es Ciudad Victoria\n",
      "la capital de Tlaxcala es Tlaxcala\n",
      "la capital de Veracruz es Xalapa\n",
      "la capital de Yucatán es Mérida\n",
      "la capital de Zacatecas es Zacatecas\n"
     ]
    }
   ],
   "source": [
    "capitales = ['Aguascalientes', 'Mexicali', 'La Paz', 'Campeche', 'Saltillo', 'Colima',\n",
    "             'Tuxtla Gutiérrez', 'Chihuahua', 'Ciudad de México', 'Durango', 'Guanajuato',\n",
    "             'Chilpancingo', 'Pachuca', 'Guadalajara', 'Toluca', 'Morelia', 'Cuernavaca', \n",
    "             'Tepic', 'Monterrey', 'Oaxaca', 'Puebla', 'Querétaro', 'Chetumal', 'San Luis Potosí',\n",
    "             'Culiacán', 'Hermosillo', 'Villahermosa', 'Ciudad Victoria', 'Tlaxcala', 'Xalapa',\n",
    "             'Mérida', 'Zacatecas']\n",
    "estados = ['Aguascalientes', 'Baja California', 'Baja California Sur', 'Campeche', 'Coahuila',\n",
    "           'Colima', 'Chiapas', 'Chihuahua', 'Distrito Federal', 'Durango', 'Guanajuato',\n",
    "           'Guerrero', 'Hidalgo', 'Jalisco', 'México', 'Michoacán', 'Morelos', 'Nayarit',\n",
    "           'Nuevo León', 'Oaxaca', 'Puebla', 'Querétaro', 'Quintana Roo', 'San Luis Potosí',\n",
    "           'Sinaloa', 'Sonora', 'Tabasco', 'Tamaulipas', 'Tlaxcala', 'Veracruz', 'Yucatán', 'Zacatecas']\n",
    "\n",
    "for i in range(len(capitales)):\n",
    "    print(f\"la capital de {estados[i]} es {capitales[i]}\")"
   ]
  },
  {
   "cell_type": "code",
   "execution_count": 68,
   "metadata": {},
   "outputs": [
    {
     "name": "stdout",
     "output_type": "stream",
     "text": [
      "la capital de Aguascalientes es Aguascalientes\n",
      "la capital de Baja California es Mexicali\n",
      "la capital de Baja California Sur es La Paz\n",
      "la capital de Campeche es Campeche\n",
      "la capital de Coahuila es Saltillo\n",
      "la capital de Colima es Colima\n",
      "la capital de Chiapas es Tuxtla Gutiérrez\n",
      "la capital de Chihuahua es Chihuahua\n",
      "la capital de Distrito Federal es Ciudad de México\n",
      "la capital de Durango es Durango\n",
      "la capital de Guanajuato es Guanajuato\n",
      "la capital de Guerrero es Chilpancingo\n",
      "la capital de Hidalgo es Pachuca\n",
      "la capital de Jalisco es Guadalajara\n",
      "la capital de México es Toluca\n",
      "la capital de Michoacán es Morelia\n",
      "la capital de Morelos es Cuernavaca\n",
      "la capital de Nayarit es Tepic\n",
      "la capital de Nuevo León es Monterrey\n",
      "la capital de Oaxaca es Oaxaca\n",
      "la capital de Puebla es Puebla\n",
      "la capital de Querétaro es Querétaro\n",
      "la capital de Quintana Roo es Chetumal\n",
      "la capital de San Luis Potosí es San Luis Potosí\n",
      "la capital de Sinaloa es Culiacán\n",
      "la capital de Sonora es Hermosillo\n",
      "la capital de Tabasco es Villahermosa\n",
      "la capital de Tamaulipas es Ciudad Victoria\n",
      "la capital de Tlaxcala es Tlaxcala\n",
      "la capital de Veracruz es Xalapa\n",
      "la capital de Yucatán es Mérida\n",
      "la capital de Zacatecas es Zacatecas\n"
     ]
    }
   ],
   "source": [
    "for capital, estado in zip(capitales, estados):\n",
    "    print(f\"la capital de {estado} es {capital}\")"
   ]
  },
  {
   "cell_type": "code",
   "execution_count": 26,
   "metadata": {},
   "outputs": [
    {
     "name": "stdout",
     "output_type": "stream",
     "text": [
      " 01|02 03 04 05 06 07 08 09 10\n",
      "-----------------------------\n",
      " 02|04 06 08 10 12 14 16 18 20\n",
      " 03|06 09 12 15 18 21 24 27 30\n",
      " 04|08 12 16 20 24 28 32 36 40\n",
      " 05|10 15 20 25 30 35 40 45 50\n",
      " 06|12 18 24 30 36 42 48 54 60\n",
      " 07|14 21 28 35 42 49 56 63 70\n",
      " 08|16 24 32 40 48 56 64 72 80\n",
      " 09|18 27 36 45 54 63 72 81 90\n",
      " 10|20 30 40 50 60 70 80 90 100\n"
     ]
    }
   ],
   "source": [
    "# Ejercicio 6\n",
    "for i in range(1,11):\n",
    "    a=str(i).zfill(2)\n",
    "    b=\"\"\n",
    "    c=\"\"\n",
    "    for j in range(1,11):\n",
    "        pipe=\"|\"if j==2 else \" \"\n",
    "        c=c+pipe+str(i*j).zfill(2)\n",
    "    print(c) \n",
    "    if i == 1:\n",
    "        print(\"-----------------------------\")"
   ]
  },
  {
   "cell_type": "markdown",
   "metadata": {},
   "source": [
    "### Ejercicios Tarea ### "
   ]
  },
  {
   "cell_type": "markdown",
   "metadata": {},
   "source": [
    "**Números**\n",
    "1. Pide un input al usuario de su altura en m o cm y conviertela a ft."
   ]
  },
  {
   "cell_type": "code",
   "execution_count": 7,
   "metadata": {},
   "outputs": [
    {
     "name": "stdout",
     "output_type": "stream",
     "text": [
      "Cuál es tu altura?1.8\n",
      "Tu altura está en (cm) o en (m)?mmmmm\n",
      "Opción inválida\n"
     ]
    }
   ],
   "source": [
    "altura = float(input('Cuál es tu altura?'))\n",
    "unidades = input('Tu altura está en (cm) o en (m)?')\n",
    "\n",
    "if unidades == \"cm\":\n",
    "    print(altura*0.0328, 'ft')\n",
    "elif unidades == \"m\":\n",
    "    print(altura*3.28, 'ft')\n",
    "else:\n",
    "    print('Opción inválida')"
   ]
  },
  {
   "cell_type": "markdown",
   "metadata": {},
   "source": [
    "2. Crea un programa que lea dos enteros a y b del usuario. El programa debe calcular e impimir: la suma de a y b, la resta de b – a, el producto de a y b, el cociente de a entre b, el residuo de a entre b, el resultado del logaritmo base 10 de a y el resultado de a elevado a la b. Pista: Debes usar la librería math y la función log10 para obtener el logaritmo"
   ]
  },
  {
   "cell_type": "code",
   "execution_count": 12,
   "metadata": {},
   "outputs": [
    {
     "name": "stdout",
     "output_type": "stream",
     "text": [
      "Número 1:5\n",
      "Número 2:2\n",
      "a+b: 7\n",
      "b-a: -3\n",
      "La multiplicacion de a por b es: 10\n",
      "2.5\n",
      "1\n",
      "25\n"
     ]
    }
   ],
   "source": [
    "a = int(input(\"Número 1:\"))\n",
    "b = int(input(\"Número 2:\"))\n",
    "\n",
    "print(\"a+b:\", a+b)\n",
    "print(\"b-a:\", b-a)\n",
    "print(\"La multiplicacion de a por b es:\", a*b)\n",
    "print(a/b)\n",
    "print(a%b)\n",
    "print(a**b)"
   ]
  },
  {
   "cell_type": "markdown",
   "metadata": {},
   "source": [
    "**Strings**  \n",
    "\n",
    "2. Escribe un programa que reciba una string que puede contener una o varias palabras y que como resultado te regrese cada palabra ordenada alfábeticamente por separado."
   ]
  },
  {
   "cell_type": "code",
   "execution_count": 25,
   "metadata": {},
   "outputs": [
    {
     "name": "stdout",
     "output_type": "stream",
     "text": [
      "Escribe un string:hola mi nombre es patricio\n",
      "ahlo im bemnor es aciioprt "
     ]
    }
   ],
   "source": [
    "mi_string = input(\"Escribe un string:\")\n",
    "\n",
    "lista_palabras = mi_string.split(\" \")\n",
    "\n",
    "for palabra in lista_palabras:\n",
    "    print(\"\".join(sorted(palabra)), end=\" \")"
   ]
  },
  {
   "cell_type": "markdown",
   "metadata": {},
   "source": [
    "**Listas**  \n",
    "2.- Escribe una función que tome como entrada una lista de strings como la que aparece a \n",
    "continuación.\n",
    "La función debe regresar como resultado el string que contenga la mayor cantidad de letras \n",
    "repetidas. En este caso sería “elementary” ya que la letra e se repite 3 veces."
   ]
  },
  {
   "cell_type": "code",
   "execution_count": 13,
   "metadata": {},
   "outputs": [
    {
     "name": "stdout",
     "output_type": "stream",
     "text": [
      "0\n",
      "1\n",
      "2\n",
      "102\n",
      "\n",
      "3\n",
      "6\n"
     ]
    }
   ],
   "source": [
    "x = 0\n",
    "print(x)\n",
    "x += 1 # es equivalente a x = x+1\n",
    "print(x)\n",
    "x = x + 1 # es equivalente a x += 1\n",
    "print(x)\n",
    "x += 100\n",
    "print(x)\n",
    "\n",
    "print()\n",
    "# tambien funciona para los demas operadores aritmeticos\n",
    "y = 3\n",
    "print(y)\n",
    "y *= 2 # es equivalente a y = y * 2\n",
    "print(y)"
   ]
  },
  {
   "cell_type": "code",
   "execution_count": 14,
   "metadata": {},
   "outputs": [
    {
     "name": "stdout",
     "output_type": "stream",
     "text": [
      "palabra = holaaa\n",
      "-------> {'h': 1}\n",
      "-------> {'h': 1, 'o': 1}\n",
      "-------> {'h': 1, 'o': 1, 'l': 1}\n",
      "-------> {'h': 1, 'o': 1, 'l': 1, 'a': 1}\n",
      "-------> {'h': 1, 'o': 1, 'l': 1, 'a': 2}\n",
      "-------> {'h': 1, 'o': 1, 'l': 1, 'a': 3}\n",
      "{'h': 1, 'o': 1, 'l': 1, 'a': 3}\n",
      "**********\n",
      "palabra = python\n",
      "-------> {'p': 1}\n",
      "-------> {'p': 1, 'y': 1}\n",
      "-------> {'p': 1, 'y': 1, 't': 1}\n",
      "-------> {'p': 1, 'y': 1, 't': 1, 'h': 1}\n",
      "-------> {'p': 1, 'y': 1, 't': 1, 'h': 1, 'o': 1}\n",
      "-------> {'p': 1, 'y': 1, 't': 1, 'h': 1, 'o': 1, 'n': 1}\n",
      "{'p': 1, 'y': 1, 't': 1, 'h': 1, 'o': 1, 'n': 1}\n",
      "**********\n",
      "palabra = finanzas\n",
      "-------> {'f': 1}\n",
      "-------> {'f': 1, 'i': 1}\n",
      "-------> {'f': 1, 'i': 1, 'n': 1}\n",
      "-------> {'f': 1, 'i': 1, 'n': 1, 'a': 1}\n",
      "-------> {'f': 1, 'i': 1, 'n': 2, 'a': 1}\n",
      "-------> {'f': 1, 'i': 1, 'n': 2, 'a': 1, 'z': 1}\n",
      "-------> {'f': 1, 'i': 1, 'n': 2, 'a': 2, 'z': 1}\n",
      "-------> {'f': 1, 'i': 1, 'n': 2, 'a': 2, 'z': 1, 's': 1}\n",
      "{'f': 1, 'i': 1, 'n': 2, 'a': 2, 'z': 1, 's': 1}\n",
      "**********\n",
      "palabra = abecedario\n",
      "-------> {'a': 1}\n",
      "-------> {'a': 1, 'b': 1}\n",
      "-------> {'a': 1, 'b': 1, 'e': 1}\n",
      "-------> {'a': 1, 'b': 1, 'e': 1, 'c': 1}\n",
      "-------> {'a': 1, 'b': 1, 'e': 2, 'c': 1}\n",
      "-------> {'a': 1, 'b': 1, 'e': 2, 'c': 1, 'd': 1}\n",
      "-------> {'a': 2, 'b': 1, 'e': 2, 'c': 1, 'd': 1}\n",
      "-------> {'a': 2, 'b': 1, 'e': 2, 'c': 1, 'd': 1, 'r': 1}\n",
      "-------> {'a': 2, 'b': 1, 'e': 2, 'c': 1, 'd': 1, 'r': 1, 'i': 1}\n",
      "-------> {'a': 2, 'b': 1, 'e': 2, 'c': 1, 'd': 1, 'r': 1, 'i': 1, 'o': 1}\n",
      "{'a': 2, 'b': 1, 'e': 2, 'c': 1, 'd': 1, 'r': 1, 'i': 1, 'o': 1}\n",
      "**********\n"
     ]
    }
   ],
   "source": [
    "# Pendiente de terminar\n",
    "mi_lista = [\"holaaa\", \"python\", \"finanzas\", \"abecedario\"]\n",
    "\n",
    "dict_palabras = {}\n",
    "for palabra in mi_lista:\n",
    "    print('palabra =',palabra)\n",
    "    contador = {}\n",
    "    for letra in palabra:\n",
    "        if letra in contador:\n",
    "            contador[letra] = contador[letra] + 1\n",
    "        else:\n",
    "            contador[letra] = 1\n",
    "        print(\"------->\",contador)\n",
    "    dict_palabras[palabra] = contador\n",
    "    print(contador)\n",
    "    print(\"**********\")"
   ]
  },
  {
   "cell_type": "code",
   "execution_count": 23,
   "metadata": {},
   "outputs": [
    {
     "name": "stdout",
     "output_type": "stream",
     "text": [
      "palabra = holaaa\n",
      "-------> {'h': 1}\n",
      "-------> {'h': 1, 'o': 1}\n",
      "-------> {'h': 1, 'o': 1, 'l': 1}\n",
      "-------> {'h': 1, 'o': 1, 'l': 1, 'a': 1}\n",
      "-------> {'h': 1, 'o': 1, 'l': 1, 'a': 2}\n",
      "-------> {'h': 1, 'o': 1, 'l': 1, 'a': 3}\n",
      "{'h': 1, 'o': 1, 'l': 1, 'a': 3}\n",
      "**********\n",
      "palabra = python\n",
      "-------> {'p': 1}\n",
      "-------> {'p': 1, 'y': 1}\n",
      "-------> {'p': 1, 'y': 1, 't': 1}\n",
      "-------> {'p': 1, 'y': 1, 't': 1, 'h': 1}\n",
      "-------> {'p': 1, 'y': 1, 't': 1, 'h': 1, 'o': 1}\n",
      "-------> {'p': 1, 'y': 1, 't': 1, 'h': 1, 'o': 1, 'n': 1}\n",
      "{'p': 1, 'y': 1, 't': 1, 'h': 1, 'o': 1, 'n': 1}\n",
      "**********\n",
      "palabra = finanzas\n",
      "-------> {'f': 1}\n",
      "-------> {'f': 1, 'i': 1}\n",
      "-------> {'f': 1, 'i': 1, 'n': 1}\n",
      "-------> {'f': 1, 'i': 1, 'n': 1, 'a': 1}\n",
      "-------> {'f': 1, 'i': 1, 'n': 2, 'a': 1}\n",
      "-------> {'f': 1, 'i': 1, 'n': 2, 'a': 1, 'z': 1}\n",
      "-------> {'f': 1, 'i': 1, 'n': 2, 'a': 2, 'z': 1}\n",
      "-------> {'f': 1, 'i': 1, 'n': 2, 'a': 2, 'z': 1, 's': 1}\n",
      "{'f': 1, 'i': 1, 'n': 2, 'a': 2, 'z': 1, 's': 1}\n",
      "**********\n",
      "palabra = abecedario\n",
      "-------> {'a': 1}\n",
      "-------> {'a': 1, 'b': 1}\n",
      "-------> {'a': 1, 'b': 1, 'e': 1}\n",
      "-------> {'a': 1, 'b': 1, 'e': 1, 'c': 1}\n",
      "-------> {'a': 1, 'b': 1, 'e': 2, 'c': 1}\n",
      "-------> {'a': 1, 'b': 1, 'e': 2, 'c': 1, 'd': 1}\n",
      "-------> {'a': 2, 'b': 1, 'e': 2, 'c': 1, 'd': 1}\n",
      "-------> {'a': 2, 'b': 1, 'e': 2, 'c': 1, 'd': 1, 'r': 1}\n",
      "-------> {'a': 2, 'b': 1, 'e': 2, 'c': 1, 'd': 1, 'r': 1, 'i': 1}\n",
      "-------> {'a': 2, 'b': 1, 'e': 2, 'c': 1, 'd': 1, 'r': 1, 'i': 1, 'o': 1}\n",
      "{'a': 2, 'b': 1, 'e': 2, 'c': 1, 'd': 1, 'r': 1, 'i': 1, 'o': 1}\n",
      "**********\n",
      "max:  holaaa 3 a\n"
     ]
    }
   ],
   "source": [
    "mi_lista = [\"holaaa\", \"python\", \"finanzas\", \"abecedario\"]\n",
    "\n",
    "max_palabra = \"\"\n",
    "max_repeticiones = 0 # inicializamos el valor\n",
    "max_letra = \"\"\n",
    "\n",
    "for palabra in mi_lista:\n",
    "    print('palabra =',palabra)\n",
    "    contador = {}\n",
    "    for letra in palabra:\n",
    "        if letra in contador:\n",
    "            contador[letra] = contador[letra] + 1\n",
    "        else:\n",
    "            contador[letra] = 1\n",
    "        print(\"------->\",contador)\n",
    "    if max(contador.values()) > max_repeticiones:\n",
    "        max_palabra = palabra\n",
    "        max_repeticiones = max(contador.values())\n",
    "        for llave, valor in contador.items():\n",
    "            if valor == max_repeticiones:\n",
    "                max_letra = llave\n",
    "                break\n",
    "    print(contador)\n",
    "    print(\"**********\")\n",
    "\n",
    "print('max: ', max_palabra, max_repeticiones, max_letra)"
   ]
  },
  {
   "cell_type": "code",
   "execution_count": 22,
   "metadata": {},
   "outputs": [
    {
     "name": "stdout",
     "output_type": "stream",
     "text": [
      "{'a': 2, 'b': 1, 'e': 2, 'c': 1, 'd': 1, 'r': 1, 'i': 1, 'o': 1}\n",
      "dict_values([2, 1, 2, 1, 1, 1, 1, 1])\n",
      "2\n"
     ]
    }
   ],
   "source": [
    "print(contador)\n",
    "print(contador.values())\n",
    "print(max(contador.values()))"
   ]
  }
 ],
 "metadata": {
  "celltoolbar": "Slideshow",
  "kernelspec": {
   "display_name": "Python 3 (ipykernel)",
   "language": "python",
   "name": "python3"
  },
  "language_info": {
   "codemirror_mode": {
    "name": "ipython",
    "version": 3
   },
   "file_extension": ".py",
   "mimetype": "text/x-python",
   "name": "python",
   "nbconvert_exporter": "python",
   "pygments_lexer": "ipython3",
   "version": "3.9.12"
  }
 },
 "nbformat": 4,
 "nbformat_minor": 2
}
