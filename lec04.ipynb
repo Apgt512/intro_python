{
 "cells": [
  {
   "cell_type": "markdown",
   "metadata": {
    "slideshow": {
     "slide_type": "slide"
    }
   },
   "source": [
    "<h1 style=\"color:#872325\">Cíclos</h1>"
   ]
  },
  {
   "cell_type": "markdown",
   "metadata": {},
   "source": [
    "Los cíclos o *loops* son comunmente usadas cuando tenemos un bloque de código el cuál deseamos repetir un número finito de veces.\n",
    "\n",
    "Supongamos queremos calcular el área ($A = \\pi r^2$) de un número $n$ de círculos. Dada una lista de radios `radios = [1, 3, 5, 2, 1, 10]` y considerando `pi = 3.14159265`. ¿De qué manera podríamos calcular el área de cada uno de los círculos?\n",
    "\n",
    "Una primera manera sería considerar cada elemento dentro de \"radios\" e imprimir el resultado\n",
    "```python\n",
    "radios = [1, 3, 5, 2, 1, 10]\n",
    "pi = 3.14159265\n",
    "print(pi * radios[0] ** 2)\n",
    "print(pi * radios[1] ** 2)\n",
    "print(pi * radios[2] ** 2)\n",
    "print(pi * radios[3] ** 2)\n",
    "print(pi * radios[4] ** 2)\n",
    "print(pi * radios[5] ** 2)\n",
    "```"
   ]
  },
  {
   "cell_type": "code",
   "execution_count": 1,
   "metadata": {},
   "outputs": [
    {
     "name": "stdout",
     "output_type": "stream",
     "text": [
      "3.14159265\n",
      "28.27433385\n",
      "78.53981625\n",
      "12.5663706\n",
      "3.14159265\n",
      "314.159265\n"
     ]
    }
   ],
   "source": [
    "radios = [1, 3, 5, 2, 1, 10]\n",
    "pi = 3.14159265\n",
    "print(pi * radios[0] ** 2)\n",
    "print(pi * radios[1] ** 2)\n",
    "print(pi * radios[2] ** 2)\n",
    "print(pi * radios[3] ** 2)\n",
    "print(pi * radios[4] ** 2)\n",
    "print(pi * radios[5] ** 2)"
   ]
  },
  {
   "cell_type": "markdown",
   "metadata": {},
   "source": [
    "La desventaja de hacerlo de esta manera es tener que escribir cada uno de los índices y repetir `print` para cada uno de los elementos. Consideremos ahora que tenemos una nueva lista `radios` dada.\n",
    "```python\n",
    "radios = [69, 24, 61, 27, 93, 67, 16, 66, 79, 3, 84, 4, 2, 82, 17, 88, 1, 74, 65, 4, 82, 3, 21, 12, 62, 9, 96, 68, 63, 88]\n",
    "```\n",
    "\n",
    "Si seguimos la metodología planteada anteriormente, calcular cada uno de los radios sería una tarea tediosa y propensa a errores (si copiamos y pegamos cada `print(pi * radios[i])` existe la posibilidad de no modificar correctamente algunos de los índices).\n",
    "\n",
    "**Practical Advices**  \n",
    "Cuando en nuestro código estemos repitiendo el mismo bloque de código con minuciosas diferencias, es muy probable que necesitemos un *loop*. Siempre sigue el pricipio **DRY** (Don't repeat yourself)"
   ]
  },
  {
   "cell_type": "code",
   "execution_count": 2,
   "metadata": {},
   "outputs": [],
   "source": [
    "radios = [69, 24, 61, 27, 93, 67, 16, 66, 79, 3, 84, 4, 2, 82, 17, 88, 1, 74, 65, 4, 82, 3, 21, 12, 62, 9, 96, 68, 63, 88]"
   ]
  },
  {
   "cell_type": "code",
   "execution_count": 5,
   "metadata": {},
   "outputs": [
    {
     "name": "stdout",
     "output_type": "stream",
     "text": [
      "La lista radios tiene 30 elementos\n"
     ]
    }
   ],
   "source": [
    "print(\"La lista radios tiene\", len(radios), \"elementos\")"
   ]
  },
  {
   "cell_type": "markdown",
   "metadata": {
    "slideshow": {
     "slide_type": "slide"
    }
   },
   "source": [
    "## `For` loops\n",
    "Usamos un `for` loop cuando conocemos de manera exacta el número de veces que deseamos correr el bloque de texto. El ejemplo anterior es un caso para usar un *for loop*.\n",
    "\n",
    "La sintaxis para un *for loop* en python es la siguiente\n",
    "\n",
    "```python\n",
    "for varval in iterable:\n",
    "    ...\n",
    "```\n",
    "\n",
    "* `iterable` es un iterable. A grandes rasgos, un iterable es todo aquello que contenga un índice (una una lista, un diccionario, un string)\n",
    "* `varval` es una variable que toma como valor cada elemento dentro de `iterable`\n",
    "* Todo bloque de código con sangría (4 espacios o tab) despues del `for` se repite por cada `varval` dentro de `iterable`"
   ]
  },
  {
   "cell_type": "markdown",
   "metadata": {},
   "source": [
    "Considerando el ejemplo anterior, \n",
    "```python\n",
    "radios = [1, 3, 5, 2, 1, 10]\n",
    "pi = 3.14159265\n",
    "print(pi * radios[0] ** 2)\n",
    "print(pi * radios[1] ** 2)\n",
    "print(pi * radios[3] ** 2)\n",
    "print(pi * radios[3] ** 2)\n",
    "print(pi * radios[4] ** 2)\n",
    "print(pi * radios[5] ** 2)\n",
    "```\n",
    "\n",
    "Podemos reescribir el código con un *for loop* de la siguiente manera\n",
    "```python\n",
    "radios = [1, 3, 5, 2, 1, 10]\n",
    "pi = 3.14159265\n",
    "for radio in radios:\n",
    "    print(pi * radio ** 2)\n",
    "```"
   ]
  },
  {
   "cell_type": "code",
   "execution_count": 9,
   "metadata": {},
   "outputs": [
    {
     "name": "stdout",
     "output_type": "stream",
     "text": [
      "r=1, A=3.14159265\n",
      "r=3, A=28.27433385\n",
      "r=5, A=78.53981625\n",
      "r=2, A=12.5663706\n",
      "r=1, A=3.14159265\n",
      "r=10, A=314.159265\n"
     ]
    }
   ],
   "source": [
    "radios = [1, 3, 5, 2, 1, 10]\n",
    "pi = 3.14159265\n",
    "for r in radios:\n",
    "    print(f\"r={r}, A={pi * r ** 2}\")"
   ]
  },
  {
   "cell_type": "code",
   "execution_count": 8,
   "metadata": {},
   "outputs": [
    {
     "name": "stdout",
     "output_type": "stream",
     "text": [
      "r=69, A=14957.12260665\n",
      "r=24, A=1809.5573664\n",
      "r=61, A=11689.86625065\n",
      "r=27, A=2290.2210418500003\n",
      "r=93, A=27171.63482985\n",
      "r=67, A=14102.60940585\n",
      "r=16, A=804.2477184\n",
      "r=66, A=13684.7775834\n",
      "r=79, A=19606.67972865\n",
      "r=3, A=28.27433385\n",
      "r=84, A=22167.077738400003\n",
      "r=4, A=50.2654824\n",
      "r=2, A=12.5663706\n",
      "r=82, A=21124.0689786\n",
      "r=17, A=907.92027585\n",
      "r=88, A=24328.493481600002\n",
      "r=1, A=3.14159265\n",
      "r=74, A=17203.361351400003\n",
      "r=65, A=13273.228946250001\n",
      "r=4, A=50.2654824\n",
      "r=82, A=21124.0689786\n",
      "r=3, A=28.27433385\n",
      "r=21, A=1385.4423586500002\n",
      "r=12, A=452.3893416\n",
      "r=62, A=12076.2821466\n",
      "r=9, A=254.46900465000002\n",
      "r=96, A=28952.9178624\n",
      "r=68, A=14526.7244136\n",
      "r=63, A=12468.981227850001\n",
      "r=88, A=24328.493481600002\n"
     ]
    }
   ],
   "source": [
    "radios = [69, 24, 61, 27, 93, 67, 16, 66, 79, 3, 84, 4, 2, 82, 17, 88, 1, 74, 65, 4, 82, 3, 21, 12, 62, 9, 96, 68, 63, 88]\n",
    "pi = 3.14159265\n",
    "for r in radios:\n",
    "    print(f\"r={r}, A={pi * r ** 2}\")"
   ]
  },
  {
   "cell_type": "code",
   "execution_count": 10,
   "metadata": {},
   "outputs": [
    {
     "name": "stdout",
     "output_type": "stream",
     "text": [
      "H\n",
      "o\n",
      "l\n",
      "a\n",
      " \n",
      "m\n",
      "u\n",
      "n\n",
      "d\n",
      "o\n",
      "!\n"
     ]
    }
   ],
   "source": [
    "mi_string = \"Hola mundo!\"\n",
    "\n",
    "for letra in mi_string:\n",
    "    print(letra)"
   ]
  },
  {
   "cell_type": "code",
   "execution_count": 11,
   "metadata": {},
   "outputs": [
    {
     "name": "stdout",
     "output_type": "stream",
     "text": [
      "('a', 123)\n",
      "('b', 1567)\n",
      "('c', 9472)\n"
     ]
    }
   ],
   "source": [
    "mi_dict = {\"a\": 123, \"b\": 1567, \"c\": 9472}\n",
    "\n",
    "for tup in mi_dict.items():\n",
    "    print(tup)"
   ]
  },
  {
   "cell_type": "code",
   "execution_count": 12,
   "metadata": {},
   "outputs": [
    {
     "name": "stdout",
     "output_type": "stream",
     "text": [
      "llave: a, valor: 123\n",
      "llave: b, valor: 1567\n",
      "llave: c, valor: 9472\n"
     ]
    }
   ],
   "source": [
    "mi_dict = {\"a\": 123, \"b\": 1567, \"c\": 9472}\n",
    "\n",
    "for key, value in mi_dict.items():\n",
    "    print(f\"llave: {key}, valor: {value}\")"
   ]
  },
  {
   "cell_type": "code",
   "execution_count": 14,
   "metadata": {},
   "outputs": [
    {
     "name": "stdout",
     "output_type": "stream",
     "text": [
      "123\n",
      "1567\n",
      "9472\n"
     ]
    }
   ],
   "source": [
    "mi_dict = {\"a\": 123, \"b\": 1567, \"c\": 9472}\n",
    "\n",
    "for val in mi_dict.values():\n",
    "    print(val)"
   ]
  },
  {
   "cell_type": "code",
   "execution_count": 15,
   "metadata": {},
   "outputs": [
    {
     "name": "stdout",
     "output_type": "stream",
     "text": [
      "a\n",
      "b\n",
      "c\n"
     ]
    }
   ],
   "source": [
    "mi_dict = {\"a\": 123, \"b\": 1567, \"c\": 9472}\n",
    "\n",
    "for llave in mi_dict.keys():\n",
    "    print(llave)"
   ]
  },
  {
   "cell_type": "code",
   "execution_count": 18,
   "metadata": {},
   "outputs": [
    {
     "name": "stdout",
     "output_type": "stream",
     "text": [
      "14957.12260665\n",
      "1809.5573664\n",
      "11689.86625065\n",
      "2290.2210418500003\n",
      "27171.63482985\n",
      "14102.60940585\n",
      "804.2477184\n",
      "13684.7775834\n",
      "19606.67972865\n",
      "28.27433385\n",
      "22167.077738400003\n",
      "50.2654824\n",
      "12.5663706\n",
      "21124.0689786\n",
      "907.92027585\n",
      "24328.493481600002\n",
      "3.14159265\n",
      "17203.361351400003\n",
      "13273.228946250001\n",
      "50.2654824\n",
      "21124.0689786\n",
      "28.27433385\n",
      "1385.4423586500002\n",
      "452.3893416\n",
      "12076.2821466\n",
      "254.46900465000002\n",
      "28952.9178624\n",
      "14526.7244136\n",
      "12468.981227850001\n",
      "24328.493481600002\n",
      "\n",
      "[14957.12260665, 1809.5573664, 11689.86625065, 2290.2210418500003, 27171.63482985, 14102.60940585, 804.2477184, 13684.7775834, 19606.67972865, 28.27433385, 22167.077738400003, 50.2654824, 12.5663706, 21124.0689786, 907.92027585, 24328.493481600002, 3.14159265, 17203.361351400003, 13273.228946250001, 50.2654824, 21124.0689786, 28.27433385, 1385.4423586500002, 452.3893416, 12076.2821466, 254.46900465000002, 28952.9178624, 14526.7244136, 12468.981227850001, 24328.493481600002]\n"
     ]
    }
   ],
   "source": [
    "radios = [69, 24, 61, 27, 93, 67, 16, 66, 79, 3, 84, 4, 2, 82, 17, 88, 1, 74, 65, 4, 82, 3, 21, 12, 62, 9, 96, 68, 63, 88]\n",
    "areas = []\n",
    "\n",
    "pi = 3.14159265\n",
    "for r in radios:\n",
    "    print(pi * r ** 2)\n",
    "    area = pi * r ** 2\n",
    "    areas.append(area)\n",
    "\n",
    "print()\n",
    "print(areas)"
   ]
  },
  {
   "cell_type": "markdown",
   "metadata": {},
   "source": [
    "**Rangos**  \n",
    "La manera de crear un rango de números dentro de python es mediante la función `range`, la cuál puede ser usado de tres maneras\n",
    "* `range(a)` crea un rango de valores de `0` hsta `a-1`\n",
    "* `range(a, b)` crea un rango de valores de `a` hasta `b-1`\n",
    "* `range(a, b, s)` crea un rango de valores de `a` hasta `b-1` dando saltos `s`"
   ]
  },
  {
   "cell_type": "code",
   "execution_count": 21,
   "metadata": {},
   "outputs": [
    {
     "data": {
      "text/plain": [
       "'string!!!'"
      ]
     },
     "execution_count": 21,
     "metadata": {},
     "output_type": "execute_result"
    }
   ],
   "source": [
    "\"string\" + \"!!!\""
   ]
  },
  {
   "cell_type": "code",
   "execution_count": 24,
   "metadata": {},
   "outputs": [
    {
     "name": "stdout",
     "output_type": "stream",
     "text": [
      "\n",
      "['hola!', 'mundo!', 'python!', 'finanzas!']\n"
     ]
    }
   ],
   "source": [
    "mi_lista = [\"hola\", \"mundo\", \"python\", \"finanzas\"]\n",
    "mi_lista_nueva = []\n",
    "\n",
    "for palabra in mi_lista:\n",
    "    mi_lista_nueva.append(palabra + \"!\")\n",
    "\n",
    "print()\n",
    "print(mi_lista_nueva)"
   ]
  },
  {
   "cell_type": "code",
   "execution_count": 25,
   "metadata": {},
   "outputs": [
    {
     "name": "stdout",
     "output_type": "stream",
     "text": [
      "\n",
      "['hola', 'mundo', 'python', 'finanzas']\n"
     ]
    }
   ],
   "source": [
    "# Otra opcion para modificar cada elemento elemento es acceder a cada elemento\n",
    "# por su indice\n",
    "mi_lista = [\"hola\", \"mundo\", \"python\", \"finanzas\"]\n",
    "\n",
    "for palabra in mi_lista:\n",
    "    palabra = palabra + \"!\"\n",
    "\n",
    "print()\n",
    "print(mi_lista)"
   ]
  },
  {
   "cell_type": "code",
   "execution_count": 28,
   "metadata": {},
   "outputs": [
    {
     "name": "stdout",
     "output_type": "stream",
     "text": [
      "\n",
      "['hola!', 'mundo!', 'python!', 'finanzas!']\n"
     ]
    }
   ],
   "source": [
    "mi_lista = [\"hola\", \"mundo\", \"python\", \"finanzas\"]\n",
    "\n",
    "for indice in range(len(mi_lista)):\n",
    "    mi_lista[indice] = mi_lista[indice] + \"!\"\n",
    "\n",
    "print()\n",
    "print(mi_lista)"
   ]
  },
  {
   "cell_type": "code",
   "execution_count": 29,
   "metadata": {},
   "outputs": [
    {
     "name": "stdout",
     "output_type": "stream",
     "text": [
      "10\n",
      "11\n",
      "12\n",
      "13\n",
      "14\n",
      "15\n",
      "16\n",
      "17\n",
      "18\n",
      "19\n"
     ]
    }
   ],
   "source": [
    "for i in range(10, 20):\n",
    "    print(i)"
   ]
  },
  {
   "cell_type": "code",
   "execution_count": 30,
   "metadata": {},
   "outputs": [
    {
     "name": "stdout",
     "output_type": "stream",
     "text": [
      "100\n",
      "150\n",
      "200\n",
      "250\n",
      "300\n",
      "350\n",
      "400\n",
      "450\n",
      "500\n",
      "550\n",
      "600\n",
      "650\n",
      "700\n",
      "750\n",
      "800\n",
      "850\n",
      "900\n",
      "950\n"
     ]
    }
   ],
   "source": [
    "for i in range(100, 1000, 50):\n",
    "    print(i)"
   ]
  },
  {
   "cell_type": "markdown",
   "metadata": {
    "slideshow": {
     "slide_type": "slide"
    }
   },
   "source": [
    "## `while` loops\n",
    "A diferencia de un `for` loop, en un `while` loop no necesariamente conocemos el número de veces que se repetirá el ciclo. La sintáxis de un `while` loop es la siguiente.\n",
    "\n",
    "```python\n",
    "while condition:\n",
    "    ...\n",
    "```\n",
    "\n",
    "* `condition` es un booleano el cual es evaluado al princpio de cada ciclo. Si `condition == True`, el bloque de código en sangría es evaluado; de otra manera el ciclo se rompe.\n",
    "\n",
    "Un while loop repite el cíclo siempre y cuando `condition` sea `True`"
   ]
  },
  {
   "cell_type": "code",
   "execution_count": 31,
   "metadata": {},
   "outputs": [
    {
     "name": "stdout",
     "output_type": "stream",
     "text": [
      "0\n",
      "1\n",
      "2\n",
      "3\n",
      "4\n",
      "5\n",
      "6\n",
      "7\n",
      "8\n",
      "9\n",
      "10\n",
      "11\n",
      "12\n",
      "13\n",
      "14\n",
      "15\n",
      "16\n",
      "17\n",
      "18\n",
      "19\n"
     ]
    }
   ],
   "source": [
    "for i in range(20):\n",
    "    print(i)"
   ]
  },
  {
   "cell_type": "code",
   "execution_count": 2,
   "metadata": {
    "scrolled": false
   },
   "outputs": [
    {
     "name": "stdout",
     "output_type": "stream",
     "text": [
      "0\n",
      "1\n",
      "2\n",
      "3\n",
      "4\n",
      "5\n",
      "6\n",
      "7\n",
      "8\n",
      "9\n",
      "10\n",
      "11\n",
      "12\n",
      "13\n",
      "14\n",
      "15\n",
      "16\n",
      "17\n",
      "18\n",
      "19\n"
     ]
    }
   ],
   "source": [
    "k = 0\n",
    "while k < 20:\n",
    "    print(k)\n",
    "    k += 1 # equivalente a k = k + 1"
   ]
  },
  {
   "cell_type": "markdown",
   "metadata": {},
   "source": [
    "**El `break` keyword**  \n",
    "En ocasiones es deseable romper el cíclo antes de empezar la siguiente iteración. En estos casos podemos ocupar `break` para terminar el loop con anticipación."
   ]
  },
  {
   "cell_type": "code",
   "execution_count": null,
   "metadata": {},
   "outputs": [],
   "source": []
  },
  {
   "cell_type": "markdown",
   "metadata": {
    "slideshow": {
     "slide_type": "slide"
    }
   },
   "source": [
    "## Agrupando elementos con `zip`\n",
    "Algunas veces es necesario agrupar dos listas entrada por entrada. Para solucionar este problema en Python podemos usar la función `zip`.\n",
    "\n",
    "`zip` regresa un generador parejas de *tuples* entrada por entrada."
   ]
  },
  {
   "cell_type": "code",
   "execution_count": null,
   "metadata": {},
   "outputs": [],
   "source": []
  },
  {
   "cell_type": "markdown",
   "metadata": {
    "slideshow": {
     "slide_type": "slide"
    }
   },
   "source": [
    "<h2 style=\"color:#d62728\"> Ejercicio </h2>\n",
    "\n",
    "1. ¿Qué sucede al correr el siguiente código? Explica.\n",
    "```python\n",
    "    for x in 2:\n",
    "        print(x)\n",
    "```\n",
    "1. Considerando la lista `radios` de 30 elementos definida arriba, escribe un programa que cálcule el área para cada uno de los círculos dentro de la lista e imprima, para cada área calculada, `\"El área de un circulo con radio <radio> es <area>\"`; donde `radio` es un elemento dentro de la lista `radios` y `area` es el área de un círculo con radio `radio`\n",
    "1. Escribe un programa que cree el siguiente patrón:\n",
    "```\n",
    "1 \n",
    "1 2 \n",
    "1 2 3 \n",
    "1 2 3 4 \n",
    "1 2 3 4 5 \n",
    "```\n",
    "\n",
    "1. Escribe un programa para adivinar un número:  \n",
    "Considerando un número objetivo `target_num`, el programa le deberá pedir al usuario ingresar un número `input_num`. Si `input_num` > `target_num`, el programa deberá informarle al usuario que su número está por encima del número objetivo; de otra manera, si `input_num` < `target_num`, el programa deberá informarle al usuario que su número se encuentra por debajo del número objetivo. El programa se termina una vez que el usuario adivine el número objetivo, i.e., una vez que `input_num == target_num`.\n",
    "\n",
    "1. Considerando las listas `capitale` y `estados`, escribe un programa que escriba `\"la capital de <estado> es <capital>\"`; donde `<estado>` y `<capital>` representa cada elemento de las listas mencionadas.\n",
    "\n",
    "```\n",
    "capitales = ['Aguascalientes', 'Mexicali', 'La Paz', 'Campeche', 'Saltillo', 'Colima',\n",
    "             'Tuxtla Gutiérrez', 'Chihuahua', 'Ciudad de México', 'Durango', 'Guanajuato',\n",
    "             'Chilpancingo', 'Pachuca', 'Guadalajara', 'Toluca', 'Morelia', 'Cuernavaca', \n",
    "             'Tepic', 'Monterrey', 'Oaxaca', 'Puebla', 'Querétaro', 'Chetumal', 'San Luis Potosí',\n",
    "             'Culiacán', 'Hermosillo', 'Villahermosa', 'Ciudad Victoria', 'Tlaxcala', 'Xalapa',\n",
    "             'Mérida', 'Zacatecas']\n",
    "estados = ['Aguascalientes', 'Baja California', 'Baja California Sur', 'Campeche', 'Coahuila',\n",
    "           'Colima', 'Chiapas', 'Chihuahua', 'Distrito Federal', 'Durango', 'Guanajuato',\n",
    "           'Guerrero', 'Hidalgo', 'Jalisco', 'México', 'Michoacán', 'Morelos', 'Nayarit',\n",
    "           'Nuevo León', 'Oaxaca', 'Puebla', 'Querétaro', 'Quintana Roo', 'San Luis Potosí',\n",
    "           'Sinaloa', 'Sonora', 'Tabasco', 'Tamaulipas', 'Tlaxcala', 'Veracruz', 'Yucatán', 'Zacatecas']\n",
    "```\n",
    "\n",
    "5. Escribe un programa que imprima la siguiente tabla de Multiplicación de 10x10.\n",
    "\n",
    "```\n",
    "01|02 03 04 05 06 07 08 09 10 \n",
    "-----------------------------\n",
    "02|04 06 08 10 12 14 16 18 20 \n",
    "03|06 09 12 15 18 21 24 27 30 \n",
    "04|08 12 16 20 24 28 32 36 40 \n",
    "05|10 15 20 25 30 35 40 45 50 \n",
    "06|12 18 24 30 36 42 48 54 60 \n",
    "07|14 21 28 35 42 49 56 63 70 \n",
    "08|16 24 32 40 48 56 64 72 80 \n",
    "09|18 27 36 45 54 63 72 81 90 \n",
    "10|20 30 40 50 60 70 80 90 100\n",
    "```"
   ]
  },
  {
   "cell_type": "code",
   "execution_count": null,
   "metadata": {},
   "outputs": [],
   "source": []
  }
 ],
 "metadata": {
  "celltoolbar": "Slideshow",
  "kernelspec": {
   "display_name": "Python 3 (ipykernel)",
   "language": "python",
   "name": "python3"
  },
  "language_info": {
   "codemirror_mode": {
    "name": "ipython",
    "version": 3
   },
   "file_extension": ".py",
   "mimetype": "text/x-python",
   "name": "python",
   "nbconvert_exporter": "python",
   "pygments_lexer": "ipython3",
   "version": "3.9.12"
  }
 },
 "nbformat": 4,
 "nbformat_minor": 2
}
