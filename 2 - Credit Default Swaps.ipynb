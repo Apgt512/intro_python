{
 "cells": [
  {
   "cell_type": "markdown",
   "id": "c6263459",
   "metadata": {},
   "source": [
    "# Regresión de Nomura #"
   ]
  },
  {
   "cell_type": "code",
   "execution_count": 18,
   "id": "1f8b540d",
   "metadata": {},
   "outputs": [],
   "source": [
    "import numpy as np\n",
    "import pandas as pd\n",
    "import matplotlib.pyplot as plt\n",
    "import seaborn as sns"
   ]
  },
  {
   "cell_type": "markdown",
   "id": "ce77d2dc",
   "metadata": {},
   "source": [
    "**Base de Datos**"
   ]
  },
  {
   "cell_type": "code",
   "execution_count": null,
   "id": "92c9ecb0",
   "metadata": {},
   "outputs": [],
   "source": []
  },
  {
   "cell_type": "markdown",
   "id": "910ca985",
   "metadata": {},
   "source": [
    "**Archivo CSV**"
   ]
  },
  {
   "cell_type": "code",
   "execution_count": 7,
   "id": "a35896af",
   "metadata": {},
   "outputs": [
    {
     "data": {
      "text/html": [
       "<div>\n",
       "<style scoped>\n",
       "    .dataframe tbody tr th:only-of-type {\n",
       "        vertical-align: middle;\n",
       "    }\n",
       "\n",
       "    .dataframe tbody tr th {\n",
       "        vertical-align: top;\n",
       "    }\n",
       "\n",
       "    .dataframe thead th {\n",
       "        text-align: right;\n",
       "    }\n",
       "</style>\n",
       "<table border=\"1\" class=\"dataframe\">\n",
       "  <thead>\n",
       "    <tr style=\"text-align: right;\">\n",
       "      <th></th>\n",
       "      <th>RICS</th>\n",
       "      <th>Term</th>\n",
       "      <th>Prices/Upfronts</th>\n",
       "      <th>Name</th>\n",
       "      <th>Currency</th>\n",
       "      <th>Rank</th>\n",
       "      <th>Doc Clause</th>\n",
       "      <th>Cal final</th>\n",
       "      <th>recovery rate</th>\n",
       "      <th>TRBC Economic Sector Name</th>\n",
       "      <th>Region</th>\n",
       "    </tr>\n",
       "  </thead>\n",
       "  <tbody>\n",
       "    <tr>\n",
       "      <th>0</th>\n",
       "      <td>GMAC1YUSAX=R</td>\n",
       "      <td>1Y</td>\n",
       "      <td>22.880</td>\n",
       "      <td>ALLY FINANCIAL</td>\n",
       "      <td>USD</td>\n",
       "      <td>SNRFOR</td>\n",
       "      <td>Ex-Restruct14</td>\n",
       "      <td>BB</td>\n",
       "      <td>(40-49)</td>\n",
       "      <td>Financials</td>\n",
       "      <td>United States of America</td>\n",
       "    </tr>\n",
       "    <tr>\n",
       "      <th>1</th>\n",
       "      <td>AXP1YUSAX=R</td>\n",
       "      <td>1Y</td>\n",
       "      <td>7.320</td>\n",
       "      <td>AMERICAN EXPRESS</td>\n",
       "      <td>USD</td>\n",
       "      <td>SNRFOR</td>\n",
       "      <td>Ex-Restruct14</td>\n",
       "      <td>BBB</td>\n",
       "      <td>(40-49)</td>\n",
       "      <td>Financials</td>\n",
       "      <td>United States of America</td>\n",
       "    </tr>\n",
       "    <tr>\n",
       "      <th>2</th>\n",
       "      <td>BAC1YUSAX=R</td>\n",
       "      <td>1Y</td>\n",
       "      <td>20.140</td>\n",
       "      <td>BOFAML</td>\n",
       "      <td>USD</td>\n",
       "      <td>SNRFOR</td>\n",
       "      <td>Ex-Restruct14</td>\n",
       "      <td>A</td>\n",
       "      <td>(40-49)</td>\n",
       "      <td>Financials</td>\n",
       "      <td>United States of America</td>\n",
       "    </tr>\n",
       "    <tr>\n",
       "      <th>3</th>\n",
       "      <td>BAC1YUSSX=R</td>\n",
       "      <td>1Y</td>\n",
       "      <td>28.200</td>\n",
       "      <td>BOFAML</td>\n",
       "      <td>USD</td>\n",
       "      <td>SUBLT2</td>\n",
       "      <td>Ex-Restruct14</td>\n",
       "      <td>A</td>\n",
       "      <td>(0-29)</td>\n",
       "      <td>Financials</td>\n",
       "      <td>United States of America</td>\n",
       "    </tr>\n",
       "    <tr>\n",
       "      <th>4</th>\n",
       "      <td>COFC1YUSAX=R</td>\n",
       "      <td>1Y</td>\n",
       "      <td>6.390</td>\n",
       "      <td>CAPITAL ONE BANK</td>\n",
       "      <td>USD</td>\n",
       "      <td>SNRFOR</td>\n",
       "      <td>Ex-Restruct14</td>\n",
       "      <td>BBB</td>\n",
       "      <td>(40-49)</td>\n",
       "      <td>Financials</td>\n",
       "      <td>United States of America</td>\n",
       "    </tr>\n",
       "    <tr>\n",
       "      <th>...</th>\n",
       "      <td>...</td>\n",
       "      <td>...</td>\n",
       "      <td>...</td>\n",
       "      <td>...</td>\n",
       "      <td>...</td>\n",
       "      <td>...</td>\n",
       "      <td>...</td>\n",
       "      <td>...</td>\n",
       "      <td>...</td>\n",
       "      <td>...</td>\n",
       "      <td>...</td>\n",
       "    </tr>\n",
       "    <tr>\n",
       "      <th>11519</th>\n",
       "      <td>AYPF5YUSAC=MT</td>\n",
       "      <td>5Y</td>\n",
       "      <td>573.997</td>\n",
       "      <td>YPF</td>\n",
       "      <td>USD</td>\n",
       "      <td>SNRFOR</td>\n",
       "      <td>Cum-Restruct14</td>\n",
       "      <td>CCC</td>\n",
       "      <td>(0-29)</td>\n",
       "      <td>Energy</td>\n",
       "      <td>Argentina</td>\n",
       "    </tr>\n",
       "    <tr>\n",
       "      <th>11520</th>\n",
       "      <td>YRCW5YUSAX=MT</td>\n",
       "      <td>5Y</td>\n",
       "      <td>651.066</td>\n",
       "      <td>YRC WORLDWIDE</td>\n",
       "      <td>USD</td>\n",
       "      <td>SNRFOR</td>\n",
       "      <td>Ex-Restruct14</td>\n",
       "      <td>CCC</td>\n",
       "      <td>(0-29)</td>\n",
       "      <td>Industrials</td>\n",
       "      <td>United States of America</td>\n",
       "    </tr>\n",
       "    <tr>\n",
       "      <th>11521</th>\n",
       "      <td>YUM5YUSAX=MT</td>\n",
       "      <td>5Y</td>\n",
       "      <td>96.674</td>\n",
       "      <td>YUM! BRANDS</td>\n",
       "      <td>USD</td>\n",
       "      <td>SNRFOR</td>\n",
       "      <td>Ex-Restruct14</td>\n",
       "      <td>BBB</td>\n",
       "      <td>(40-49)</td>\n",
       "      <td>Consumer Cyclicals</td>\n",
       "      <td>United States of America</td>\n",
       "    </tr>\n",
       "    <tr>\n",
       "      <th>11522</th>\n",
       "      <td>ZFFR5YEUAM=MT</td>\n",
       "      <td>5Y</td>\n",
       "      <td>137.709</td>\n",
       "      <td>ZF FRIDRICHSHFN</td>\n",
       "      <td>EUR</td>\n",
       "      <td>SNRFOR</td>\n",
       "      <td>M-Mod Restruct14</td>\n",
       "      <td>NR</td>\n",
       "      <td>(40-49)</td>\n",
       "      <td>Consumer Cyclicals</td>\n",
       "      <td>Europe &amp; Central Asia</td>\n",
       "    </tr>\n",
       "    <tr>\n",
       "      <th>11523</th>\n",
       "      <td>ZURB5YEUAM=MT</td>\n",
       "      <td>5Y</td>\n",
       "      <td>35.726</td>\n",
       "      <td>ZURICH VG</td>\n",
       "      <td>EUR</td>\n",
       "      <td>SNRFOR</td>\n",
       "      <td>M-Mod Restruct14</td>\n",
       "      <td>A</td>\n",
       "      <td>(40-49)</td>\n",
       "      <td>Financials</td>\n",
       "      <td>Europe &amp; Central Asia</td>\n",
       "    </tr>\n",
       "  </tbody>\n",
       "</table>\n",
       "<p>11524 rows × 11 columns</p>\n",
       "</div>"
      ],
      "text/plain": [
       "                RICS Term  Prices/Upfronts              Name Currency    Rank  \\\n",
       "0       GMAC1YUSAX=R   1Y           22.880    ALLY FINANCIAL      USD  SNRFOR   \n",
       "1        AXP1YUSAX=R   1Y            7.320  AMERICAN EXPRESS      USD  SNRFOR   \n",
       "2        BAC1YUSAX=R   1Y           20.140            BOFAML      USD  SNRFOR   \n",
       "3        BAC1YUSSX=R   1Y           28.200            BOFAML      USD  SUBLT2   \n",
       "4       COFC1YUSAX=R   1Y            6.390  CAPITAL ONE BANK      USD  SNRFOR   \n",
       "...              ...  ...              ...               ...      ...     ...   \n",
       "11519  AYPF5YUSAC=MT   5Y          573.997               YPF      USD  SNRFOR   \n",
       "11520  YRCW5YUSAX=MT   5Y          651.066     YRC WORLDWIDE      USD  SNRFOR   \n",
       "11521   YUM5YUSAX=MT   5Y           96.674       YUM! BRANDS      USD  SNRFOR   \n",
       "11522  ZFFR5YEUAM=MT   5Y          137.709   ZF FRIDRICHSHFN      EUR  SNRFOR   \n",
       "11523  ZURB5YEUAM=MT   5Y           35.726         ZURICH VG      EUR  SNRFOR   \n",
       "\n",
       "             Doc Clause Cal final recovery rate TRBC Economic Sector Name  \\\n",
       "0         Ex-Restruct14        BB       (40-49)                Financials   \n",
       "1         Ex-Restruct14       BBB       (40-49)                Financials   \n",
       "2         Ex-Restruct14         A       (40-49)                Financials   \n",
       "3         Ex-Restruct14         A        (0-29)                Financials   \n",
       "4         Ex-Restruct14       BBB       (40-49)                Financials   \n",
       "...                 ...       ...           ...                       ...   \n",
       "11519    Cum-Restruct14       CCC        (0-29)                    Energy   \n",
       "11520     Ex-Restruct14       CCC        (0-29)               Industrials   \n",
       "11521     Ex-Restruct14       BBB       (40-49)        Consumer Cyclicals   \n",
       "11522  M-Mod Restruct14        NR       (40-49)        Consumer Cyclicals   \n",
       "11523  M-Mod Restruct14         A       (40-49)                Financials   \n",
       "\n",
       "                         Region  \n",
       "0      United States of America  \n",
       "1      United States of America  \n",
       "2      United States of America  \n",
       "3      United States of America  \n",
       "4      United States of America  \n",
       "...                         ...  \n",
       "11519                 Argentina  \n",
       "11520  United States of America  \n",
       "11521  United States of America  \n",
       "11522     Europe & Central Asia  \n",
       "11523     Europe & Central Asia  \n",
       "\n",
       "[11524 rows x 11 columns]"
      ]
     },
     "execution_count": 7,
     "metadata": {},
     "output_type": "execute_result"
    }
   ],
   "source": [
    "data = pd.read_csv(\"CDS_maturities.csv\")\n",
    "data"
   ]
  },
  {
   "cell_type": "code",
   "execution_count": 8,
   "id": "b9556066",
   "metadata": {},
   "outputs": [
    {
     "data": {
      "text/plain": [
       "5Y     1766\n",
       "2Y     1085\n",
       "3Y     1085\n",
       "4Y     1085\n",
       "7Y     1085\n",
       "10Y    1084\n",
       "20Y    1084\n",
       "30Y    1084\n",
       "1Y     1083\n",
       "6M     1083\n",
       "Name: Term, dtype: int64"
      ]
     },
     "execution_count": 8,
     "metadata": {},
     "output_type": "execute_result"
    }
   ],
   "source": [
    "data['Term'].value_counts()"
   ]
  },
  {
   "cell_type": "code",
   "execution_count": 10,
   "id": "a8a3b51d",
   "metadata": {},
   "outputs": [
    {
     "data": {
      "text/plain": [
       "USD    6717\n",
       "EUR    3470\n",
       "JPY    1337\n",
       "Name: Currency, dtype: int64"
      ]
     },
     "execution_count": 10,
     "metadata": {},
     "output_type": "execute_result"
    }
   ],
   "source": [
    "data['Currency'].value_counts()"
   ]
  },
  {
   "cell_type": "code",
   "execution_count": 11,
   "id": "ad73c7e1",
   "metadata": {},
   "outputs": [
    {
     "data": {
      "text/plain": [
       "United States of America       4285\n",
       "Europe & Central Asia          3809\n",
       "Japan                          1448\n",
       "East Asia & Pacific - Japan    1213\n",
       "Canada                          277\n",
       "Middle East & North Africa      173\n",
       "Brazil                           55\n",
       "Mexico                           53\n",
       " Sub-Saharan Africa              34\n",
       "Bermuda                          22\n",
       "South Asia                       11\n",
       "Cayman Islands                   11\n",
       "Colombia                         11\n",
       "Chile                            11\n",
       "Argentina                        11\n",
       "Dominican Republic               10\n",
       "El Salvador                      10\n",
       "Guatemala                        10\n",
       "Jamaica                          10\n",
       "Panama                           10\n",
       "Peru                             10\n",
       "Trinidad and Tobago              10\n",
       "Uruguay                          10\n",
       "Costa Rica                       10\n",
       "Ecuador                          10\n",
       "Name: Region, dtype: int64"
      ]
     },
     "execution_count": 11,
     "metadata": {},
     "output_type": "execute_result"
    }
   ],
   "source": [
    "data['Region'].value_counts()"
   ]
  },
  {
   "cell_type": "code",
   "execution_count": 12,
   "id": "703eb6fe",
   "metadata": {},
   "outputs": [
    {
     "data": {
      "text/plain": [
       "BBB    3957\n",
       "A      2786\n",
       "NR     2344\n",
       "BB     1137\n",
       "AA      642\n",
       "B       510\n",
       "AAA      88\n",
       "CCC      44\n",
       "D        16\n",
       "Name: Cal final, dtype: int64"
      ]
     },
     "execution_count": 12,
     "metadata": {},
     "output_type": "execute_result"
    }
   ],
   "source": [
    "data['Cal final'].value_counts()"
   ]
  },
  {
   "cell_type": "code",
   "execution_count": 9,
   "id": "43dc92b6",
   "metadata": {},
   "outputs": [
    {
     "data": {
      "text/plain": [
       "<AxesSubplot: ylabel='Frequency'>"
      ]
     },
     "execution_count": 9,
     "metadata": {},
     "output_type": "execute_result"
    },
    {
     "data": {
      "image/png": "[encoded data removed]",
      "text/plain": [
       "<Figure size 640x480 with 1 Axes>"
      ]
     },
     "metadata": {},
     "output_type": "display_data"
    }
   ],
   "source": [
    "data['Prices/Upfronts'].plot(kind='hist')"
   ]
  },
  {
   "cell_type": "code",
   "execution_count": 16,
   "id": "c6a4f1a1",
   "metadata": {},
   "outputs": [
    {
     "data": {
      "text/plain": [
       "<AxesSubplot: >"
      ]
     },
     "execution_count": 16,
     "metadata": {},
     "output_type": "execute_result"
    },
    {
     "data": {
      "image/png": "[encoded data removed]",
      "text/plain": [
       "<Figure size 640x480 with 1 Axes>"
      ]
     },
     "metadata": {},
     "output_type": "display_data"
    }
   ],
   "source": [
    "np.log(data['Prices/Upfronts']).hist(bins=20)"
   ]
  },
  {
   "cell_type": "code",
   "execution_count": 21,
   "id": "96ab7c7b",
   "metadata": {},
   "outputs": [
    {
     "data": {
      "text/plain": [
       "<AxesSubplot: xlabel='Prices/Upfronts', ylabel='Cal final'>"
      ]
     },
     "execution_count": 21,
     "metadata": {},
     "output_type": "execute_result"
    },
    {
     "data": {
      "image/png": "[encoded data removed]",
      "text/plain": [
       "<Figure size 640x480 with 1 Axes>"
      ]
     },
     "metadata": {},
     "output_type": "display_data"
    }
   ],
   "source": [
    "sns.boxplot(data=data, x='Prices/Upfronts', y='Cal final',\n",
    "           order=[\"AAA\", \"AA\", \"A\", \"BBB\", \"BB\", \"B\", \"CCC\", \"D\", \"NR\"])"
   ]
  }
 ],
 "metadata": {
  "kernelspec": {
   "display_name": "Python 3 (ipykernel)",
   "language": "python",
   "name": "python3"
  },
  "language_info": {
   "codemirror_mode": {
    "name": "ipython",
    "version": 3
   },
   "file_extension": ".py",
   "mimetype": "text/x-python",
   "name": "python",
   "nbconvert_exporter": "python",
   "pygments_lexer": "ipython3",
   "version": "3.9.12"
  }
 },
 "nbformat": 4,
 "nbformat_minor": 5
}
