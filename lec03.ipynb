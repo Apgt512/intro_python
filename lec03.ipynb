{
 "cells": [
  {
   "cell_type": "markdown",
   "metadata": {
    "slideshow": {
     "slide_type": "slide"
    }
   },
   "source": [
    "<h1 style=\"color:#872325\">Control Flow</h1>"
   ]
  },
  {
   "cell_type": "markdown",
   "metadata": {
    "slideshow": {
     "slide_type": "slide"
    }
   },
   "source": [
    "## Booleans en Python: `True`, `False`\n",
    "\n",
    "Los programas de computación toman decisiones en términos binarios, es decir, para una computadora algo solo puede ser cierto o falso.\n",
    "\n",
    "Los *booleans* son objetos en Python que pueden tomar estos valores."
   ]
  },
  {
   "cell_type": "markdown",
   "metadata": {},
   "source": [
    "Al igual que con `int`s y `float`s, los objetos booleanos contienen sus propios operadores:\n",
    "* `==`: Equivalencia\n",
    "* `!=`: Diferencia\n",
    "* `not`: Negación\n",
    "* `and`: y\n",
    "* `or`: o\n"
   ]
  },
  {
   "cell_type": "markdown",
   "metadata": {
    "slideshow": {
     "slide_type": "slide"
    }
   },
   "source": [
    "**Equivalencia**: Verdadero si y solo si a es igual a b\n",
    "\n",
    "| `==`  | True  | False |\n",
    "|-------|-------|-------|\n",
    "| True  | True  | False |\n",
    "| False | False | True  |"
   ]
  },
  {
   "cell_type": "markdown",
   "metadata": {},
   "source": [
    "**Diferencia**: Verdadero si y solo si `a` no es igual a `b`\n",
    "\n",
    "| `!=`  | True  | False |\n",
    "|-------|-------|-------|\n",
    "| True  | False  | True |\n",
    "| False | True | False  |"
   ]
  },
  {
   "cell_type": "markdown",
   "metadata": {},
   "source": [
    "**Condición \"y\":** Verdadero si y solo si `a` es verdadero y `b` es verdadero\n",
    "\n",
    "| `and`  | True  | False |\n",
    "|-------|-------|-------|\n",
    "| True  | True  | False |\n",
    "| False | False  | False  |"
   ]
  },
  {
   "cell_type": "markdown",
   "metadata": {
    "slideshow": {
     "slide_type": "fragment"
    }
   },
   "source": [
    "**Condición \"o\"**: Verdadero si `a` es verdadero o `b` es verdadero\n",
    "\n",
    "| `or`  | True  | False |\n",
    "|-------|-------|-------|\n",
    "| True  | True  | True |\n",
    "| False | True  | False  |"
   ]
  },
  {
   "cell_type": "markdown",
   "metadata": {},
   "source": [
    "**Negación**\n",
    "\n",
    "| `not`  |   |\n",
    "|-------|-------|\n",
    "| True  | False  |\n",
    "| False | True  |"
   ]
  },
  {
   "cell_type": "markdown",
   "metadata": {},
   "source": [
    "### Métodos cuyos resultados son `type(bool)`"
   ]
  },
  {
   "cell_type": "code",
   "execution_count": 1,
   "metadata": {},
   "outputs": [
    {
     "data": {
      "text/plain": [
       "False"
      ]
     },
     "execution_count": 1,
     "metadata": {},
     "output_type": "execute_result"
    }
   ],
   "source": [
    "10 < 5"
   ]
  },
  {
   "cell_type": "code",
   "execution_count": 2,
   "metadata": {},
   "outputs": [
    {
     "data": {
      "text/plain": [
       "True"
      ]
     },
     "execution_count": 2,
     "metadata": {},
     "output_type": "execute_result"
    }
   ],
   "source": [
    "5 < 10"
   ]
  },
  {
   "cell_type": "code",
   "execution_count": 3,
   "metadata": {},
   "outputs": [
    {
     "data": {
      "text/plain": [
       "False"
      ]
     },
     "execution_count": 3,
     "metadata": {},
     "output_type": "execute_result"
    }
   ],
   "source": [
    "5 > 10"
   ]
  },
  {
   "cell_type": "code",
   "execution_count": 4,
   "metadata": {},
   "outputs": [
    {
     "data": {
      "text/plain": [
       "False"
      ]
     },
     "execution_count": 4,
     "metadata": {},
     "output_type": "execute_result"
    }
   ],
   "source": [
    "5 == 10"
   ]
  },
  {
   "cell_type": "code",
   "execution_count": 1,
   "metadata": {},
   "outputs": [
    {
     "data": {
      "text/plain": [
       "True"
      ]
     },
     "execution_count": 1,
     "metadata": {},
     "output_type": "execute_result"
    }
   ],
   "source": [
    "5 != 10"
   ]
  },
  {
   "cell_type": "code",
   "execution_count": 2,
   "metadata": {},
   "outputs": [
    {
     "data": {
      "text/plain": [
       "True"
      ]
     },
     "execution_count": 2,
     "metadata": {},
     "output_type": "execute_result"
    }
   ],
   "source": [
    "\"Python\".startswith('P')"
   ]
  },
  {
   "cell_type": "code",
   "execution_count": 3,
   "metadata": {},
   "outputs": [
    {
     "data": {
      "text/plain": [
       "False"
      ]
     },
     "execution_count": 3,
     "metadata": {},
     "output_type": "execute_result"
    }
   ],
   "source": [
    "# si el string empieza con el substring especificado\n",
    "\"Python\".startswith('D')"
   ]
  },
  {
   "cell_type": "code",
   "execution_count": 6,
   "metadata": {},
   "outputs": [
    {
     "data": {
      "text/plain": [
       "False"
      ]
     },
     "execution_count": 6,
     "metadata": {},
     "output_type": "execute_result"
    }
   ],
   "source": [
    "# si el string termina con el substring especificado\n",
    "\"Python\".endswith(\"@gmail.com\")"
   ]
  },
  {
   "cell_type": "code",
   "execution_count": 5,
   "metadata": {},
   "outputs": [
    {
     "data": {
      "text/plain": [
       "True"
      ]
     },
     "execution_count": 5,
     "metadata": {},
     "output_type": "execute_result"
    }
   ],
   "source": [
    "# si todos los caracteres son minusculas\n",
    "\"python\".islower()"
   ]
  },
  {
   "cell_type": "code",
   "execution_count": 8,
   "metadata": {},
   "outputs": [
    {
     "data": {
      "text/plain": [
       "False"
      ]
     },
     "execution_count": 8,
     "metadata": {},
     "output_type": "execute_result"
    }
   ],
   "source": [
    "# si todos los caracteres del string son numericos\n",
    "\"python1\".isnumeric()"
   ]
  },
  {
   "cell_type": "code",
   "execution_count": 9,
   "metadata": {},
   "outputs": [
    {
     "data": {
      "text/plain": [
       "True"
      ]
     },
     "execution_count": 9,
     "metadata": {},
     "output_type": "execute_result"
    }
   ],
   "source": [
    "\"123456789\".isnumeric()"
   ]
  },
  {
   "cell_type": "markdown",
   "metadata": {},
   "source": [
    "### Usos y el keyword  `in`\n",
    "\n",
    "En algunas ocasiones nos interesa conocer si un objeto cuenta con alguna propiedad; tiene ciertas carácterísticas. Al correr estos programas, esperaríamos un resultado positivo o negativo, dependiendo si la propiedad se cumple."
   ]
  },
  {
   "cell_type": "markdown",
   "metadata": {},
   "source": [
    "Dada una colección de valores, usamos el keyword `in` para determinar si un valor específico se encuentra dentro de la colección dada."
   ]
  },
  {
   "cell_type": "code",
   "execution_count": 13,
   "metadata": {},
   "outputs": [
    {
     "ename": "ValueError",
     "evalue": "4 is not in list",
     "output_type": "error",
     "traceback": [
      "\u001b[1;31m---------------------------------------------------------------------------\u001b[0m",
      "\u001b[1;31mValueError\u001b[0m                                Traceback (most recent call last)",
      "Cell \u001b[1;32mIn[13], line 3\u001b[0m\n\u001b[0;32m      1\u001b[0m mi_lista \u001b[38;5;241m=\u001b[39m [\u001b[38;5;241m1\u001b[39m, \u001b[38;5;241m2\u001b[39m, \u001b[38;5;241m3\u001b[39m, \u001b[38;5;241m90\u001b[39m, \u001b[38;5;241m111\u001b[39m, \u001b[38;5;241m250\u001b[39m]\n\u001b[0;32m      2\u001b[0m \u001b[38;5;66;03m# si intentamos buscar un elemento que no esta en la lista da un error\u001b[39;00m\n\u001b[1;32m----> 3\u001b[0m \u001b[43mmi_lista\u001b[49m\u001b[38;5;241;43m.\u001b[39;49m\u001b[43mindex\u001b[49m\u001b[43m(\u001b[49m\u001b[38;5;241;43m4\u001b[39;49m\u001b[43m)\u001b[49m\n",
      "\u001b[1;31mValueError\u001b[0m: 4 is not in list"
     ]
    }
   ],
   "source": [
    "mi_lista = [1, 2, 3, 90, 111, 250]\n",
    "# si intentamos buscar un elemento que no esta en la lista da un error\n",
    "mi_lista.index(4)"
   ]
  },
  {
   "cell_type": "code",
   "execution_count": 18,
   "metadata": {},
   "outputs": [
    {
     "data": {
      "text/plain": [
       "True"
      ]
     },
     "execution_count": 18,
     "metadata": {},
     "output_type": "execute_result"
    }
   ],
   "source": [
    "1 in mi_lista"
   ]
  },
  {
   "cell_type": "code",
   "execution_count": 20,
   "metadata": {},
   "outputs": [
    {
     "data": {
      "text/plain": [
       "False"
      ]
     },
     "execution_count": 20,
     "metadata": {},
     "output_type": "execute_result"
    }
   ],
   "source": [
    "123 in mi_lista"
   ]
  },
  {
   "cell_type": "code",
   "execution_count": 21,
   "metadata": {},
   "outputs": [],
   "source": [
    "mi_string = \"Hola este es un ejemplo de string\""
   ]
  },
  {
   "cell_type": "code",
   "execution_count": 23,
   "metadata": {},
   "outputs": [
    {
     "data": {
      "text/plain": [
       "True"
      ]
     },
     "execution_count": 23,
     "metadata": {},
     "output_type": "execute_result"
    }
   ],
   "source": [
    "\"Hola\" in mi_string"
   ]
  },
  {
   "cell_type": "code",
   "execution_count": 24,
   "metadata": {},
   "outputs": [
    {
     "data": {
      "text/plain": [
       "False"
      ]
     },
     "execution_count": 24,
     "metadata": {},
     "output_type": "execute_result"
    }
   ],
   "source": [
    "\"Adios\" in mi_string"
   ]
  },
  {
   "cell_type": "markdown",
   "metadata": {},
   "source": [
    "Para un `dict`, el keyword `in` determina si una **llave** se encuentra dentro de la colección."
   ]
  },
  {
   "cell_type": "code",
   "execution_count": 30,
   "metadata": {},
   "outputs": [
    {
     "name": "stdout",
     "output_type": "stream",
     "text": [
      "{'Ana': 9, 'Jose': 10, 'Beto': 8, 7: 'Patricio'}\n"
     ]
    }
   ],
   "source": [
    "mi_dict = {\"Ana\": 9, \"Jose\": 10, \"Beto\": 8, 7: \"Patricio\"}\n",
    "print(mi_dict)"
   ]
  },
  {
   "cell_type": "code",
   "execution_count": 26,
   "metadata": {},
   "outputs": [
    {
     "data": {
      "text/plain": [
       "True"
      ]
     },
     "execution_count": 26,
     "metadata": {},
     "output_type": "execute_result"
    }
   ],
   "source": [
    "\"Ana\" in mi_dict"
   ]
  },
  {
   "cell_type": "code",
   "execution_count": 27,
   "metadata": {},
   "outputs": [
    {
     "data": {
      "text/plain": [
       "False"
      ]
     },
     "execution_count": 27,
     "metadata": {},
     "output_type": "execute_result"
    }
   ],
   "source": [
    "10 in mi_dict"
   ]
  },
  {
   "cell_type": "code",
   "execution_count": 29,
   "metadata": {},
   "outputs": [
    {
     "data": {
      "text/plain": [
       "True"
      ]
     },
     "execution_count": 29,
     "metadata": {},
     "output_type": "execute_result"
    }
   ],
   "source": [
    "# Para buscar en los valores del diccionario\n",
    "10 in mi_dict.values()"
   ]
  },
  {
   "cell_type": "code",
   "execution_count": 32,
   "metadata": {},
   "outputs": [
    {
     "data": {
      "text/plain": [
       "True"
      ]
     },
     "execution_count": 32,
     "metadata": {},
     "output_type": "execute_result"
    }
   ],
   "source": [
    "7 in mi_dict"
   ]
  },
  {
   "cell_type": "markdown",
   "metadata": {},
   "source": [
    "<h2 style=\"color:#d62728\">Ejercicios</h2>\n",
    "\n",
    "1. Analiza y explica el resultado de los siguientes comandos:\n",
    "    * `(True or False) and False`\n",
    "    * `True or False and False`\n",
    "    * `not False != (False or True)`\n",
    "    * `not not False and not False`\n",
    "2. Usando `>`, `<` y `and`, ¿de qué manera reescribrías la siguiente expresión: `3 < x < 10`? Considera `type(x) == int`\n",
    "3. Considerando la lista `nombres` y dadas las variables `edad` y `nombre` por un usuario, valida si el nombre dado se encuentra dentro de la lista de nombres y si la edad es mayor a 23. Por ejemplo, si el nombre es `\"Isaac\"` y la edad es `20`, el valor debería ser `False`.\n",
    "```python\n",
    "nombres = ['Javier', 'Tadeo', 'Simón', 'Mariano', 'Arcadio',\n",
    "           'Magdalena', 'Román', 'Liduvina', 'Isaac', 'Lorena']\n",
    "edades = [25,18,19,23,54,44,20,31,29,30]\n",
    "```\n",
    "4. Considera el diccionario `nombre_edad`. Sin evaluar las siguientes expresiones en python, piensa en los resultados de las siguientes expresiones:\n",
    "    * `\"Javier\" in nombre_edad`\n",
    "    * `\"Javier \" in nombre_edad`\n",
    "    * `28 in nombre_edad`\n",
    "    * `nombre_edad[\"Mariano\"] < 8`\n",
    "    * `\"Simón\" in nombre_edad and \"Isaac\" not in nombre_edad`\n",
    "```python\n",
    "nombre_edad = {'Javier': 25,\n",
    "                     'Tadeo': 28,\n",
    "                     'Simón': 28,\n",
    "                     'Mariano': 8}\n",
    "```"
   ]
  },
  {
   "cell_type": "code",
   "execution_count": 40,
   "metadata": {},
   "outputs": [],
   "source": [
    "# Ejercicio 1"
   ]
  },
  {
   "cell_type": "code",
   "execution_count": 33,
   "metadata": {},
   "outputs": [
    {
     "data": {
      "text/plain": [
       "False"
      ]
     },
     "execution_count": 33,
     "metadata": {},
     "output_type": "execute_result"
    }
   ],
   "source": [
    "(True or False) and False"
   ]
  },
  {
   "cell_type": "code",
   "execution_count": 36,
   "metadata": {},
   "outputs": [
    {
     "data": {
      "text/plain": [
       "True"
      ]
     },
     "execution_count": 36,
     "metadata": {},
     "output_type": "execute_result"
    }
   ],
   "source": [
    "# primero se evalua 'and', y luego 'or'\n",
    "True or False and False"
   ]
  },
  {
   "cell_type": "code",
   "execution_count": 37,
   "metadata": {},
   "outputs": [
    {
     "data": {
      "text/plain": [
       "False"
      ]
     },
     "execution_count": 37,
     "metadata": {},
     "output_type": "execute_result"
    }
   ],
   "source": [
    "not False != (False or True)"
   ]
  },
  {
   "cell_type": "code",
   "execution_count": 38,
   "metadata": {},
   "outputs": [
    {
     "data": {
      "text/plain": [
       "False"
      ]
     },
     "execution_count": 38,
     "metadata": {},
     "output_type": "execute_result"
    }
   ],
   "source": [
    "# primero se evalua 'not', luego 'and'\n",
    "not not False and not False"
   ]
  },
  {
   "cell_type": "code",
   "execution_count": 39,
   "metadata": {},
   "outputs": [
    {
     "data": {
      "text/plain": [
       "False"
      ]
     },
     "execution_count": 39,
     "metadata": {},
     "output_type": "execute_result"
    }
   ],
   "source": [
    "(not (not False)) and (not False)"
   ]
  },
  {
   "cell_type": "code",
   "execution_count": 41,
   "metadata": {},
   "outputs": [
    {
     "data": {
      "text/plain": [
       "True"
      ]
     },
     "execution_count": 41,
     "metadata": {},
     "output_type": "execute_result"
    }
   ],
   "source": [
    "# Ejercicio 2\n",
    "x = 5\n",
    "(x > 3) and (x < 10)"
   ]
  },
  {
   "cell_type": "code",
   "execution_count": 42,
   "metadata": {},
   "outputs": [
    {
     "data": {
      "text/plain": [
       "False"
      ]
     },
     "execution_count": 42,
     "metadata": {},
     "output_type": "execute_result"
    }
   ],
   "source": [
    "x = 11\n",
    "(x > 3) and (x < 10)"
   ]
  },
  {
   "cell_type": "code",
   "execution_count": 43,
   "metadata": {},
   "outputs": [
    {
     "data": {
      "text/plain": [
       "False"
      ]
     },
     "execution_count": 43,
     "metadata": {},
     "output_type": "execute_result"
    }
   ],
   "source": [
    "x = 2\n",
    "(x > 3) and (x < 10)"
   ]
  },
  {
   "cell_type": "code",
   "execution_count": 47,
   "metadata": {},
   "outputs": [
    {
     "name": "stdout",
     "output_type": "stream",
     "text": [
      "Nombre:Isaac\n",
      "Edad: 20\n"
     ]
    },
    {
     "data": {
      "text/plain": [
       "False"
      ]
     },
     "execution_count": 47,
     "metadata": {},
     "output_type": "execute_result"
    }
   ],
   "source": [
    "# Ejercicio 3\n",
    "nombres = ['Javier', 'Tadeo', 'Simón', 'Mariano', 'Arcadio',\n",
    "        'Magdalena', 'Román', 'Liduvina', 'Isaac', 'Lorena']\n",
    "edades = [25,18,19,23,54,44,20,31,29,30]\n",
    "\n",
    "nombre = input(\"Nombre:\" )\n",
    "edad = input(\"Edad: \")\n",
    "\n",
    "(nombre in nombres) and (int(edad) > 23)"
   ]
  },
  {
   "cell_type": "code",
   "execution_count": 50,
   "metadata": {},
   "outputs": [
    {
     "name": "stdout",
     "output_type": "stream",
     "text": [
      "Nombre:Patricio\n"
     ]
    },
    {
     "data": {
      "text/plain": [
       "False"
      ]
     },
     "execution_count": 50,
     "metadata": {},
     "output_type": "execute_result"
    }
   ],
   "source": [
    "# Ejercicio 3\n",
    "nombres = ['Javier', 'Tadeo', 'Simón', 'Mariano', 'Arcadio',\n",
    "        'Magdalena', 'Román', 'Liduvina', 'Isaac', 'Lorena']\n",
    "edades = [25,18,19,23,54,44,20,31,29,30]\n",
    "\n",
    "nombre = input(\"Nombre:\" )\n",
    "#edad = input(\"Edad: \")\n",
    "\n",
    "# No da error por \"evaluacion floja\"\n",
    "(nombre in nombres) and (edades[nombres.index(nombre)] > 23)"
   ]
  },
  {
   "cell_type": "code",
   "execution_count": 53,
   "metadata": {},
   "outputs": [
    {
     "ename": "ValueError",
     "evalue": "'Patricio' is not in list",
     "output_type": "error",
     "traceback": [
      "\u001b[1;31m---------------------------------------------------------------------------\u001b[0m",
      "\u001b[1;31mValueError\u001b[0m                                Traceback (most recent call last)",
      "Cell \u001b[1;32mIn[53], line 1\u001b[0m\n\u001b[1;32m----> 1\u001b[0m edades[\u001b[43mnombres\u001b[49m\u001b[38;5;241;43m.\u001b[39;49m\u001b[43mindex\u001b[49m\u001b[43m(\u001b[49m\u001b[38;5;124;43m\"\u001b[39;49m\u001b[38;5;124;43mPatricio\u001b[39;49m\u001b[38;5;124;43m\"\u001b[39;49m\u001b[43m)\u001b[49m] \u001b[38;5;241m>\u001b[39m \u001b[38;5;241m23\u001b[39m\n",
      "\u001b[1;31mValueError\u001b[0m: 'Patricio' is not in list"
     ]
    }
   ],
   "source": [
    "# si python intentara evaluar esta expresion daria un error\n",
    "edades[nombres.index(\"Patricio\")] > 23"
   ]
  },
  {
   "cell_type": "code",
   "execution_count": 54,
   "metadata": {},
   "outputs": [],
   "source": [
    "# Ejercicio 4\n",
    "nombre_edad = {'Javier': 25,\n",
    "               'Tadeo': 28,\n",
    "               'Simón': 28,\n",
    "               'Mariano': 8}"
   ]
  },
  {
   "cell_type": "code",
   "execution_count": 55,
   "metadata": {},
   "outputs": [
    {
     "data": {
      "text/plain": [
       "True"
      ]
     },
     "execution_count": 55,
     "metadata": {},
     "output_type": "execute_result"
    }
   ],
   "source": [
    "\"Javier\" in nombre_edad"
   ]
  },
  {
   "cell_type": "code",
   "execution_count": 56,
   "metadata": {},
   "outputs": [
    {
     "data": {
      "text/plain": [
       "False"
      ]
     },
     "execution_count": 56,
     "metadata": {},
     "output_type": "execute_result"
    }
   ],
   "source": [
    "\"Javier \" in nombre_edad"
   ]
  },
  {
   "cell_type": "code",
   "execution_count": 57,
   "metadata": {},
   "outputs": [
    {
     "data": {
      "text/plain": [
       "False"
      ]
     },
     "execution_count": 57,
     "metadata": {},
     "output_type": "execute_result"
    }
   ],
   "source": [
    "28 in nombre_edad"
   ]
  },
  {
   "cell_type": "code",
   "execution_count": 58,
   "metadata": {},
   "outputs": [
    {
     "data": {
      "text/plain": [
       "False"
      ]
     },
     "execution_count": 58,
     "metadata": {},
     "output_type": "execute_result"
    }
   ],
   "source": [
    "nombre_edad[\"Mariano\"] < 8"
   ]
  },
  {
   "cell_type": "code",
   "execution_count": 59,
   "metadata": {},
   "outputs": [
    {
     "data": {
      "text/plain": [
       "True"
      ]
     },
     "execution_count": 59,
     "metadata": {},
     "output_type": "execute_result"
    }
   ],
   "source": [
    "(\"Simón\" in nombre_edad) and (\"Isaac\" not in nombre_edad)"
   ]
  },
  {
   "cell_type": "markdown",
   "metadata": {
    "slideshow": {
     "slide_type": "slide"
    }
   },
   "source": [
    "## Conditional Statments\n",
    "\n",
    "Hasta ahora solo hemos visto programas cuya sequencia opera de manera lineal. Cada *input* sigue la misma serie de pasos independientemente de su valor.\n",
    "<img src=\"files/prg01.png\" width=200>"
   ]
  },
  {
   "cell_type": "markdown",
   "metadata": {},
   "source": [
    "Los programas, muy comúnmente, no siguen una serie de pasos que regrese al mismo valor. Por ejemplo, al querer hacer *login* en una página de internet.\n",
    "\n",
    "<img src=\"files/prg02.png\" width=400>"
   ]
  },
  {
   "cell_type": "markdown",
   "metadata": {},
   "source": [
    "A fin de poder incluir pasos alternativos, dependiendo de una operación booleana, usamos las condiciones booleanas `if`, `else`"
   ]
  },
  {
   "cell_type": "markdown",
   "metadata": {
    "slideshow": {
     "slide_type": "slide"
    }
   },
   "source": [
    "Sintaxís de un `if` en Python\n",
    "```python\n",
    "if <condicion>:\n",
    "    <expresion>\n",
    "```\n",
    "\n",
    "* La `<condicion>` hace referencia a una operación booleana, es decir, una operación que regrese `True` o `False`. \n",
    "* La `<expresion>` hace referencia a cualquier otro programa valido. Esta se ejectuta solo si el resultado de `<condicion>` resulta `True`.\n",
    "\n",
    "El código definido arriba se conoce como un *code block*. Es importante notar que siempre, despues de una condición como `if`, toda expresión que se desee correr si esta es verdadera **debe contener una sangría de 4 espacios o un tab** en las líneas subsecuentes al `if`."
   ]
  },
  {
   "cell_type": "code",
   "execution_count": null,
   "metadata": {},
   "outputs": [],
   "source": [
    "# primer bloque\n",
    "    # segundo bloque\n",
    "    # segundo bloque\n",
    "        # tercer bloque\n",
    "        # tercer bloque\n",
    "# primer bloque\n",
    "# if mi_condicion\n",
    "    # segundo bloque se ejecutaria solo si mi_condicion fue verdadera\n",
    "    # segundo bloque se ejecutaria solo si mi_condicion fue verdadera\n",
    "    # segundo bloque se ejecutaria solo si mi_condicion fue verdadera\n",
    "    # if nueva_condicion\n",
    "        # tercer bloque solo se ejecutaria solo si mi_condicion fue verdadera y tambien nueva_condicion\n",
    "# primer bloque"
   ]
  },
  {
   "cell_type": "code",
   "execution_count": 67,
   "metadata": {},
   "outputs": [
    {
     "name": "stdout",
     "output_type": "stream",
     "text": [
      "Escribe tu usuario: usr131\n",
      "Hola usr131!\n"
     ]
    }
   ],
   "source": [
    "lista_usuarios = ['usr186', 'usr203', 'usr919', 'usr989',\n",
    "                  'usr587', 'usr131', 'usr640', 'usr757',\n",
    "                  'usr237', 'usr491']\n",
    "\n",
    "usuario = input(\"Escribe tu usuario: \")\n",
    "\n",
    "if usuario in lista_usuarios:\n",
    "    print(f\"Hola {usuario}!\")"
   ]
  },
  {
   "cell_type": "markdown",
   "metadata": {},
   "source": [
    "¿Qué sucede si el usuario no se reconoce?  \n",
    "En ese caso `usuario in lista_usuarios == False` y la expresión no se ejecuta."
   ]
  },
  {
   "cell_type": "code",
   "execution_count": 70,
   "metadata": {},
   "outputs": [
    {
     "name": "stdout",
     "output_type": "stream",
     "text": [
      "Escribe tu usuario: Patricio\n",
      "No se reconoce el usuario!\n"
     ]
    }
   ],
   "source": [
    "lista_usuarios = ['usr186', 'usr203', 'usr919', 'usr989',\n",
    "                  'usr587', 'usr131', 'usr640', 'usr757',\n",
    "                  'usr237', 'usr491']\n",
    "\n",
    "usuario = input(\"Escribe tu usuario: \")\n",
    "\n",
    "if usuario in lista_usuarios:\n",
    "    print(f\"Hola {usuario}!\")\n",
    "\n",
    "if (usuario in lista_usuarios) == False:\n",
    "    print(\"No se reconoce el usuario!\")"
   ]
  },
  {
   "cell_type": "code",
   "execution_count": 71,
   "metadata": {},
   "outputs": [
    {
     "name": "stdout",
     "output_type": "stream",
     "text": [
      "Escribe tu usuario: Patricio\n",
      "No se reconoce el usuario!\n"
     ]
    }
   ],
   "source": [
    "lista_usuarios = ['usr186', 'usr203', 'usr919', 'usr989',\n",
    "                  'usr587', 'usr131', 'usr640', 'usr757',\n",
    "                  'usr237', 'usr491']\n",
    "\n",
    "usuario = input(\"Escribe tu usuario: \")\n",
    "\n",
    "if usuario in lista_usuarios:\n",
    "    print(f\"Hola {usuario}!\")\n",
    "\n",
    "if usuario not in lista_usuarios:\n",
    "    print(\"No se reconoce el usuario!\")"
   ]
  },
  {
   "cell_type": "code",
   "execution_count": 72,
   "metadata": {},
   "outputs": [
    {
     "name": "stdout",
     "output_type": "stream",
     "text": [
      "Escribe tu usuario: Patricio\n",
      "No se reconoce el usuario!\n"
     ]
    }
   ],
   "source": [
    "lista_usuarios = ['usr186', 'usr203', 'usr919', 'usr989',\n",
    "                  'usr587', 'usr131', 'usr640', 'usr757',\n",
    "                  'usr237', 'usr491']\n",
    "\n",
    "usuario = input(\"Escribe tu usuario: \")\n",
    "\n",
    "# El bloque de \"else\" se ejecuta cuando la condicion es falsa\n",
    "if usuario in lista_usuarios:\n",
    "    print(f\"Hola {usuario}!\")\n",
    "else: #if usuario not in lista_usuarios:\n",
    "    print(\"No se reconoce el usuario!\")"
   ]
  },
  {
   "cell_type": "markdown",
   "metadata": {},
   "source": [
    "En ocasiones es necesario tener más de dos condiciones.  \n",
    "Supongamos que dentro de nuestro ejemplo de usuarios en un sistema existen usarios bloqueados. En este caso, tendríamos tres condiciones."
   ]
  },
  {
   "cell_type": "code",
   "execution_count": 77,
   "metadata": {},
   "outputs": [
    {
     "name": "stdout",
     "output_type": "stream",
     "text": [
      "Escribe tu usuario: usr160\n",
      "Usuario 'usr160' bloqueado!\n"
     ]
    }
   ],
   "source": [
    "lista_usuarios = ['usr186', 'usr203', 'usr919', 'usr989',\n",
    "                  'usr587', 'usr131', 'usr640', 'usr757',\n",
    "                  'usr237', 'usr491', 'usr160', 'usr161',\n",
    "                  'usr1622']\n",
    "\n",
    "lista_bloqueados = ['usr160', 'usr161', 'usr1622']\n",
    "\n",
    "usuario = input(\"Escribe tu usuario: \")\n",
    "\n",
    "if usuario in lista_bloqueados:\n",
    "    print(f\"Usuario '{usuario}' bloqueado!\")\n",
    "elif usuario in lista_usuarios:\n",
    "    print(f\"Hola {usuario}!\")\n",
    "else:\n",
    "    print(\"No se reconoce el usuario!\")"
   ]
  },
  {
   "cell_type": "code",
   "execution_count": 76,
   "metadata": {},
   "outputs": [
    {
     "name": "stdout",
     "output_type": "stream",
     "text": [
      "Escribe un numero: uno\n",
      "1\n",
      "Fin!\n"
     ]
    }
   ],
   "source": [
    "mi_string = input(\"Escribe un numero: \")\n",
    "\n",
    "if mi_string == \"uno\":\n",
    "    print(1)\n",
    "elif mi_string == \"dos\":\n",
    "    print(2)\n",
    "elif mi_string == \"tres\":\n",
    "    print(3)\n",
    "else:\n",
    "    print(\"no reconozco el numero\")\n",
    "\n",
    "print('Fin!')"
   ]
  },
  {
   "cell_type": "markdown",
   "metadata": {},
   "source": [
    "**Nota** Las condiciones declaradas se corren una por una de manera *top down*, una vez que algunas de las condiciones regresa `True`, el programa corre el código declarado para la cóndicion y se descartan."
   ]
  },
  {
   "cell_type": "markdown",
   "metadata": {},
   "source": [
    "<h2 style=\"color:#d62728\">Ejercicios</h2>\n",
    "\n",
    "1. Escribe un programa que mencione cómo se encuentra el clima. El Usuario deberá ingresar la temperatura actual:\n",
    "    * Si `temperatura` es mayor a 35 o igual, el programa deberá imprimir `\"Hace mucho calor\"`.\n",
    "    * Si `temperatura` es menor a -15, el programa deberá imprimir `\"Hace mucho frío\"`\n",
    "    * Si `temperatura` es mayor a 25 y menor a 35, el programa deberá imprimir `\"Hace calor\"` \n",
    "    * Si `temperatura` es mayor o igual a -15 y menor a 12, el programa deberá imprimir `\"Hace frío\"`\n",
    "    * Si `temperatura` se encuentra entre 12 y 25 (inclusivo), el programa deberá imprimir `\"El clima es templado\"`\n",
    "1. Consierando el diccionario `user_pass`, crea un programa que pida un usuario y valide si este se encuentra dentro del diccionario. Si el usuario se encuentra dentro de `user_pass`, el programa deberá imprimir `\"usuario registrado\"`; de otra manera, el programa deberá imprimir `\"usuario no registrado\"`. **nota: los programas de usuario-contraseña son más complicados**\n",
    "```python\n",
    "user_pass = {'usr503': '2vu2bo',\n",
    " 'usr085': 'geeaa',\n",
    " 'usr406': 'xqzbiy',\n",
    " 'usr182': 'jbngo0',\n",
    " 'usr168': 'qih6e',\n",
    " 'usr900': '6ynym',\n",
    " 'usr542': '7p6mnd',\n",
    " 'usr847': 'ruqq6y',\n",
    " 'usr629': '9qs9g5',\n",
    " 'usr418': 'f15lg'}\n",
    "```\n",
    "Por ejemplo:\n",
    "```\n",
    "Ingresa tu usuario: usr085\n",
    "Usuario Registrado\n",
    "```\n",
    "1. Modifica el programa anterior: si el usuario **no** ha sido registrado, el programa deberá preguntarle al usuario si se desea registrar, si el usuario ingresa `\"s\"`, el programa deberá preguntarle al usuario una contraseña y agregarlo a `user_pass`; si el usuario ingresa `\"n\"` el programa deberá imprimir `\"El usuario no fue registrado\"`; si el usuario ingresa cualquier otra secuencia, el programa deberá imprimir `\"Opción no valida. Saliendo del programa\"`  \n",
    "Por ejemplo:\n",
    "```\n",
    "Ingresa tu usuario: usr1643\n",
    "Usuario no registrado. ¿Deseas inscribirte (s/n)? n\n",
    "Saliendo del programa...\n",
    "```\n",
    "```\n",
    "Ingresa tu usuario: usr1643\n",
    "Usuario no registrado. ¿Deseas inscribirte (s/n)? y\n",
    "Opción no valida. Saliendo del programa\n",
    "```\n",
    "```\n",
    "Ingresa tu usuario: usr1643\n",
    "Usuario no registrado. ¿Deseas inscribirte (s/n)? s\n",
    "Ingresa tu contraseña: grapple981\n",
    "```\n",
    "Y el diccionario se vería modificado de la siguiente manera\n",
    "```python\n",
    "{'usr503': '2vu2bo',\n",
    "     ...\n",
    " 'usr418': 'f15lg',\n",
    " 'usr1643': 'grapple981'}\n",
    "```\n",
    "1. Modifica el programa anterior: Si el usuario ya se ha registrado, el programa deberá pedirle al usuario que ingrese su contraseña. Si la contraseña no es la correcta, el programa deberá imprimir `\"Contraseña invalida\"`; si lo es, el programa deberá darle la bienvenida al usuario.\n",
    "```\n",
    "Ingresa tu usuario: usr085\n",
    "Ingresa tu contraseña: passw\n",
    "Contraseña invalida\n",
    "```\n",
    "```\n",
    "Ingresa tu usuario: usr085\n",
    "Ingresa tu contraseña: geeaa\n",
    "Bienvenido, usr085\n",
    "```"
   ]
  },
  {
   "cell_type": "code",
   "execution_count": null,
   "metadata": {},
   "outputs": [],
   "source": []
  },
  {
   "cell_type": "markdown",
   "metadata": {
    "slideshow": {
     "slide_type": "slide"
    }
   },
   "source": [
    "### in-line conditionals\n",
    "En ocasiones es necesario asignar el valor a una variable de manera dinámica."
   ]
  },
  {
   "cell_type": "code",
   "execution_count": null,
   "metadata": {},
   "outputs": [],
   "source": []
  },
  {
   "cell_type": "markdown",
   "metadata": {},
   "source": [
    "En casos cuando las condiciones son binarias (`if-else`) y de complejidad baja, python nos permite asignar el valor a una variable de una manera dinámica."
   ]
  },
  {
   "cell_type": "code",
   "execution_count": null,
   "metadata": {},
   "outputs": [],
   "source": []
  },
  {
   "cell_type": "markdown",
   "metadata": {},
   "source": [
    "<h2 style=\"color:#d62728\">Ejercicios</h2>\n",
    "\n",
    "1. Usando *in conditionals* escribe un programa que le pida al usuario un número `num` e imprima `\"El número <num> es par\"`, si `num` es par o `\"El número <num> es impar\"` si el número es impar."
   ]
  },
  {
   "cell_type": "code",
   "execution_count": null,
   "metadata": {},
   "outputs": [],
   "source": []
  }
 ],
 "metadata": {
  "celltoolbar": "Slideshow",
  "kernelspec": {
   "display_name": "Python 3 (ipykernel)",
   "language": "python",
   "name": "python3"
  },
  "language_info": {
   "codemirror_mode": {
    "name": "ipython",
    "version": 3
   },
   "file_extension": ".py",
   "mimetype": "text/x-python",
   "name": "python",
   "nbconvert_exporter": "python",
   "pygments_lexer": "ipython3",
   "version": "3.9.12"
  }
 },
 "nbformat": 4,
 "nbformat_minor": 2
}
