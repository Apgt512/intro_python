{
 "cells": [
  {
   "cell_type": "markdown",
   "metadata": {},
   "source": [
    "<h1 style=\"color:#872325\">File I/O y Módulos</h1>"
   ]
  },
  {
   "cell_type": "markdown",
   "metadata": {},
   "source": [
    "En esta sección veremos como trabajar y manipular archivos desde python. Python viene incluido con una serie de librerías y funciones predefinidas que nos permiten trabajar con archivos. De esta manera, al correr un proceso, podemos guardar su resultado a un archivo o, en su defecto, leer el contenido del archivo a fin de trabajar con sus valores."
   ]
  },
  {
   "cell_type": "markdown",
   "metadata": {},
   "source": [
    "### `open`\n",
    "\n",
    "La función `open` nos permite abrir un archivo encontrado desde nuestra computadora. Con un archivo abierto, podemos escribir, leer, o añadir. \n",
    "\n",
    "**Es importante tener en cuenta en donde estamos trabajando y en donde se encuentra el archivo que queremos leer.**"
   ]
  },
  {
   "cell_type": "markdown",
   "metadata": {},
   "source": [
    "Actualmente me encuentro en el directorio"
   ]
  },
  {
   "cell_type": "code",
   "execution_count": 1,
   "metadata": {},
   "outputs": [
    {
     "data": {
      "text/plain": [
       "'C:\\\\Users\\\\PatricioGarcia\\\\OneDrive - Adenza\\\\Documentos\\\\My Documents\\\\Analysic\\\\Python 2023-06-12\\\\intro_python'"
      ]
     },
     "execution_count": 1,
     "metadata": {},
     "output_type": "execute_result"
    }
   ],
   "source": [
    "pwd"
   ]
  },
  {
   "cell_type": "markdown",
   "metadata": {},
   "source": [
    "El archivo que deseamos leer se llama `texto.txt`, el cual no se encuentra dentro de la carpeta actual"
   ]
  },
  {
   "cell_type": "code",
   "execution_count": 2,
   "metadata": {},
   "outputs": [
    {
     "name": "stdout",
     "output_type": "stream",
     "text": [
      " Volume in drive C has no label.\n",
      " Volume Serial Number is AAF5-5553\n",
      "\n",
      " Directory of C:\\Users\\PatricioGarcia\\OneDrive - Adenza\\Documentos\\My Documents\\Analysic\\Python 2023-06-12\\intro_python\n",
      "\n",
      "06/29/2023  05:31 PM    <DIR>          .\n",
      "06/29/2023  05:31 PM    <DIR>          ..\n",
      "06/28/2023  03:37 PM    <DIR>          .ipynb_checkpoints\n",
      "06/28/2023  03:40 PM    <DIR>          files\n",
      "06/19/2023  06:56 PM            97,735 lec01.ipynb\n",
      "06/20/2023  05:46 PM           158,510 lec02.ipynb\n",
      "06/22/2023  06:21 PM            40,697 lec03.ipynb\n",
      "06/28/2023  12:13 PM            45,080 lec04.ipynb\n",
      "06/29/2023  05:30 PM            68,822 lec05.ipynb\n",
      "06/29/2023  05:31 PM            13,422 lec06.ipynb\n",
      "               6 File(s)        424,266 bytes\n",
      "               4 Dir(s)  540,851,429,376 bytes free\n"
     ]
    }
   ],
   "source": [
    "ls"
   ]
  },
  {
   "cell_type": "markdown",
   "metadata": {},
   "source": [
    "Sabiendo la ruta al archivo a leer, existen dos maneras de acceder directamente al archivo sin necesidad de modificar el directorio en donde estamos trabajando.\n",
    "\n",
    "En este ejemplo, el archivo a leer se encuentra dentro de  \n",
    "`C:\\Users\\PatricioGarcia\\OneDrive - Adenza\\Documentos\\My Documents\\Analysic\\Python 2023-06-12\\intro_python\\files\\lec06`"
   ]
  },
  {
   "cell_type": "markdown",
   "metadata": {},
   "source": [
    "**Referencia Absoluta**  \n",
    "La primera manera es llegar al archivo desedo considerando toda la ruta hasta el archivo a leer  \n",
    "`C:\\Users\\PatricioGarcia\\OneDrive - Adenza\\Documentos\\My Documents\\Analysic\\Python 2023-06-12\\intro_python\\files\\lec06`"
   ]
  },
  {
   "cell_type": "markdown",
   "metadata": {},
   "source": [
    "**Referencia Relativa**  \n",
    "La segunda manera es especificando, relativo a nuestro directorio, hacía donde nos vamos a mover. Abajo se muestra el diagrama del proyecto.\n",
    "```\n",
    ".\n",
    "├── README.md\n",
    "├── files\n",
    "│   ├── lec01\n",
    "│   │   ├── hello.py\n",
    "│   │   ├── hw_script.png\n",
    "│   │   └── hw_terminal.png\n",
    "│   ├── lec02\n",
    "│   │   ├── prg01.png\n",
    "│   │   └── prg02.png\n",
    "│   ├── lec06\n",
    "│   │   ├── mun_cdmx.csv\n",
    "│   │   └── texto.txt\n",
    "│   └── misc\n",
    "│       └── logo.gif\n",
    "└── notas\n",
    "    ├── lec01.ipynb\n",
    "    ├── lec02.ipynb\n",
    "    ├── lec03.ipynb\n",
    "    ├── lec04.ipynb\n",
    "    ├── lec05.ipynb\n",
    "    ├── lec06.ipynb\n",
    "    └── lec07.ipynb\n",
    "```\n",
    "\n",
    "\n",
    " Nos encontramos actualmente dentro la carpeta `notas`. Si quisieramos llegar a la carpeta `lec06` dentro de `files`, tendríamos que *retroceder* una carpeta para luego acceder a `files`.\n",
    " \n",
    " Retrocedemos una carpeta de manera *relativa* por medio de `..`. En otras palabras, si quisieramos acceder al archivo `texto.txt` de manera relativa, la ruta sería  \n",
    "`../files/lec06/texto.txt`"
   ]
  },
  {
   "cell_type": "markdown",
   "metadata": {},
   "source": [
    "### ...de regreso a `open` (leyendo archivos)\n",
    "\n",
    "Abrimos y leemos un archivo en Python con la función `open` cuyo primer argumento es la ruta del archivo a a acceder.\n",
    "\n",
    "```python\n",
    "open(file, mode='r', buffering=-1, encoding=None, errors=None, newline=None, closefd=True, opener=None)\n",
    "```"
   ]
  },
  {
   "cell_type": "code",
   "execution_count": 3,
   "metadata": {},
   "outputs": [
    {
     "data": {
      "text/plain": [
       "<_io.TextIOWrapper name='files/lec06/texto.txt' mode='r' encoding='cp1252'>"
      ]
     },
     "execution_count": 3,
     "metadata": {},
     "output_type": "execute_result"
    }
   ],
   "source": [
    "ruta_archivo = \"files/lec06/texto.txt\"\n",
    "\n",
    "f = open(ruta_archivo)\n",
    "f"
   ]
  },
  {
   "cell_type": "code",
   "execution_count": 4,
   "metadata": {},
   "outputs": [
    {
     "data": {
      "text/plain": [
       "_io.TextIOWrapper"
      ]
     },
     "execution_count": 4,
     "metadata": {},
     "output_type": "execute_result"
    }
   ],
   "source": [
    "type(f)"
   ]
  },
  {
   "cell_type": "markdown",
   "metadata": {},
   "source": [
    "El resultado de abrir un archivo es un `file object` sobre el cual podemos manipular antes de visualizar el contenido del archivo. Dependiendo del *modo* seleccionado para trabajar con el archivo, `f` toma diferentes propiedades. Por *default* el modo es *r* (read), sin embargo, existen diferentes modos de trabajo. Enunciaremos los más comunes abajo.\n",
    "\n",
    "* `r`: leer (default)\n",
    "* `w`: escribir\n",
    "* `a`: escribir. Agrega información al final del archivo si este ya existe\n",
    "* `b`: binario. Para trabajar con archivos binarios, e.g., excel"
   ]
  },
  {
   "cell_type": "code",
   "execution_count": 5,
   "metadata": {},
   "outputs": [
    {
     "data": {
      "text/plain": [
       "'Esto es un archivo de texto'"
      ]
     },
     "execution_count": 5,
     "metadata": {},
     "output_type": "execute_result"
    }
   ],
   "source": [
    "# Leemos los contenidos del archivo\n",
    "f.read()"
   ]
  },
  {
   "cell_type": "markdown",
   "metadata": {},
   "source": [
    "Para evitar posibles conflictos en el archivo, es importante cerrarlo una vez que se haya terminado de utilizar"
   ]
  },
  {
   "cell_type": "code",
   "execution_count": null,
   "metadata": {},
   "outputs": [],
   "source": [
    "f.close()"
   ]
  },
  {
   "cell_type": "markdown",
   "metadata": {},
   "source": [
    "Una vez abierto un archivo es imprescindible cerrarlo. Para tener un poco más de legibilidad y no olvidar cerrar el archivo, se puede hacer uso del *keyword* `with` que abre un archivo dentro de un bloque de texto para posteiormente cerrarlo.\n",
    "\n",
    "El keywork `with` toma un objeto (en nuestro caso un lector de archivos) que incluya dos métodos: `.open` y `.close`. Python se encarga de abrir y cerrar el archivo.\n",
    "\n",
    "\n",
    "```python\n",
    "with open(filename, mode) as f:\n",
    "    <manipulación del archivo>\n",
    "```"
   ]
  },
  {
   "cell_type": "code",
   "execution_count": 11,
   "metadata": {},
   "outputs": [
    {
     "name": "stdout",
     "output_type": "stream",
     "text": [
      "Este es un archivo de texto\n",
      "\n",
      "Este es un archivo de texto\n",
      "\n",
      "Este es un archivo de texto\n",
      "\n"
     ]
    }
   ],
   "source": [
    "with open(ruta_archivo, \"r\") as f:\n",
    "    max_line = 3\n",
    "    contador = 0\n",
    "    \n",
    "    # Por confirmar método adecuado para archivos grandes\n",
    "    for line in f:\n",
    "        contador += 1\n",
    "        print(line)\n",
    "        if contador == 3:\n",
    "            break"
   ]
  },
  {
   "cell_type": "markdown",
   "metadata": {},
   "source": [
    "Si tratamos de volver a leer el archivo, el siguiente error nos aparece:\n",
    "```python\n",
    ">>> f.read()\n",
    "ValueError                                Traceback (most recent call last)\n",
    "<ipython-input-24-873bb1270d85> in <module>()\n",
    "      1 # Si tratamos y\n",
    "----> 2 f.read()\n",
    "\n",
    "ValueError: I/O operation on closed file.\n",
    "```\n",
    "El cuál anuncia que el archivo ha sido cerrado"
   ]
  },
  {
   "cell_type": "markdown",
   "metadata": {},
   "source": [
    "### Escribiendo Archivos\n",
    "El modo `\"w\"` dentro de `open` nos permite crear nuevos archivos. La sintáxis sería la siguiente\n",
    "```python\n",
    "open(filename, \"w\")\n",
    "```"
   ]
  },
  {
   "cell_type": "code",
   "execution_count": 12,
   "metadata": {},
   "outputs": [],
   "source": [
    "with open(\"nuevo_archivo.txt\", \"w\") as my_file:\n",
    "    for i in range(10):\n",
    "        my_file.write(str(i) + \"\\n\")"
   ]
  },
  {
   "cell_type": "markdown",
   "metadata": {},
   "source": [
    "**Notas**  \n",
    "* El código anterior escribió un caracter después de otro.\n",
    "* Fue necesario convertir nuestro `int` a un `str` para poder escribir su valor"
   ]
  },
  {
   "cell_type": "markdown",
   "metadata": {},
   "source": [
    "## Módulos\n",
    "\n",
    "Un modulo  es un archivo escrito en python con funciones, clases, etc. Python contiene una librería *estándard* que contiene diferentes funciones o clases. Para hace uso de estas librerías, es necesario importarlas."
   ]
  },
  {
   "cell_type": "markdown",
   "metadata": {},
   "source": [
    "**Dos maneras de importar librerias en Python**\n",
    "```python\n",
    "import libreria\n",
    "from libreria import modulo\n",
    "```"
   ]
  },
  {
   "cell_type": "code",
   "execution_count": 13,
   "metadata": {},
   "outputs": [],
   "source": [
    "import pandas"
   ]
  },
  {
   "cell_type": "markdown",
   "metadata": {},
   "source": [
    "La primera manera de cargar una libreria es importar el nombre de la libreria. Para poder acceder a un elemento de la libería de esta manera es necesario acceder a este como `libreria.elemento`"
   ]
  },
  {
   "cell_type": "code",
   "execution_count": 14,
   "metadata": {},
   "outputs": [
    {
     "ename": "NameError",
     "evalue": "name 'DataFrame' is not defined",
     "output_type": "error",
     "traceback": [
      "\u001b[1;31m---------------------------------------------------------------------------\u001b[0m",
      "\u001b[1;31mNameError\u001b[0m                                 Traceback (most recent call last)",
      "Cell \u001b[1;32mIn[14], line 1\u001b[0m\n\u001b[1;32m----> 1\u001b[0m \u001b[43mDataFrame\u001b[49m\n",
      "\u001b[1;31mNameError\u001b[0m: name 'DataFrame' is not defined"
     ]
    }
   ],
   "source": [
    "DataFrame"
   ]
  },
  {
   "cell_type": "code",
   "execution_count": 15,
   "metadata": {},
   "outputs": [
    {
     "data": {
      "text/plain": [
       "pandas.core.frame.DataFrame"
      ]
     },
     "execution_count": 15,
     "metadata": {},
     "output_type": "execute_result"
    }
   ],
   "source": [
    "pandas.DataFrame"
   ]
  },
  {
   "cell_type": "markdown",
   "metadata": {},
   "source": [
    "Para poder ver los elementos que dependen de una libreria (o cualquier función) usamos la función `dir`."
   ]
  },
  {
   "cell_type": "code",
   "execution_count": 16,
   "metadata": {},
   "outputs": [
    {
     "data": {
      "text/plain": [
       "['ArrowDtype',\n",
       " 'BooleanDtype',\n",
       " 'Categorical',\n",
       " 'CategoricalDtype',\n",
       " 'CategoricalIndex',\n",
       " 'DataFrame',\n",
       " 'DateOffset',\n",
       " 'DatetimeIndex',\n",
       " 'DatetimeTZDtype',\n",
       " 'ExcelFile',\n",
       " 'ExcelWriter',\n",
       " 'Flags',\n",
       " 'Float32Dtype',\n",
       " 'Float64Dtype',\n",
       " 'Float64Index',\n",
       " 'Grouper',\n",
       " 'HDFStore',\n",
       " 'Index',\n",
       " 'IndexSlice',\n",
       " 'Int16Dtype',\n",
       " 'Int32Dtype',\n",
       " 'Int64Dtype',\n",
       " 'Int64Index',\n",
       " 'Int8Dtype',\n",
       " 'Interval',\n",
       " 'IntervalDtype',\n",
       " 'IntervalIndex',\n",
       " 'MultiIndex',\n",
       " 'NA',\n",
       " 'NaT',\n",
       " 'NamedAgg',\n",
       " 'Period',\n",
       " 'PeriodDtype',\n",
       " 'PeriodIndex',\n",
       " 'RangeIndex',\n",
       " 'Series',\n",
       " 'SparseDtype',\n",
       " 'StringDtype',\n",
       " 'Timedelta',\n",
       " 'TimedeltaIndex',\n",
       " 'Timestamp',\n",
       " 'UInt16Dtype',\n",
       " 'UInt32Dtype',\n",
       " 'UInt64Dtype',\n",
       " 'UInt64Index',\n",
       " 'UInt8Dtype',\n",
       " '__all__',\n",
       " '__builtins__',\n",
       " '__cached__',\n",
       " '__deprecated_num_index_names',\n",
       " '__dir__',\n",
       " '__doc__',\n",
       " '__docformat__',\n",
       " '__file__',\n",
       " '__getattr__',\n",
       " '__git_version__',\n",
       " '__loader__',\n",
       " '__name__',\n",
       " '__package__',\n",
       " '__path__',\n",
       " '__spec__',\n",
       " '__version__',\n",
       " '_config',\n",
       " '_is_numpy_dev',\n",
       " '_libs',\n",
       " '_testing',\n",
       " '_typing',\n",
       " '_version',\n",
       " 'annotations',\n",
       " 'api',\n",
       " 'array',\n",
       " 'arrays',\n",
       " 'bdate_range',\n",
       " 'compat',\n",
       " 'concat',\n",
       " 'core',\n",
       " 'crosstab',\n",
       " 'cut',\n",
       " 'date_range',\n",
       " 'describe_option',\n",
       " 'errors',\n",
       " 'eval',\n",
       " 'factorize',\n",
       " 'from_dummies',\n",
       " 'get_dummies',\n",
       " 'get_option',\n",
       " 'infer_freq',\n",
       " 'interval_range',\n",
       " 'io',\n",
       " 'isna',\n",
       " 'isnull',\n",
       " 'json_normalize',\n",
       " 'lreshape',\n",
       " 'melt',\n",
       " 'merge',\n",
       " 'merge_asof',\n",
       " 'merge_ordered',\n",
       " 'notna',\n",
       " 'notnull',\n",
       " 'offsets',\n",
       " 'option_context',\n",
       " 'options',\n",
       " 'pandas',\n",
       " 'period_range',\n",
       " 'pivot',\n",
       " 'pivot_table',\n",
       " 'plotting',\n",
       " 'qcut',\n",
       " 'read_clipboard',\n",
       " 'read_csv',\n",
       " 'read_excel',\n",
       " 'read_feather',\n",
       " 'read_fwf',\n",
       " 'read_gbq',\n",
       " 'read_hdf',\n",
       " 'read_html',\n",
       " 'read_json',\n",
       " 'read_orc',\n",
       " 'read_parquet',\n",
       " 'read_pickle',\n",
       " 'read_sas',\n",
       " 'read_spss',\n",
       " 'read_sql',\n",
       " 'read_sql_query',\n",
       " 'read_sql_table',\n",
       " 'read_stata',\n",
       " 'read_table',\n",
       " 'read_xml',\n",
       " 'reset_option',\n",
       " 'set_eng_float_format',\n",
       " 'set_option',\n",
       " 'show_versions',\n",
       " 'test',\n",
       " 'testing',\n",
       " 'timedelta_range',\n",
       " 'to_datetime',\n",
       " 'to_numeric',\n",
       " 'to_pickle',\n",
       " 'to_timedelta',\n",
       " 'tseries',\n",
       " 'unique',\n",
       " 'util',\n",
       " 'value_counts',\n",
       " 'wide_to_long']"
      ]
     },
     "execution_count": 16,
     "metadata": {},
     "output_type": "execute_result"
    }
   ],
   "source": [
    "dir(pandas)"
   ]
  },
  {
   "cell_type": "code",
   "execution_count": 18,
   "metadata": {},
   "outputs": [
    {
     "data": {
      "text/plain": [
       "['__doc__',\n",
       " '__loader__',\n",
       " '__name__',\n",
       " '__package__',\n",
       " '__spec__',\n",
       " 'acos',\n",
       " 'acosh',\n",
       " 'asin',\n",
       " 'asinh',\n",
       " 'atan',\n",
       " 'atan2',\n",
       " 'atanh',\n",
       " 'ceil',\n",
       " 'comb',\n",
       " 'copysign',\n",
       " 'cos',\n",
       " 'cosh',\n",
       " 'degrees',\n",
       " 'dist',\n",
       " 'e',\n",
       " 'erf',\n",
       " 'erfc',\n",
       " 'exp',\n",
       " 'expm1',\n",
       " 'fabs',\n",
       " 'factorial',\n",
       " 'floor',\n",
       " 'fmod',\n",
       " 'frexp',\n",
       " 'fsum',\n",
       " 'gamma',\n",
       " 'gcd',\n",
       " 'hypot',\n",
       " 'inf',\n",
       " 'isclose',\n",
       " 'isfinite',\n",
       " 'isinf',\n",
       " 'isnan',\n",
       " 'isqrt',\n",
       " 'lcm',\n",
       " 'ldexp',\n",
       " 'lgamma',\n",
       " 'log',\n",
       " 'log10',\n",
       " 'log1p',\n",
       " 'log2',\n",
       " 'modf',\n",
       " 'nan',\n",
       " 'nextafter',\n",
       " 'perm',\n",
       " 'pi',\n",
       " 'pow',\n",
       " 'prod',\n",
       " 'radians',\n",
       " 'remainder',\n",
       " 'sin',\n",
       " 'sinh',\n",
       " 'sqrt',\n",
       " 'tan',\n",
       " 'tanh',\n",
       " 'tau',\n",
       " 'trunc',\n",
       " 'ulp']"
      ]
     },
     "execution_count": 18,
     "metadata": {},
     "output_type": "execute_result"
    }
   ],
   "source": [
    "import math\n",
    "\n",
    "dir(math)"
   ]
  },
  {
   "cell_type": "markdown",
   "metadata": {},
   "source": [
    "Si deseamos solo un objecto de un módulo, podemos importar el objecto sin importar toda la librería usando \n",
    "```python\n",
    "from modulo import objecto\n",
    "```"
   ]
  },
  {
   "cell_type": "code",
   "execution_count": 19,
   "metadata": {},
   "outputs": [
    {
     "data": {
      "text/plain": [
       "0.6989700043360189"
      ]
     },
     "execution_count": 19,
     "metadata": {},
     "output_type": "execute_result"
    }
   ],
   "source": [
    "math.log10(5)"
   ]
  },
  {
   "cell_type": "code",
   "execution_count": 20,
   "metadata": {},
   "outputs": [],
   "source": [
    "from math import log10"
   ]
  },
  {
   "cell_type": "code",
   "execution_count": 21,
   "metadata": {},
   "outputs": [
    {
     "data": {
      "text/plain": [
       "0.6989700043360189"
      ]
     },
     "execution_count": 21,
     "metadata": {},
     "output_type": "execute_result"
    }
   ],
   "source": [
    "log10(5)"
   ]
  },
  {
   "cell_type": "code",
   "execution_count": 3,
   "metadata": {},
   "outputs": [
    {
     "data": {
      "text/plain": [
       "array([1., 1., 1., 1., 1.])"
      ]
     },
     "execution_count": 3,
     "metadata": {},
     "output_type": "execute_result"
    }
   ],
   "source": [
    "# Se le puede poner un alias a la librería utilizando el keyword 'as'\n",
    "import numpy as np\n",
    "\n",
    "np.ones(5)"
   ]
  },
  {
   "cell_type": "code",
   "execution_count": 4,
   "metadata": {},
   "outputs": [
    {
     "ename": "NameError",
     "evalue": "name 'numpy' is not defined",
     "output_type": "error",
     "traceback": [
      "\u001b[1;31m---------------------------------------------------------------------------\u001b[0m",
      "\u001b[1;31mNameError\u001b[0m                                 Traceback (most recent call last)",
      "Cell \u001b[1;32mIn[4], line 1\u001b[0m\n\u001b[1;32m----> 1\u001b[0m \u001b[43mnumpy\u001b[49m\u001b[38;5;241m.\u001b[39mones(\u001b[38;5;241m5\u001b[39m)\n",
      "\u001b[1;31mNameError\u001b[0m: name 'numpy' is not defined"
     ]
    }
   ],
   "source": [
    "# Debemos utilizar el alias que le asignamos\n",
    "numpy.ones(5)"
   ]
  },
  {
   "cell_type": "markdown",
   "metadata": {},
   "source": [
    "### Librería estándar Python ###\n",
    "https://docs.python.org/3/library/"
   ]
  },
  {
   "cell_type": "markdown",
   "metadata": {
    "slideshow": {
     "slide_type": "slide"
    }
   },
   "source": [
    "## Datetime "
   ]
  },
  {
   "cell_type": "code",
   "execution_count": 1,
   "metadata": {},
   "outputs": [],
   "source": [
    "from datetime import datetime"
   ]
  },
  {
   "cell_type": "markdown",
   "metadata": {
    "slideshow": {
     "slide_type": "slide"
    }
   },
   "source": [
    "Dando formato a las fechas. Documentación en:\n",
    "\n",
    "https://docs.python.org/3/library/datetime.html?highlight=datetime#strftime-and-strptime-behavior"
   ]
  },
  {
   "cell_type": "code",
   "execution_count": 5,
   "metadata": {},
   "outputs": [],
   "source": [
    "start_date = datetime(2023,7,17)"
   ]
  },
  {
   "cell_type": "code",
   "execution_count": 6,
   "metadata": {},
   "outputs": [
    {
     "data": {
      "text/plain": [
       "datetime.datetime"
      ]
     },
     "execution_count": 6,
     "metadata": {},
     "output_type": "execute_result"
    }
   ],
   "source": [
    "type(start_date)"
   ]
  },
  {
   "cell_type": "code",
   "execution_count": 7,
   "metadata": {},
   "outputs": [
    {
     "name": "stdout",
     "output_type": "stream",
     "text": [
      "2023-07-17 00:00:00\n"
     ]
    }
   ],
   "source": [
    "print(start_date)"
   ]
  },
  {
   "cell_type": "code",
   "execution_count": 11,
   "metadata": {},
   "outputs": [
    {
     "name": "stdout",
     "output_type": "stream",
     "text": [
      "%m %d %Y\n",
      "07 17 2023\n",
      "07-17-2023\n",
      "07/17/2023\n",
      "%d %m %Y\n",
      "17_07_2023\n"
     ]
    }
   ],
   "source": [
    "# Podemos especificar formatos de fecha\n",
    "print(\"%m %d %Y\")\n",
    "print(start_date.strftime(\"%m %d %Y\"))\n",
    "print(start_date.strftime(\"%m-%d-%Y\"))\n",
    "print(start_date.strftime(\"%m/%d/%Y\"))\n",
    "\n",
    "print(\"%d %m %Y\")\n",
    "print(start_date.strftime(\"%d_%m_%Y\"))"
   ]
  },
  {
   "cell_type": "code",
   "execution_count": 12,
   "metadata": {},
   "outputs": [
    {
     "data": {
      "text/plain": [
       "0"
      ]
     },
     "execution_count": 12,
     "metadata": {},
     "output_type": "execute_result"
    }
   ],
   "source": [
    "start_date.weekday()"
   ]
  },
  {
   "cell_type": "code",
   "execution_count": 13,
   "metadata": {},
   "outputs": [
    {
     "data": {
      "text/plain": [
       "2023"
      ]
     },
     "execution_count": 13,
     "metadata": {},
     "output_type": "execute_result"
    }
   ],
   "source": [
    "start_date.year"
   ]
  },
  {
   "cell_type": "code",
   "execution_count": 14,
   "metadata": {},
   "outputs": [
    {
     "data": {
      "text/plain": [
       "7"
      ]
     },
     "execution_count": 14,
     "metadata": {},
     "output_type": "execute_result"
    }
   ],
   "source": [
    "start_date.month"
   ]
  },
  {
   "cell_type": "code",
   "execution_count": 15,
   "metadata": {},
   "outputs": [
    {
     "data": {
      "text/plain": [
       "17"
      ]
     },
     "execution_count": 15,
     "metadata": {},
     "output_type": "execute_result"
    }
   ],
   "source": [
    "start_date.day"
   ]
  },
  {
   "cell_type": "code",
   "execution_count": 16,
   "metadata": {},
   "outputs": [],
   "source": [
    "from datetime import timedelta"
   ]
  },
  {
   "cell_type": "code",
   "execution_count": 17,
   "metadata": {},
   "outputs": [],
   "source": [
    "td = timedelta(days=30)"
   ]
  },
  {
   "cell_type": "code",
   "execution_count": 18,
   "metadata": {},
   "outputs": [
    {
     "data": {
      "text/plain": [
       "datetime.datetime(2023, 8, 16, 0, 0)"
      ]
     },
     "execution_count": 18,
     "metadata": {},
     "output_type": "execute_result"
    }
   ],
   "source": [
    "start_date + td"
   ]
  },
  {
   "cell_type": "code",
   "execution_count": 19,
   "metadata": {},
   "outputs": [
    {
     "data": {
      "text/plain": [
       "datetime.datetime(2024, 7, 11, 0, 0)"
      ]
     },
     "execution_count": 19,
     "metadata": {},
     "output_type": "execute_result"
    }
   ],
   "source": [
    "start_date + 12*td"
   ]
  },
  {
   "cell_type": "code",
   "execution_count": 20,
   "metadata": {},
   "outputs": [
    {
     "data": {
      "text/plain": [
       "datetime.datetime(2023, 7, 31, 0, 0)"
      ]
     },
     "execution_count": 20,
     "metadata": {},
     "output_type": "execute_result"
    }
   ],
   "source": [
    "string_fecha = \"2023.07.31\"\n",
    "datetime.strptime(string_fecha, \"%Y.%m.%d\")"
   ]
  },
  {
   "cell_type": "code",
   "execution_count": 21,
   "metadata": {},
   "outputs": [
    {
     "data": {
      "text/plain": [
       "datetime.datetime(2023, 7, 31, 11, 59)"
      ]
     },
     "execution_count": 21,
     "metadata": {},
     "output_type": "execute_result"
    }
   ],
   "source": [
    "string_fecha = \"2023.07.31 11:59\"\n",
    "datetime.strptime(string_fecha, \"%Y.%m.%d %H:%M\")"
   ]
  },
  {
   "cell_type": "markdown",
   "metadata": {
    "slideshow": {
     "slide_type": "slide"
    }
   },
   "source": [
    "<h3 style=\"color:crimson\"> Ejercicio </h3>\n",
    "\n",
    "1. Crea la función `timestep(init_date, n)` tal que, dada una fecha inicial y $n$ días de duración, calcule la fecha hábil final corriendo la fecha un día después al final de $n$ días si  cae en una fecha inhábil o en fin de semana. Para lograr esto, lee el archivo `../files/lec07/holidays.txt`\n",
    "\n",
    "Considera cualquier fecha entre 1/1/10 y 12/25/50.\n",
    "\n",
    "```python\n",
    ">>> timestep(datetime(2009, 12, 31), 1)\n",
    "datetime.datetime(2010, 1, 4, 0, 0)\n",
    "\n",
    ">>> timestep(datetime(2009, 12, 31), 2)\n",
    "datetime.datetime(2010, 1, 4, 0, 0)\n",
    "\n",
    ">>> timestep(datetime(2017, 12, 26), 4)\n",
    "datetime.datetime(2018, 1, 2, 0, 0)\n",
    "\n",
    ">>> timestep(datetime(2018, 2, 19), 2)\n",
    "datetime.datetime(2018, 2, 21, 0, 0)\n",
    "```\n",
    "\n",
    "2. Usando el archivo `6m_rates.csv`, crear el diccionario `tasas` donde las llaves sean las fechas (`datetime.datetime`) y los valores (`float`) las tasas a esa fecha.\n",
    "```python\n",
    ">>>tasas[datetime(2017, 2, 1)]\n",
    "2.58\n",
    ">>>tasas[datetime(2013, 4, 1)]\n",
    "1.9\n",
    "```\n",
    "\n",
    "3. Crear una función `tasa_compuesta` que, para una tasa nominal fija compuesta $n$ veces en un año, calcule el valor del nominal para cada periodo $k = 0,\\ldots, n$. \n",
    "```python\n",
    "def tasa_compuesta(inicio_periodo, nominal, tasa_nominal, n_periodos, path=\".\"):\n",
    "    pass\n",
    "```\n",
    "La función debe regresar un archivo `.csv` de nombre `cap_n.csv`; donde `n` es el número de veces de capitalización en un año."
   ]
  },
  {
   "cell_type": "code",
   "execution_count": 33,
   "metadata": {},
   "outputs": [
    {
     "name": "stdout",
     "output_type": "stream",
     "text": [
      "2023-02-06 00:00:00\n",
      "2023-03-20 00:00:00\n",
      "2023-04-06 00:00:00\n",
      "2023-04-07 00:00:00\n",
      "2023-05-01 00:00:00\n",
      "2023-11-02 00:00:00\n",
      "2023-11-20 00:00:00\n",
      "2023-12-12 00:00:00\n",
      "2023-12-25 00:00:00\n"
     ]
    }
   ],
   "source": [
    "# Ejercicio 1\n",
    "with open(\"files/lec07/holidays.txt\") as f:\n",
    "    holidays = f.readlines()\n",
    "\n",
    "for i in range(len(holidays)):\n",
    "    holidays[i] = datetime.strptime(holidays[i].strip(), \"%Y-%m-%d\")\n",
    "\n",
    "for dt in holidays:\n",
    "    print(dt)"
   ]
  },
  {
   "cell_type": "code",
   "execution_count": 32,
   "metadata": {},
   "outputs": [],
   "source": [
    "def timestep(init_date, n):\n",
    "    end_date = init_date + timedelta(days=n)\n",
    "    while (end_date in holidays) or (end_date.weekday() in (5,6)):\n",
    "        end_date = end_date + timedelta(days=1)\n",
    "    return end_date"
   ]
  },
  {
   "cell_type": "code",
   "execution_count": 34,
   "metadata": {},
   "outputs": [
    {
     "data": {
      "text/plain": [
       "datetime.datetime(2024, 7, 16, 0, 0)"
      ]
     },
     "execution_count": 34,
     "metadata": {},
     "output_type": "execute_result"
    }
   ],
   "source": [
    "timestep(datetime(2023,7,17), 365)"
   ]
  },
  {
   "cell_type": "code",
   "execution_count": 35,
   "metadata": {},
   "outputs": [
    {
     "data": {
      "text/plain": [
       "datetime.datetime(2025, 7, 17, 0, 0)"
      ]
     },
     "execution_count": 35,
     "metadata": {},
     "output_type": "execute_result"
    }
   ],
   "source": [
    "timestep(datetime(2024,7,17), 365)"
   ]
  },
  {
   "cell_type": "code",
   "execution_count": 36,
   "metadata": {},
   "outputs": [
    {
     "data": {
      "text/plain": [
       "datetime.datetime(2023, 4, 10, 0, 0)"
      ]
     },
     "execution_count": 36,
     "metadata": {},
     "output_type": "execute_result"
    }
   ],
   "source": [
    "timestep(datetime(2023,4,5), 1)"
   ]
  },
  {
   "cell_type": "markdown",
   "metadata": {
    "slideshow": {
     "slide_type": "slide"
    }
   },
   "source": [
    "## OS"
   ]
  },
  {
   "cell_type": "code",
   "execution_count": 37,
   "metadata": {},
   "outputs": [],
   "source": [
    "import os"
   ]
  },
  {
   "cell_type": "code",
   "execution_count": 38,
   "metadata": {},
   "outputs": [
    {
     "data": {
      "text/plain": [
       "'C:\\\\Users\\\\PatricioGarcia\\\\OneDrive - Adenza\\\\Documentos\\\\My Documents\\\\Analysic\\\\Python 2023-06-12\\\\intro_python'"
      ]
     },
     "execution_count": 38,
     "metadata": {},
     "output_type": "execute_result"
    }
   ],
   "source": [
    "# El directorio en el que nos encontramos 'parados'\n",
    "os.getcwd()"
   ]
  },
  {
   "cell_type": "code",
   "execution_count": 39,
   "metadata": {},
   "outputs": [
    {
     "data": {
      "text/plain": [
       "['.git',\n",
       " '.ipynb_checkpoints',\n",
       " 'files',\n",
       " 'lec01.ipynb',\n",
       " 'lec02.ipynb',\n",
       " 'lec03.ipynb',\n",
       " 'lec04.ipynb',\n",
       " 'lec05.ipynb',\n",
       " 'lec06.ipynb',\n",
       " 'lec07.ipynb',\n",
       " 'nuevo_archivo.txt']"
      ]
     },
     "execution_count": 39,
     "metadata": {},
     "output_type": "execute_result"
    }
   ],
   "source": [
    "# Listar todos los elementos que se encuentran en el cwd\n",
    "os.listdir(\".\")"
   ]
  },
  {
   "cell_type": "code",
   "execution_count": 40,
   "metadata": {},
   "outputs": [
    {
     "data": {
      "text/plain": [
       "['debate.gif',\n",
       " 'gd.gif',\n",
       " 'k_learn.gif',\n",
       " 'lec06',\n",
       " 'lec07',\n",
       " 'prg01.png',\n",
       " 'prg02.png',\n",
       " 'sentiment.png',\n",
       " 'simulation.png']"
      ]
     },
     "execution_count": 40,
     "metadata": {},
     "output_type": "execute_result"
    }
   ],
   "source": [
    "# Listar todos los elementos que se encuentran en el cwd\n",
    "os.listdir(\"files\")"
   ]
  },
  {
   "cell_type": "code",
   "execution_count": 41,
   "metadata": {},
   "outputs": [
    {
     "data": {
      "text/plain": [
       "['debate.gif',\n",
       " 'gd.gif',\n",
       " 'k_learn.gif',\n",
       " 'lec06',\n",
       " 'lec07',\n",
       " 'prg01.png',\n",
       " 'prg02.png',\n",
       " 'sentiment.png',\n",
       " 'simulation.png']"
      ]
     },
     "execution_count": 41,
     "metadata": {},
     "output_type": "execute_result"
    }
   ],
   "source": [
    "os.listdir(\"C:/Users/PatricioGarcia/OneDrive - Adenza/Documentos/My Documents/Analysic/Python 2023-06-12/intro_python/files\")"
   ]
  },
  {
   "cell_type": "code",
   "execution_count": 42,
   "metadata": {},
   "outputs": [
    {
     "name": "stdout",
     "output_type": "stream",
     "text": [
      "C:/Users/PatricioGarcia/OneDrive - Adenza/Documentos/My Documents/Analysic/Python 2023-06-12/intro_python/prueba_lec07\n"
     ]
    }
   ],
   "source": [
    "parent = \"C:/Users/PatricioGarcia/OneDrive - Adenza/Documentos/My Documents/Analysic/Python 2023-06-12/intro_python/\"\n",
    "nueva_carpeta = \"prueba_lec07\"\n",
    "\n",
    "# Para crear un nuevo path\n",
    "path = os.path.join(parent, nueva_carpeta)\n",
    "print(path)"
   ]
  },
  {
   "cell_type": "code",
   "execution_count": 43,
   "metadata": {},
   "outputs": [],
   "source": [
    "# Para crear una nueva carpeta\n",
    "os.mkdir(path)"
   ]
  },
  {
   "cell_type": "code",
   "execution_count": 44,
   "metadata": {},
   "outputs": [
    {
     "data": {
      "text/plain": [
       "['.git',\n",
       " '.ipynb_checkpoints',\n",
       " 'files',\n",
       " 'lec01.ipynb',\n",
       " 'lec02.ipynb',\n",
       " 'lec03.ipynb',\n",
       " 'lec04.ipynb',\n",
       " 'lec05.ipynb',\n",
       " 'lec06.ipynb',\n",
       " 'lec07.ipynb',\n",
       " 'nuevo_archivo.txt',\n",
       " 'prueba_lec07']"
      ]
     },
     "execution_count": 44,
     "metadata": {},
     "output_type": "execute_result"
    }
   ],
   "source": [
    "os.listdir(\".\")"
   ]
  },
  {
   "cell_type": "code",
   "execution_count": 45,
   "metadata": {},
   "outputs": [
    {
     "name": "stdout",
     "output_type": "stream",
     "text": [
      "Directorio actual: .\n",
      "Carpetas: ['.git', '.ipynb_checkpoints', 'files', 'prueba_lec07']\n",
      "Archivos: ['lec01.ipynb', 'lec02.ipynb', 'lec03.ipynb', 'lec04.ipynb', 'lec05.ipynb', 'lec06.ipynb', 'lec07.ipynb', 'nuevo_archivo.txt']\n",
      "---------------------\n",
      "Directorio actual: .\\.git\n",
      "Carpetas: ['hooks', 'info', 'objects', 'refs']\n",
      "Archivos: ['config', 'description', 'HEAD', 'index']\n",
      "---------------------\n",
      "Directorio actual: .\\.git\\hooks\n",
      "Carpetas: []\n",
      "Archivos: ['applypatch-msg.sample', 'commit-msg.sample', 'fsmonitor-watchman.sample', 'post-update.sample', 'pre-applypatch.sample', 'pre-commit.sample', 'pre-merge-commit.sample', 'pre-push.sample', 'pre-rebase.sample', 'pre-receive.sample', 'prepare-commit-msg.sample', 'push-to-checkout.sample', 'update.sample']\n",
      "---------------------\n",
      "Directorio actual: .\\.git\\info\n",
      "Carpetas: []\n",
      "Archivos: ['exclude']\n",
      "---------------------\n",
      "Directorio actual: .\\.git\\objects\n",
      "Carpetas: ['81', '87', '9c', 'b2', 'd7', 'fd', 'info', 'pack']\n",
      "Archivos: []\n",
      "---------------------\n",
      "Directorio actual: .\\.git\\objects\\81\n",
      "Carpetas: []\n",
      "Archivos: ['48062ae7ca775841d5d4fe9e7bd43ad08b3e63']\n",
      "---------------------\n",
      "Directorio actual: .\\.git\\objects\\87\n",
      "Carpetas: []\n",
      "Archivos: ['4fdd80d6f88ce271ce921e5c46390c41b6b9ab']\n",
      "---------------------\n",
      "Directorio actual: .\\.git\\objects\\9c\n",
      "Carpetas: []\n",
      "Archivos: ['a58686e4e8cfcfbeb265ce47cc8e8b0e7dd8d9']\n",
      "---------------------\n",
      "Directorio actual: .\\.git\\objects\\b2\n",
      "Carpetas: []\n",
      "Archivos: ['2846d4bfccf1c55b7852f735ba34342c2e4f86']\n",
      "---------------------\n",
      "Directorio actual: .\\.git\\objects\\d7\n",
      "Carpetas: []\n",
      "Archivos: ['b35e72404b6244823f8ddaa9202de6e68804f8']\n",
      "---------------------\n",
      "Directorio actual: .\\.git\\objects\\fd\n",
      "Carpetas: []\n",
      "Archivos: ['2e79defecca905258131b3cde734dd129d10c0']\n",
      "---------------------\n",
      "Directorio actual: .\\.git\\objects\\info\n",
      "Carpetas: []\n",
      "Archivos: []\n",
      "---------------------\n",
      "Directorio actual: .\\.git\\objects\\pack\n",
      "Carpetas: []\n",
      "Archivos: []\n",
      "---------------------\n",
      "Directorio actual: .\\.git\\refs\n",
      "Carpetas: ['heads', 'tags']\n",
      "Archivos: []\n",
      "---------------------\n",
      "Directorio actual: .\\.git\\refs\\heads\n",
      "Carpetas: []\n",
      "Archivos: []\n",
      "---------------------\n",
      "Directorio actual: .\\.git\\refs\\tags\n",
      "Carpetas: []\n",
      "Archivos: []\n",
      "---------------------\n",
      "Directorio actual: .\\.ipynb_checkpoints\n",
      "Carpetas: []\n",
      "Archivos: ['lec01-checkpoint.ipynb', 'lec02-checkpoint.ipynb', 'lec03-checkpoint.ipynb', 'lec04-checkpoint.ipynb', 'lec05-checkpoint.ipynb', 'lec06-checkpoint.ipynb', 'lec07-checkpoint.ipynb']\n",
      "---------------------\n",
      "Directorio actual: .\\files\n",
      "Carpetas: ['lec06', 'lec07']\n",
      "Archivos: ['debate.gif', 'gd.gif', 'k_learn.gif', 'prg01.png', 'prg02.png', 'sentiment.png', 'simulation.png']\n",
      "---------------------\n",
      "Directorio actual: .\\files\\lec06\n",
      "Carpetas: []\n",
      "Archivos: ['texto.txt']\n",
      "---------------------\n",
      "Directorio actual: .\\files\\lec07\n",
      "Carpetas: []\n",
      "Archivos: ['holidays.txt']\n",
      "---------------------\n",
      "Directorio actual: .\\prueba_lec07\n",
      "Carpetas: []\n",
      "Archivos: []\n",
      "---------------------\n"
     ]
    }
   ],
   "source": [
    "for directorio, carpetas, archivos in os.walk('.'): #cwd\n",
    "    print('Directorio actual:', directorio)\n",
    "    print('Carpetas:', carpetas)\n",
    "    print('Archivos:', archivos)\n",
    "    print('---------------------')"
   ]
  },
  {
   "cell_type": "markdown",
   "metadata": {},
   "source": [
    "## Collections ## "
   ]
  },
  {
   "cell_type": "code",
   "execution_count": 46,
   "metadata": {},
   "outputs": [],
   "source": [
    "import collections"
   ]
  },
  {
   "cell_type": "code",
   "execution_count": 47,
   "metadata": {},
   "outputs": [
    {
     "data": {
      "text/plain": [
       "Counter({'a': 2, 'b': 1, 'e': 2, 'c': 1, 'd': 1, 'r': 1, 'i': 1, 'o': 1})"
      ]
     },
     "execution_count": 47,
     "metadata": {},
     "output_type": "execute_result"
    }
   ],
   "source": [
    "# Counter -> contar elementos\n",
    "mi_string = \"abecedario\"\n",
    "\n",
    "collections.Counter(mi_string)"
   ]
  },
  {
   "cell_type": "code",
   "execution_count": 48,
   "metadata": {},
   "outputs": [
    {
     "data": {
      "text/plain": [
       "Counter({10: 3, 8: 4, 7: 1, 6: 3, 9: 2, 5: 2})"
      ]
     },
     "execution_count": 48,
     "metadata": {},
     "output_type": "execute_result"
    }
   ],
   "source": [
    "mi_lista = [10, 8, 7, 6, 9, 10, 5, 6, 8, 9, 10, 5, 6, 8, 8]\n",
    "\n",
    "collections.Counter(mi_lista)"
   ]
  },
  {
   "cell_type": "code",
   "execution_count": 49,
   "metadata": {},
   "outputs": [
    {
     "data": {
      "text/plain": [
       "Punto2D(x=10, y=5)"
      ]
     },
     "execution_count": 49,
     "metadata": {},
     "output_type": "execute_result"
    }
   ],
   "source": [
    "# Tupla con nombres\n",
    "punto_2d = collections.namedtuple(\"Punto2D\", [\"x\", \"y\"])\n",
    "\n",
    "un_punto = punto_2d(10, 5)\n",
    "un_punto"
   ]
  },
  {
   "cell_type": "code",
   "execution_count": 51,
   "metadata": {},
   "outputs": [
    {
     "data": {
      "text/plain": [
       "Punto2D(x=5.1, y=-7.3)"
      ]
     },
     "execution_count": 51,
     "metadata": {},
     "output_type": "execute_result"
    }
   ],
   "source": [
    "otro_punto = punto_2d(5.1, -7.3)\n",
    "otro_punto"
   ]
  },
  {
   "cell_type": "code",
   "execution_count": 54,
   "metadata": {
    "scrolled": true
   },
   "outputs": [
    {
     "name": "stdout",
     "output_type": "stream",
     "text": [
      "10\n",
      "5.1\n"
     ]
    }
   ],
   "source": [
    "print(un_punto.x)\n",
    "print(otro_punto.x)"
   ]
  },
  {
   "cell_type": "code",
   "execution_count": 55,
   "metadata": {},
   "outputs": [
    {
     "name": "stdout",
     "output_type": "stream",
     "text": [
      "5\n",
      "-7.3\n"
     ]
    }
   ],
   "source": [
    "print(un_punto.y)\n",
    "print(otro_punto.y)"
   ]
  },
  {
   "cell_type": "code",
   "execution_count": 56,
   "metadata": {},
   "outputs": [
    {
     "data": {
      "text/plain": [
       "Stock(Ticker='MSFT', Fecha='2023-17-07', Precio=105.5)"
      ]
     },
     "execution_count": 56,
     "metadata": {},
     "output_type": "execute_result"
    }
   ],
   "source": [
    "precio_accion = collections.namedtuple(\"Stock\", [\"Ticker\", \"Fecha\", \"Precio\"])\n",
    "msft_1 = precio_accion(\"MSFT\", \"2023-17-07\", 105.5)\n",
    "msft_1"
   ]
  },
  {
   "cell_type": "code",
   "execution_count": 57,
   "metadata": {},
   "outputs": [
    {
     "data": {
      "text/plain": [
       "105.5"
      ]
     },
     "execution_count": 57,
     "metadata": {},
     "output_type": "execute_result"
    }
   ],
   "source": [
    "msft_1.Precio"
   ]
  }
 ],
 "metadata": {
  "kernelspec": {
   "display_name": "Python 3 (ipykernel)",
   "language": "python",
   "name": "python3"
  },
  "language_info": {
   "codemirror_mode": {
    "name": "ipython",
    "version": 3
   },
   "file_extension": ".py",
   "mimetype": "text/x-python",
   "name": "python",
   "nbconvert_exporter": "python",
   "pygments_lexer": "ipython3",
   "version": "3.9.12"
  }
 },
 "nbformat": 4,
 "nbformat_minor": 2
}
