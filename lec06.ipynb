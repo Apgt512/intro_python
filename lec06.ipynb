{
 "cells": [
  {
   "cell_type": "markdown",
   "metadata": {},
   "source": [
    "<h1 style=\"color:#872325\">File I/O y Módulos</h1>"
   ]
  },
  {
   "cell_type": "markdown",
   "metadata": {},
   "source": [
    "En esta sección veremos como trabajar y manipular archivos desde python. Python viene incluido con una serie de librerías y funciones predefinidas que nos permiten trabajar con archivos. De esta manera, al correr un proceso, podemos guardar su resultado a un archivo o, en su defecto, leer el contenido del archivo a fin de trabajar con sus valores."
   ]
  },
  {
   "cell_type": "markdown",
   "metadata": {},
   "source": [
    "### `open`\n",
    "\n",
    "La función `open` nos permite abrir un archivo encontrado desde nuestra computadora. Con un archivo abierto, podemos escribir, leer, o añadir. \n",
    "\n",
    "**Es importante tener en cuenta en donde estamos trabajando y en donde se encuentra el archivo que queremos leer.**"
   ]
  },
  {
   "cell_type": "markdown",
   "metadata": {},
   "source": [
    "Actualmente me encuentro en el directorio"
   ]
  },
  {
   "cell_type": "code",
   "execution_count": 1,
   "metadata": {},
   "outputs": [
    {
     "data": {
      "text/plain": [
       "'C:\\\\Users\\\\PatricioGarcia\\\\OneDrive - Adenza\\\\Documentos\\\\My Documents\\\\Analysic\\\\Python 2023-06-12\\\\intro_python'"
      ]
     },
     "execution_count": 1,
     "metadata": {},
     "output_type": "execute_result"
    }
   ],
   "source": [
    "pwd"
   ]
  },
  {
   "cell_type": "markdown",
   "metadata": {},
   "source": [
    "El archivo que deseamos leer se llama `texto.txt`, el cual no se encuentra dentro de la carpeta actual"
   ]
  },
  {
   "cell_type": "code",
   "execution_count": 2,
   "metadata": {},
   "outputs": [
    {
     "name": "stdout",
     "output_type": "stream",
     "text": [
      " Volume in drive C has no label.\n",
      " Volume Serial Number is AAF5-5553\n",
      "\n",
      " Directory of C:\\Users\\PatricioGarcia\\OneDrive - Adenza\\Documentos\\My Documents\\Analysic\\Python 2023-06-12\\intro_python\n",
      "\n",
      "06/29/2023  05:31 PM    <DIR>          .\n",
      "06/29/2023  05:31 PM    <DIR>          ..\n",
      "06/28/2023  03:37 PM    <DIR>          .ipynb_checkpoints\n",
      "06/28/2023  03:40 PM    <DIR>          files\n",
      "06/19/2023  06:56 PM            97,735 lec01.ipynb\n",
      "06/20/2023  05:46 PM           158,510 lec02.ipynb\n",
      "06/22/2023  06:21 PM            40,697 lec03.ipynb\n",
      "06/28/2023  12:13 PM            45,080 lec04.ipynb\n",
      "06/29/2023  05:30 PM            68,822 lec05.ipynb\n",
      "06/29/2023  05:31 PM            13,422 lec06.ipynb\n",
      "               6 File(s)        424,266 bytes\n",
      "               4 Dir(s)  540,851,429,376 bytes free\n"
     ]
    }
   ],
   "source": [
    "ls"
   ]
  },
  {
   "cell_type": "markdown",
   "metadata": {},
   "source": [
    "Sabiendo la ruta al archivo a leer, existen dos maneras de acceder directamente al archivo sin necesidad de modificar el directorio en donde estamos trabajando.\n",
    "\n",
    "En este ejemplo, el archivo a leer se encuentra dentro de  \n",
    "`C:\\Users\\PatricioGarcia\\OneDrive - Adenza\\Documentos\\My Documents\\Analysic\\Python 2023-06-12\\intro_python\\files\\lec06`"
   ]
  },
  {
   "cell_type": "markdown",
   "metadata": {},
   "source": [
    "**Referencia Absoluta**  \n",
    "La primera manera es llegar al archivo desedo considerando toda la ruta hasta el archivo a leer  \n",
    "`C:\\Users\\PatricioGarcia\\OneDrive - Adenza\\Documentos\\My Documents\\Analysic\\Python 2023-06-12\\intro_python\\files\\lec06`"
   ]
  },
  {
   "cell_type": "markdown",
   "metadata": {},
   "source": [
    "**Referencia Relativa**  \n",
    "La segunda manera es especificando, relativo a nuestro directorio, hacía donde nos vamos a mover. Abajo se muestra el diagrama del proyecto.\n",
    "```\n",
    ".\n",
    "├── README.md\n",
    "├── files\n",
    "│   ├── lec01\n",
    "│   │   ├── hello.py\n",
    "│   │   ├── hw_script.png\n",
    "│   │   └── hw_terminal.png\n",
    "│   ├── lec02\n",
    "│   │   ├── prg01.png\n",
    "│   │   └── prg02.png\n",
    "│   ├── lec06\n",
    "│   │   ├── mun_cdmx.csv\n",
    "│   │   └── texto.txt\n",
    "│   └── misc\n",
    "│       └── logo.gif\n",
    "└── notas\n",
    "    ├── lec01.ipynb\n",
    "    ├── lec02.ipynb\n",
    "    ├── lec03.ipynb\n",
    "    ├── lec04.ipynb\n",
    "    ├── lec05.ipynb\n",
    "    ├── lec06.ipynb\n",
    "    └── lec07.ipynb\n",
    "```\n",
    "\n",
    "\n",
    " Nos encontramos actualmente dentro la carpeta `notas`. Si quisieramos llegar a la carpeta `lec06` dentro de `files`, tendríamos que *retroceder* una carpeta para luego acceder a `files`.\n",
    " \n",
    " Retrocedemos una carpeta de manera *relativa* por medio de `..`. En otras palabras, si quisieramos acceder al archivo `texto.txt` de manera relativa, la ruta sería  \n",
    "`../files/lec06/texto.txt`"
   ]
  },
  {
   "cell_type": "markdown",
   "metadata": {},
   "source": [
    "### ...de regreso a `open` (leyendo archivos)\n",
    "\n",
    "Abrimos y leemos un archivo en Python con la función `open` cuyo primer argumento es la ruta del archivo a a acceder.\n",
    "\n",
    "```python\n",
    "open(file, mode='r', buffering=-1, encoding=None, errors=None, newline=None, closefd=True, opener=None)\n",
    "```"
   ]
  },
  {
   "cell_type": "code",
   "execution_count": null,
   "metadata": {},
   "outputs": [],
   "source": [
    "ruta_archivo = \"../files/lec06/texto.txt\"\n",
    "\n",
    "f = open(ruta_archivo)\n",
    "f"
   ]
  },
  {
   "cell_type": "code",
   "execution_count": null,
   "metadata": {},
   "outputs": [],
   "source": [
    "type(f)"
   ]
  },
  {
   "cell_type": "markdown",
   "metadata": {},
   "source": [
    "El resultado de abrir un archivo es un `file object` sobre el cual podemos manipular antes de visualizar el contenido del archivo. Dependiendo del *modo* seleccionado para trabajar con el archivo, `f` toma diferentes propiedades. Por *default* el modo es *r* (read), sin embargo, existen diferentes modos de trabajo. Enunciaremos los más comunes abajo.\n",
    "\n",
    "* `r`: leer (default)\n",
    "* `w`: escribir\n",
    "* `a`: escribir. Agrega información al final del archivo si este ya existe\n",
    "* `b`: binario. Para trabajar con archivos binarios, e.g., excel"
   ]
  },
  {
   "cell_type": "code",
   "execution_count": null,
   "metadata": {},
   "outputs": [],
   "source": [
    "# Leemos los contenidos del archivo\n",
    "f.read()"
   ]
  },
  {
   "cell_type": "markdown",
   "metadata": {},
   "source": [
    "Para evitar posibles conflictos en el archivo, es importante cerrarlo una vez que se haya terminado de utilizar"
   ]
  },
  {
   "cell_type": "code",
   "execution_count": null,
   "metadata": {},
   "outputs": [],
   "source": [
    "f.close()"
   ]
  },
  {
   "cell_type": "markdown",
   "metadata": {},
   "source": [
    "Una vez abierto un archivo es imprescindible cerrarlo. Para tener un poco más de legibilidad y no olvidar cerrar el archivo, se puede hacer uso del *keyword* `with` que abre un archivo dentro de un bloque de texto para posteiormente cerrarlo.\n",
    "\n",
    "El keywork `with` toma un objeto (en nuestro caso un lector de archivos) que incluya dos métodos: `.open` y `.close`. Python se encarga de abrir y cerrar el archivo.\n",
    "\n",
    "\n",
    "```python\n",
    "with open(filename, mode) as f:\n",
    "    <manipulación del archivo>\n",
    "```"
   ]
  },
  {
   "cell_type": "code",
   "execution_count": null,
   "metadata": {},
   "outputs": [],
   "source": []
  },
  {
   "cell_type": "markdown",
   "metadata": {},
   "source": [
    "Si tratamos de volver a leer el archivo, el siguiente error nos aparece:\n",
    "```python\n",
    ">>> f.read()\n",
    "ValueError                                Traceback (most recent call last)\n",
    "<ipython-input-24-873bb1270d85> in <module>()\n",
    "      1 # Si tratamos y\n",
    "----> 2 f.read()\n",
    "\n",
    "ValueError: I/O operation on closed file.\n",
    "```\n",
    "El cuál anuncia que el archivo ha sido cerrado"
   ]
  },
  {
   "cell_type": "markdown",
   "metadata": {},
   "source": [
    "### Escribiendo Archivos\n",
    "El modo `\"w\"` dentro de `open` nos permite crear nuevos archivos. La sintáxis sería la siguiente\n",
    "```python\n",
    "open(filename, \"w\")\n",
    "```"
   ]
  },
  {
   "cell_type": "code",
   "execution_count": null,
   "metadata": {},
   "outputs": [],
   "source": [
    "with open(ruta_archivo, \"w\") as my_file:\n",
    "    for i in range(10):\n",
    "        my_file.write(str(i) + \"\\n\")"
   ]
  },
  {
   "cell_type": "markdown",
   "metadata": {},
   "source": [
    "**Notas**  \n",
    "* El código anterior escribió un caracter después de otro.\n",
    "* Fue necesario convertir nuestro `int` a un `str` para poder escribir su valor"
   ]
  },
  {
   "cell_type": "markdown",
   "metadata": {},
   "source": [
    "## Módulos\n",
    "\n",
    "Un modulo  es un archivo escrito en python con funciones, clases, etc. Python contiene una librería *estándard* que contiene diferentes funciones o clases. Para hace uso de estas librerías, es necesario importarlas."
   ]
  },
  {
   "cell_type": "markdown",
   "metadata": {},
   "source": [
    "**Dos maneras de importar librerias en Python**\n",
    "```python\n",
    "import libreria\n",
    "from libreria import modulo\n",
    "```"
   ]
  },
  {
   "cell_type": "markdown",
   "metadata": {},
   "source": [
    "La primera manera de cargar una libreria es importar el nombre de la libreria. Para poder acceder a un elemento de la libería de esta manera es necesario acceder a este como `libreria.elemento`"
   ]
  },
  {
   "cell_type": "code",
   "execution_count": null,
   "metadata": {},
   "outputs": [],
   "source": []
  },
  {
   "cell_type": "markdown",
   "metadata": {},
   "source": [
    "Para poder ver los elementos que dependen de una libreria (o cualquier función) usamos la función `dir`."
   ]
  },
  {
   "cell_type": "code",
   "execution_count": null,
   "metadata": {},
   "outputs": [],
   "source": []
  },
  {
   "cell_type": "markdown",
   "metadata": {},
   "source": [
    "Si deseamos solo un objecto de un módulo, podemos importar el objecto sin importar toda la librería usando \n",
    "```python\n",
    "from modulo import objecto\n",
    "```"
   ]
  },
  {
   "cell_type": "code",
   "execution_count": null,
   "metadata": {},
   "outputs": [],
   "source": []
  },
  {
   "cell_type": "markdown",
   "metadata": {
    "slideshow": {
     "slide_type": "slide"
    }
   },
   "source": [
    "## Datetime "
   ]
  },
  {
   "cell_type": "code",
   "execution_count": null,
   "metadata": {},
   "outputs": [],
   "source": [
    "from datetime import datetime"
   ]
  },
  {
   "cell_type": "markdown",
   "metadata": {
    "slideshow": {
     "slide_type": "slide"
    }
   },
   "source": [
    "Dando formato a las fechas. Documentación en:\n",
    "\n",
    "https://docs.python.org/3/library/datetime.html?highlight=datetime#strftime-and-strptime-behavior"
   ]
  },
  {
   "cell_type": "code",
   "execution_count": null,
   "metadata": {},
   "outputs": [],
   "source": []
  },
  {
   "cell_type": "markdown",
   "metadata": {
    "slideshow": {
     "slide_type": "slide"
    }
   },
   "source": [
    "<h3 style=\"color:crimson\"> Ejercicio </h3>\n",
    "\n",
    "1. Crea la función `timestep(init_date, n)` tal que, dada una fecha inicial y $n$ días de duración, calcule la fecha hábil final corriendo la fecha un día después al final de $n$ días si  cae en una fecha inhábil o en fin de semana. Para lograr esto, lee el archivo `../files/lec07/holidays.txt`\n",
    "\n",
    "Considera cualquier fecha entre 1/1/10 y 12/25/50.\n",
    "\n",
    "```python\n",
    ">>> timestep(datetime(2009, 12, 31), 1)\n",
    "datetime.datetime(2010, 1, 4, 0, 0)\n",
    "\n",
    ">>> timestep(datetime(2009, 12, 31), 2)\n",
    "datetime.datetime(2010, 1, 4, 0, 0)\n",
    "\n",
    ">>> timestep(datetime(2017, 12, 26), 4)\n",
    "datetime.datetime(2018, 1, 2, 0, 0)\n",
    "\n",
    ">>> timestep(datetime(2018, 2, 19), 2)\n",
    "datetime.datetime(2018, 2, 21, 0, 0)\n",
    "```\n",
    "\n",
    "2. Usando el archivo `6m_rates.csv`, crear el diccionario `tasas` donde las llaves sean las fechas (`datetime.datetime`) y los valores (`float`) las tasas a esa fecha.\n",
    "```python\n",
    ">>>tasas[datetime(2017, 2, 1)]\n",
    "2.58\n",
    ">>>tasas[datetime(2013, 4, 1)]\n",
    "1.9\n",
    "```\n",
    "\n",
    "3. Crear una función `tasa_compuesta` que, para una tasa nominal fija compuesta $n$ veces en un año, calcule el valor del nominal para cada periodo $k = 0,\\ldots, n$. \n",
    "```python\n",
    "def tasa_compuesta(inicio_periodo, nominal, tasa_nominal, n_periodos, path=\".\"):\n",
    "    pass\n",
    "```\n",
    "La función debe regresar un archivo `.csv` de nombre `cap_n.csv`; donde `n` es el número de veces de capitalización en un año."
   ]
  },
  {
   "cell_type": "code",
   "execution_count": null,
   "metadata": {},
   "outputs": [],
   "source": []
  },
  {
   "cell_type": "markdown",
   "metadata": {
    "slideshow": {
     "slide_type": "slide"
    }
   },
   "source": [
    "## OS"
   ]
  },
  {
   "cell_type": "code",
   "execution_count": null,
   "metadata": {},
   "outputs": [],
   "source": [
    "import os"
   ]
  },
  {
   "cell_type": "markdown",
   "metadata": {},
   "source": [
    "## Collections ## "
   ]
  },
  {
   "cell_type": "code",
   "execution_count": null,
   "metadata": {},
   "outputs": [],
   "source": [
    "import collections"
   ]
  }
 ],
 "metadata": {
  "kernelspec": {
   "display_name": "Python 3 (ipykernel)",
   "language": "python",
   "name": "python3"
  },
  "language_info": {
   "codemirror_mode": {
    "name": "ipython",
    "version": 3
   },
   "file_extension": ".py",
   "mimetype": "text/x-python",
   "name": "python",
   "nbconvert_exporter": "python",
   "pygments_lexer": "ipython3",
   "version": "3.9.12"
  }
 },
 "nbformat": 4,
 "nbformat_minor": 2
}
